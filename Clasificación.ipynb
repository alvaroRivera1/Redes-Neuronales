{
  "cells": [
    {
      "cell_type": "markdown",
      "metadata": {
        "id": "fHsoemuc6tjf"
      },
      "source": [
        "#**Inteligencia artificial**\n",
        "##**Proyecto de unidad I - Junio, 2023**\n",
        "\n",
        "---\n",
        "\n"
      ]
    },
    {
      "cell_type": "markdown",
      "metadata": {
        "id": "Z8twY-ke7idh"
      },
      "source": [
        ">**Integrantes**\n",
        "*   Anselmo César Farfan Pajuelo\n",
        "*   Jean Carlos Escobar Arcaya\n",
        "*   Johan Marcos Condori Orellana\n",
        "*   Alvaro Alejandro Rivera Ramirez\n",
        "*   Romel Nelson Roy Melchor Rosas\n",
        "\n"
      ]
    },
    {
      "cell_type": "markdown",
      "metadata": {
        "id": "6dTR9Njm7q20"
      },
      "source": [
        "---\n",
        "Librerías del proyecto"
      ]
    },
    {
      "cell_type": "code",
      "execution_count": null,
      "metadata": {
        "id": "TOQKMjBvJTba"
      },
      "outputs": [],
      "source": [
        "import pandas as pd # Para lectura de datos inicial\n",
        "import numpy as np  # Para manejo de matrices con numpy\n",
        "import matplotlib.pyplot as plt\n",
        "import tensorflow as tf\n",
        "from scipy.io import arff # Para lectura de archivo .arff\n",
        "from sklearn.model_selection import train_test_split  # Para separar los conjunto de datos en evaluación y entrenamiento\n",
        "from sklearn.metrics import confusion_matrix #Para la matriz de confusión\n",
        "from keras.models import Sequential # Para el uso de modelos secuenciales\n",
        "from keras.layers import Dense  # Para establecer capas densas en el modelo"
      ]
    },
    {
      "cell_type": "markdown",
      "metadata": {
        "id": "MyRmYSZ49xRG"
      },
      "source": [
        "##**Clasificación**"
      ]
    },
    {
      "cell_type": "markdown",
      "metadata": {
        "id": "weovHOL2nmsS"
      },
      "source": [
        "### **Problema a resolver**\n",
        "\n",
        "Realizar un modelo que clasifique un sitio web en base a 30 atributos como \"Sitio de phishing\" o \"Sitio legítimo\"\n",
        "\n",
        "\n",
        "\n",
        "1.    having_IP_Address  { -1,1 }\n",
        "2.    URL_Length   { 1,0,-1 }\n",
        "3.    Shortining_Service { 1,-1 }\n",
        "4.    having_At_Symbol   { 1,-1 }\n",
        "5.    double_slash_redirecting { -1,1 }\n",
        "6.    Prefix_Suffix  { -1,1 }\n",
        "7.    having_Sub_Domain  { -1,0,1 }\n",
        "8.    SSLfinal_State  { -1,1,0 }\n",
        "9.    Domain_registeration_length { -1,1 }\n",
        "10.    Favicon { 1,-1 }\n",
        "11.    port { 1,-1 }\n",
        "12.    HTTPS_token { -1,1 }\n",
        "13.    Request_URL  { 1,-1 }\n",
        "14.    URL_of_Anchor { -1,0,1 }\n",
        "15.    Links_in_tags { 1,-1,0 }\n",
        "16.    SFH  { -1,1,0 }\n",
        "17.    Submitting_to_email { -1,1 }\n",
        "18.    Abnormal_URL { -1,1 }\n",
        "19.    Redirect  { 0,1 }\n",
        "20.    on_mouseover  { 1,-1 }\n",
        "21.    RightClick  { 1,-1 }\n",
        "22.    popUpWidnow  { 1,-1 }\n",
        "23.    Iframe { 1,-1 }\n",
        "24.    age_of_domain  { -1,1 }\n",
        "25.    DNSRecord   { -1,1 }\n",
        "26.    web_traffic  { -1,0,1 }\n",
        "27.    Page_Rank { -1,1 }\n",
        "28.    Google_Index { 1,-1 }\n",
        "29.    Links_pointing_to_page { 1,0,-1 }\n",
        "30.    Statistical_report { -1,1 }\n",
        "1.    Result  { -1,1 }\n",
        "\n",
        "\n",
        "\n",
        "\n",
        "> Se utilizara un clasificador binario, 30 neuronas de entrada y 1 de salida\n",
        "\n",
        "Modelo de clasificación binaria"
      ]
    },
    {
      "cell_type": "markdown",
      "metadata": {
        "id": "hQJsps64nkKJ"
      },
      "source": [
        "### **Procedimiento**"
      ]
    },
    {
      "cell_type": "markdown",
      "metadata": {
        "id": "cFB_hvqd9dwX"
      },
      "source": [
        "> Carga del data set en el espacio de trabajo"
      ]
    },
    {
      "cell_type": "code",
      "execution_count": null,
      "metadata": {
        "id": "r3w8sOtfMsUJ",
        "colab": {
          "base_uri": "https://localhost:8080/"
        },
        "outputId": "7f25f43e-2a25-4799-faaa-c0f057f214cd"
      },
      "outputs": [
        {
          "output_type": "stream",
          "name": "stdout",
          "text": [
            "Drive already mounted at /content/drive; to attempt to forcibly remount, call drive.mount(\"/content/drive\", force_remount=True).\n"
          ]
        },
        {
          "output_type": "execute_result",
          "data": {
            "text/plain": [
              "       having_IP_Address  URL_Length  Shortining_Service  having_At_Symbol  \\\n",
              "0                     -1           1                   1                 1   \n",
              "1                      1           1                   1                 1   \n",
              "2                      1           0                   1                 1   \n",
              "3                      1           0                   1                 1   \n",
              "4                      1           0                  -1                 1   \n",
              "...                  ...         ...                 ...               ...   \n",
              "11050                  1          -1                   1                -1   \n",
              "11051                 -1           1                   1                -1   \n",
              "11052                  1          -1                   1                 1   \n",
              "11053                 -1          -1                   1                 1   \n",
              "11054                 -1          -1                   1                 1   \n",
              "\n",
              "       double_slash_redirecting  Prefix_Suffix  having_Sub_Domain  \\\n",
              "0                            -1             -1                 -1   \n",
              "1                             1             -1                  0   \n",
              "2                             1             -1                 -1   \n",
              "3                             1             -1                 -1   \n",
              "4                             1             -1                  1   \n",
              "...                         ...            ...                ...   \n",
              "11050                         1              1                  1   \n",
              "11051                        -1             -1                  1   \n",
              "11052                         1             -1                  1   \n",
              "11053                         1             -1                 -1   \n",
              "11054                         1             -1                 -1   \n",
              "\n",
              "       SSLfinal_State  Domain_registeration_length  Favicon  ...  popUpWidnow  \\\n",
              "0                  -1                           -1        1  ...            1   \n",
              "1                   1                           -1        1  ...            1   \n",
              "2                  -1                           -1        1  ...            1   \n",
              "3                  -1                            1        1  ...            1   \n",
              "4                   1                           -1        1  ...           -1   \n",
              "...               ...                          ...      ...  ...          ...   \n",
              "11050               1                           -1       -1  ...           -1   \n",
              "11051              -1                           -1       -1  ...           -1   \n",
              "11052              -1                           -1        1  ...            1   \n",
              "11053              -1                            1       -1  ...           -1   \n",
              "11054              -1                            1        1  ...            1   \n",
              "\n",
              "       Iframe  age_of_domain  DNSRecord  web_traffic  Page_Rank  Google_Index  \\\n",
              "0           1             -1         -1           -1         -1             1   \n",
              "1           1             -1         -1            0         -1             1   \n",
              "2           1              1         -1            1         -1             1   \n",
              "3           1             -1         -1            1         -1             1   \n",
              "4           1             -1         -1            0         -1             1   \n",
              "...       ...            ...        ...          ...        ...           ...   \n",
              "11050      -1              1          1           -1         -1             1   \n",
              "11051       1              1          1            1          1             1   \n",
              "11052       1              1          1            1         -1             1   \n",
              "11053       1              1          1            1         -1             1   \n",
              "11054       1             -1          1           -1         -1            -1   \n",
              "\n",
              "       Links_pointing_to_page  Statistical_report  Result  \n",
              "0                           1                  -1      -1  \n",
              "1                           1                   1      -1  \n",
              "2                           0                  -1      -1  \n",
              "3                          -1                   1      -1  \n",
              "4                           1                   1       1  \n",
              "...                       ...                 ...     ...  \n",
              "11050                       1                   1       1  \n",
              "11051                      -1                   1      -1  \n",
              "11052                       0                   1      -1  \n",
              "11053                       1                   1      -1  \n",
              "11054                       1                  -1      -1  \n",
              "\n",
              "[11055 rows x 31 columns]"
            ],
            "text/html": [
              "\n",
              "  <div id=\"df-be11308f-1824-4787-a224-466e143b98dc\">\n",
              "    <div class=\"colab-df-container\">\n",
              "      <div>\n",
              "<style scoped>\n",
              "    .dataframe tbody tr th:only-of-type {\n",
              "        vertical-align: middle;\n",
              "    }\n",
              "\n",
              "    .dataframe tbody tr th {\n",
              "        vertical-align: top;\n",
              "    }\n",
              "\n",
              "    .dataframe thead th {\n",
              "        text-align: right;\n",
              "    }\n",
              "</style>\n",
              "<table border=\"1\" class=\"dataframe\">\n",
              "  <thead>\n",
              "    <tr style=\"text-align: right;\">\n",
              "      <th></th>\n",
              "      <th>having_IP_Address</th>\n",
              "      <th>URL_Length</th>\n",
              "      <th>Shortining_Service</th>\n",
              "      <th>having_At_Symbol</th>\n",
              "      <th>double_slash_redirecting</th>\n",
              "      <th>Prefix_Suffix</th>\n",
              "      <th>having_Sub_Domain</th>\n",
              "      <th>SSLfinal_State</th>\n",
              "      <th>Domain_registeration_length</th>\n",
              "      <th>Favicon</th>\n",
              "      <th>...</th>\n",
              "      <th>popUpWidnow</th>\n",
              "      <th>Iframe</th>\n",
              "      <th>age_of_domain</th>\n",
              "      <th>DNSRecord</th>\n",
              "      <th>web_traffic</th>\n",
              "      <th>Page_Rank</th>\n",
              "      <th>Google_Index</th>\n",
              "      <th>Links_pointing_to_page</th>\n",
              "      <th>Statistical_report</th>\n",
              "      <th>Result</th>\n",
              "    </tr>\n",
              "  </thead>\n",
              "  <tbody>\n",
              "    <tr>\n",
              "      <th>0</th>\n",
              "      <td>-1</td>\n",
              "      <td>1</td>\n",
              "      <td>1</td>\n",
              "      <td>1</td>\n",
              "      <td>-1</td>\n",
              "      <td>-1</td>\n",
              "      <td>-1</td>\n",
              "      <td>-1</td>\n",
              "      <td>-1</td>\n",
              "      <td>1</td>\n",
              "      <td>...</td>\n",
              "      <td>1</td>\n",
              "      <td>1</td>\n",
              "      <td>-1</td>\n",
              "      <td>-1</td>\n",
              "      <td>-1</td>\n",
              "      <td>-1</td>\n",
              "      <td>1</td>\n",
              "      <td>1</td>\n",
              "      <td>-1</td>\n",
              "      <td>-1</td>\n",
              "    </tr>\n",
              "    <tr>\n",
              "      <th>1</th>\n",
              "      <td>1</td>\n",
              "      <td>1</td>\n",
              "      <td>1</td>\n",
              "      <td>1</td>\n",
              "      <td>1</td>\n",
              "      <td>-1</td>\n",
              "      <td>0</td>\n",
              "      <td>1</td>\n",
              "      <td>-1</td>\n",
              "      <td>1</td>\n",
              "      <td>...</td>\n",
              "      <td>1</td>\n",
              "      <td>1</td>\n",
              "      <td>-1</td>\n",
              "      <td>-1</td>\n",
              "      <td>0</td>\n",
              "      <td>-1</td>\n",
              "      <td>1</td>\n",
              "      <td>1</td>\n",
              "      <td>1</td>\n",
              "      <td>-1</td>\n",
              "    </tr>\n",
              "    <tr>\n",
              "      <th>2</th>\n",
              "      <td>1</td>\n",
              "      <td>0</td>\n",
              "      <td>1</td>\n",
              "      <td>1</td>\n",
              "      <td>1</td>\n",
              "      <td>-1</td>\n",
              "      <td>-1</td>\n",
              "      <td>-1</td>\n",
              "      <td>-1</td>\n",
              "      <td>1</td>\n",
              "      <td>...</td>\n",
              "      <td>1</td>\n",
              "      <td>1</td>\n",
              "      <td>1</td>\n",
              "      <td>-1</td>\n",
              "      <td>1</td>\n",
              "      <td>-1</td>\n",
              "      <td>1</td>\n",
              "      <td>0</td>\n",
              "      <td>-1</td>\n",
              "      <td>-1</td>\n",
              "    </tr>\n",
              "    <tr>\n",
              "      <th>3</th>\n",
              "      <td>1</td>\n",
              "      <td>0</td>\n",
              "      <td>1</td>\n",
              "      <td>1</td>\n",
              "      <td>1</td>\n",
              "      <td>-1</td>\n",
              "      <td>-1</td>\n",
              "      <td>-1</td>\n",
              "      <td>1</td>\n",
              "      <td>1</td>\n",
              "      <td>...</td>\n",
              "      <td>1</td>\n",
              "      <td>1</td>\n",
              "      <td>-1</td>\n",
              "      <td>-1</td>\n",
              "      <td>1</td>\n",
              "      <td>-1</td>\n",
              "      <td>1</td>\n",
              "      <td>-1</td>\n",
              "      <td>1</td>\n",
              "      <td>-1</td>\n",
              "    </tr>\n",
              "    <tr>\n",
              "      <th>4</th>\n",
              "      <td>1</td>\n",
              "      <td>0</td>\n",
              "      <td>-1</td>\n",
              "      <td>1</td>\n",
              "      <td>1</td>\n",
              "      <td>-1</td>\n",
              "      <td>1</td>\n",
              "      <td>1</td>\n",
              "      <td>-1</td>\n",
              "      <td>1</td>\n",
              "      <td>...</td>\n",
              "      <td>-1</td>\n",
              "      <td>1</td>\n",
              "      <td>-1</td>\n",
              "      <td>-1</td>\n",
              "      <td>0</td>\n",
              "      <td>-1</td>\n",
              "      <td>1</td>\n",
              "      <td>1</td>\n",
              "      <td>1</td>\n",
              "      <td>1</td>\n",
              "    </tr>\n",
              "    <tr>\n",
              "      <th>...</th>\n",
              "      <td>...</td>\n",
              "      <td>...</td>\n",
              "      <td>...</td>\n",
              "      <td>...</td>\n",
              "      <td>...</td>\n",
              "      <td>...</td>\n",
              "      <td>...</td>\n",
              "      <td>...</td>\n",
              "      <td>...</td>\n",
              "      <td>...</td>\n",
              "      <td>...</td>\n",
              "      <td>...</td>\n",
              "      <td>...</td>\n",
              "      <td>...</td>\n",
              "      <td>...</td>\n",
              "      <td>...</td>\n",
              "      <td>...</td>\n",
              "      <td>...</td>\n",
              "      <td>...</td>\n",
              "      <td>...</td>\n",
              "      <td>...</td>\n",
              "    </tr>\n",
              "    <tr>\n",
              "      <th>11050</th>\n",
              "      <td>1</td>\n",
              "      <td>-1</td>\n",
              "      <td>1</td>\n",
              "      <td>-1</td>\n",
              "      <td>1</td>\n",
              "      <td>1</td>\n",
              "      <td>1</td>\n",
              "      <td>1</td>\n",
              "      <td>-1</td>\n",
              "      <td>-1</td>\n",
              "      <td>...</td>\n",
              "      <td>-1</td>\n",
              "      <td>-1</td>\n",
              "      <td>1</td>\n",
              "      <td>1</td>\n",
              "      <td>-1</td>\n",
              "      <td>-1</td>\n",
              "      <td>1</td>\n",
              "      <td>1</td>\n",
              "      <td>1</td>\n",
              "      <td>1</td>\n",
              "    </tr>\n",
              "    <tr>\n",
              "      <th>11051</th>\n",
              "      <td>-1</td>\n",
              "      <td>1</td>\n",
              "      <td>1</td>\n",
              "      <td>-1</td>\n",
              "      <td>-1</td>\n",
              "      <td>-1</td>\n",
              "      <td>1</td>\n",
              "      <td>-1</td>\n",
              "      <td>-1</td>\n",
              "      <td>-1</td>\n",
              "      <td>...</td>\n",
              "      <td>-1</td>\n",
              "      <td>1</td>\n",
              "      <td>1</td>\n",
              "      <td>1</td>\n",
              "      <td>1</td>\n",
              "      <td>1</td>\n",
              "      <td>1</td>\n",
              "      <td>-1</td>\n",
              "      <td>1</td>\n",
              "      <td>-1</td>\n",
              "    </tr>\n",
              "    <tr>\n",
              "      <th>11052</th>\n",
              "      <td>1</td>\n",
              "      <td>-1</td>\n",
              "      <td>1</td>\n",
              "      <td>1</td>\n",
              "      <td>1</td>\n",
              "      <td>-1</td>\n",
              "      <td>1</td>\n",
              "      <td>-1</td>\n",
              "      <td>-1</td>\n",
              "      <td>1</td>\n",
              "      <td>...</td>\n",
              "      <td>1</td>\n",
              "      <td>1</td>\n",
              "      <td>1</td>\n",
              "      <td>1</td>\n",
              "      <td>1</td>\n",
              "      <td>-1</td>\n",
              "      <td>1</td>\n",
              "      <td>0</td>\n",
              "      <td>1</td>\n",
              "      <td>-1</td>\n",
              "    </tr>\n",
              "    <tr>\n",
              "      <th>11053</th>\n",
              "      <td>-1</td>\n",
              "      <td>-1</td>\n",
              "      <td>1</td>\n",
              "      <td>1</td>\n",
              "      <td>1</td>\n",
              "      <td>-1</td>\n",
              "      <td>-1</td>\n",
              "      <td>-1</td>\n",
              "      <td>1</td>\n",
              "      <td>-1</td>\n",
              "      <td>...</td>\n",
              "      <td>-1</td>\n",
              "      <td>1</td>\n",
              "      <td>1</td>\n",
              "      <td>1</td>\n",
              "      <td>1</td>\n",
              "      <td>-1</td>\n",
              "      <td>1</td>\n",
              "      <td>1</td>\n",
              "      <td>1</td>\n",
              "      <td>-1</td>\n",
              "    </tr>\n",
              "    <tr>\n",
              "      <th>11054</th>\n",
              "      <td>-1</td>\n",
              "      <td>-1</td>\n",
              "      <td>1</td>\n",
              "      <td>1</td>\n",
              "      <td>1</td>\n",
              "      <td>-1</td>\n",
              "      <td>-1</td>\n",
              "      <td>-1</td>\n",
              "      <td>1</td>\n",
              "      <td>1</td>\n",
              "      <td>...</td>\n",
              "      <td>1</td>\n",
              "      <td>1</td>\n",
              "      <td>-1</td>\n",
              "      <td>1</td>\n",
              "      <td>-1</td>\n",
              "      <td>-1</td>\n",
              "      <td>-1</td>\n",
              "      <td>1</td>\n",
              "      <td>-1</td>\n",
              "      <td>-1</td>\n",
              "    </tr>\n",
              "  </tbody>\n",
              "</table>\n",
              "<p>11055 rows × 31 columns</p>\n",
              "</div>\n",
              "      <button class=\"colab-df-convert\" onclick=\"convertToInteractive('df-be11308f-1824-4787-a224-466e143b98dc')\"\n",
              "              title=\"Convert this dataframe to an interactive table.\"\n",
              "              style=\"display:none;\">\n",
              "        \n",
              "  <svg xmlns=\"http://www.w3.org/2000/svg\" height=\"24px\"viewBox=\"0 0 24 24\"\n",
              "       width=\"24px\">\n",
              "    <path d=\"M0 0h24v24H0V0z\" fill=\"none\"/>\n",
              "    <path d=\"M18.56 5.44l.94 2.06.94-2.06 2.06-.94-2.06-.94-.94-2.06-.94 2.06-2.06.94zm-11 1L8.5 8.5l.94-2.06 2.06-.94-2.06-.94L8.5 2.5l-.94 2.06-2.06.94zm10 10l.94 2.06.94-2.06 2.06-.94-2.06-.94-.94-2.06-.94 2.06-2.06.94z\"/><path d=\"M17.41 7.96l-1.37-1.37c-.4-.4-.92-.59-1.43-.59-.52 0-1.04.2-1.43.59L10.3 9.45l-7.72 7.72c-.78.78-.78 2.05 0 2.83L4 21.41c.39.39.9.59 1.41.59.51 0 1.02-.2 1.41-.59l7.78-7.78 2.81-2.81c.8-.78.8-2.07 0-2.86zM5.41 20L4 18.59l7.72-7.72 1.47 1.35L5.41 20z\"/>\n",
              "  </svg>\n",
              "      </button>\n",
              "      \n",
              "  <style>\n",
              "    .colab-df-container {\n",
              "      display:flex;\n",
              "      flex-wrap:wrap;\n",
              "      gap: 12px;\n",
              "    }\n",
              "\n",
              "    .colab-df-convert {\n",
              "      background-color: #E8F0FE;\n",
              "      border: none;\n",
              "      border-radius: 50%;\n",
              "      cursor: pointer;\n",
              "      display: none;\n",
              "      fill: #1967D2;\n",
              "      height: 32px;\n",
              "      padding: 0 0 0 0;\n",
              "      width: 32px;\n",
              "    }\n",
              "\n",
              "    .colab-df-convert:hover {\n",
              "      background-color: #E2EBFA;\n",
              "      box-shadow: 0px 1px 2px rgba(60, 64, 67, 0.3), 0px 1px 3px 1px rgba(60, 64, 67, 0.15);\n",
              "      fill: #174EA6;\n",
              "    }\n",
              "\n",
              "    [theme=dark] .colab-df-convert {\n",
              "      background-color: #3B4455;\n",
              "      fill: #D2E3FC;\n",
              "    }\n",
              "\n",
              "    [theme=dark] .colab-df-convert:hover {\n",
              "      background-color: #434B5C;\n",
              "      box-shadow: 0px 1px 3px 1px rgba(0, 0, 0, 0.15);\n",
              "      filter: drop-shadow(0px 1px 2px rgba(0, 0, 0, 0.3));\n",
              "      fill: #FFFFFF;\n",
              "    }\n",
              "  </style>\n",
              "\n",
              "      <script>\n",
              "        const buttonEl =\n",
              "          document.querySelector('#df-be11308f-1824-4787-a224-466e143b98dc button.colab-df-convert');\n",
              "        buttonEl.style.display =\n",
              "          google.colab.kernel.accessAllowed ? 'block' : 'none';\n",
              "\n",
              "        async function convertToInteractive(key) {\n",
              "          const element = document.querySelector('#df-be11308f-1824-4787-a224-466e143b98dc');\n",
              "          const dataTable =\n",
              "            await google.colab.kernel.invokeFunction('convertToInteractive',\n",
              "                                                     [key], {});\n",
              "          if (!dataTable) return;\n",
              "\n",
              "          const docLinkHtml = 'Like what you see? Visit the ' +\n",
              "            '<a target=\"_blank\" href=https://colab.research.google.com/notebooks/data_table.ipynb>data table notebook</a>'\n",
              "            + ' to learn more about interactive tables.';\n",
              "          element.innerHTML = '';\n",
              "          dataTable['output_type'] = 'display_data';\n",
              "          await google.colab.output.renderOutput(dataTable, element);\n",
              "          const docLink = document.createElement('div');\n",
              "          docLink.innerHTML = docLinkHtml;\n",
              "          element.appendChild(docLink);\n",
              "        }\n",
              "      </script>\n",
              "    </div>\n",
              "  </div>\n",
              "  "
            ]
          },
          "metadata": {},
          "execution_count": 55
        }
      ],
      "source": [
        "data, meta = arff.loadarff('/content/Training Dataset.arff')\n",
        "\n",
        "df = pd.DataFrame(data)\n",
        "\n",
        "df = df.applymap(lambda x: int(x.decode('utf-8')))\n",
        "data = df.values\n",
        "\n",
        "df"
      ]
    },
    {
      "cell_type": "markdown",
      "metadata": {
        "id": "tLZJs6jY9sDo"
      },
      "source": [
        "> Particionando el data set en sub conjuntos para evaluación y entrenamiento"
      ]
    },
    {
      "cell_type": "code",
      "execution_count": null,
      "metadata": {
        "id": "JkKas3TLR8F1"
      },
      "outputs": [],
      "source": [
        "x = data[:, :-1] # todas las filas, todas las columnas hasta < la última\n",
        "y = np.array(list(map(lambda x: x if x == 1 else 0, data[:, -1])))\n",
        "\n",
        "# Separando data set en entrenamiento y evaluación\n",
        "x_train, x_eval, y_train, y_eval = train_test_split(x, y, test_size=0.2, random_state=42)"
      ]
    },
    {
      "cell_type": "markdown",
      "source": [
        "#### **Modelo grande (8 -> 4 -> 2 -> 1)**"
      ],
      "metadata": {
        "id": "LRGvrfsHN8sb"
      }
    },
    {
      "cell_type": "markdown",
      "source": [
        "##### **Elaboración**"
      ],
      "metadata": {
        "id": "dryt37OQOfJA"
      }
    },
    {
      "cell_type": "markdown",
      "source": [
        "> 1. Construyendo el modelo"
      ],
      "metadata": {
        "id": "fKr89-5IN_Qx"
      }
    },
    {
      "cell_type": "code",
      "source": [
        "model_lg = Sequential([\n",
        "    Dense(8, input_dim=30, activation='relu'),\n",
        "    Dense(4, activation='relu'),\n",
        "    Dense(2, activation='relu'),\n",
        "    Dense(1, activation='sigmoid')\n",
        "])"
      ],
      "metadata": {
        "id": "JR39w1tUOBFA"
      },
      "execution_count": null,
      "outputs": []
    },
    {
      "cell_type": "markdown",
      "source": [
        "> 2. Compilando el modelo"
      ],
      "metadata": {
        "id": "NWHDsBt6OFv2"
      }
    },
    {
      "cell_type": "code",
      "source": [
        "model_lg.compile(\n",
        "  loss='binary_crossentropy',\n",
        "  optimizer='adam',\n",
        "  metrics=['accuracy']\n",
        ")"
      ],
      "metadata": {
        "id": "Llbo6nnwOCTs"
      },
      "execution_count": null,
      "outputs": []
    },
    {
      "cell_type": "code",
      "source": [
        "history = model_lg.fit(x_train, y_train, validation_data=(x_eval, y_eval), epochs=100, batch_size=256)"
      ],
      "metadata": {
        "colab": {
          "base_uri": "https://localhost:8080/"
        },
        "id": "UYuX7w8bOINr",
        "outputId": "ff405830-f6f2-4ea4-df34-a70d1bbade83"
      },
      "execution_count": null,
      "outputs": [
        {
          "output_type": "stream",
          "name": "stdout",
          "text": [
            "Epoch 1/100\n",
            "35/35 [==============================] - 1s 9ms/step - loss: 0.6894 - accuracy: 0.5554 - val_loss: 0.6786 - val_accuracy: 0.5934\n",
            "Epoch 2/100\n",
            "35/35 [==============================] - 0s 4ms/step - loss: 0.6699 - accuracy: 0.6052 - val_loss: 0.6542 - val_accuracy: 0.6427\n",
            "Epoch 3/100\n",
            "35/35 [==============================] - 0s 4ms/step - loss: 0.6154 - accuracy: 0.7066 - val_loss: 0.5760 - val_accuracy: 0.7490\n",
            "Epoch 4/100\n",
            "35/35 [==============================] - 0s 4ms/step - loss: 0.5124 - accuracy: 0.8100 - val_loss: 0.4571 - val_accuracy: 0.8435\n",
            "Epoch 5/100\n",
            "35/35 [==============================] - 0s 4ms/step - loss: 0.3925 - accuracy: 0.8774 - val_loss: 0.3478 - val_accuracy: 0.8892\n",
            "Epoch 6/100\n",
            "35/35 [==============================] - 0s 4ms/step - loss: 0.3017 - accuracy: 0.9047 - val_loss: 0.2779 - val_accuracy: 0.9100\n",
            "Epoch 7/100\n",
            "35/35 [==============================] - 0s 4ms/step - loss: 0.2517 - accuracy: 0.9142 - val_loss: 0.2413 - val_accuracy: 0.9123\n",
            "Epoch 8/100\n",
            "35/35 [==============================] - 0s 4ms/step - loss: 0.2256 - accuracy: 0.9213 - val_loss: 0.2275 - val_accuracy: 0.9159\n",
            "Epoch 9/100\n",
            "35/35 [==============================] - 0s 4ms/step - loss: 0.2112 - accuracy: 0.9233 - val_loss: 0.2144 - val_accuracy: 0.9199\n",
            "Epoch 10/100\n",
            "35/35 [==============================] - 0s 4ms/step - loss: 0.2022 - accuracy: 0.9267 - val_loss: 0.2078 - val_accuracy: 0.9245\n",
            "Epoch 11/100\n",
            "35/35 [==============================] - 0s 4ms/step - loss: 0.1957 - accuracy: 0.9276 - val_loss: 0.2041 - val_accuracy: 0.9245\n",
            "Epoch 12/100\n",
            "35/35 [==============================] - 0s 4ms/step - loss: 0.1920 - accuracy: 0.9293 - val_loss: 0.2003 - val_accuracy: 0.9249\n",
            "Epoch 13/100\n",
            "35/35 [==============================] - 0s 4ms/step - loss: 0.1873 - accuracy: 0.9287 - val_loss: 0.1988 - val_accuracy: 0.9236\n",
            "Epoch 14/100\n",
            "35/35 [==============================] - 0s 4ms/step - loss: 0.1838 - accuracy: 0.9289 - val_loss: 0.1948 - val_accuracy: 0.9272\n",
            "Epoch 15/100\n",
            "35/35 [==============================] - 0s 4ms/step - loss: 0.1814 - accuracy: 0.9313 - val_loss: 0.1932 - val_accuracy: 0.9272\n",
            "Epoch 16/100\n",
            "35/35 [==============================] - 0s 4ms/step - loss: 0.1788 - accuracy: 0.9294 - val_loss: 0.1923 - val_accuracy: 0.9290\n",
            "Epoch 17/100\n",
            "35/35 [==============================] - 0s 4ms/step - loss: 0.1767 - accuracy: 0.9311 - val_loss: 0.1901 - val_accuracy: 0.9267\n",
            "Epoch 18/100\n",
            "35/35 [==============================] - 0s 5ms/step - loss: 0.1750 - accuracy: 0.9311 - val_loss: 0.1885 - val_accuracy: 0.9281\n",
            "Epoch 19/100\n",
            "35/35 [==============================] - 0s 4ms/step - loss: 0.1733 - accuracy: 0.9320 - val_loss: 0.1875 - val_accuracy: 0.9276\n",
            "Epoch 20/100\n",
            "35/35 [==============================] - 0s 5ms/step - loss: 0.1723 - accuracy: 0.9334 - val_loss: 0.1862 - val_accuracy: 0.9290\n",
            "Epoch 21/100\n",
            "35/35 [==============================] - 0s 4ms/step - loss: 0.1706 - accuracy: 0.9325 - val_loss: 0.1856 - val_accuracy: 0.9308\n",
            "Epoch 22/100\n",
            "35/35 [==============================] - 0s 4ms/step - loss: 0.1698 - accuracy: 0.9332 - val_loss: 0.1849 - val_accuracy: 0.9276\n",
            "Epoch 23/100\n",
            "35/35 [==============================] - 0s 4ms/step - loss: 0.1686 - accuracy: 0.9342 - val_loss: 0.1846 - val_accuracy: 0.9317\n",
            "Epoch 24/100\n",
            "35/35 [==============================] - 0s 3ms/step - loss: 0.1679 - accuracy: 0.9340 - val_loss: 0.1832 - val_accuracy: 0.9290\n",
            "Epoch 25/100\n",
            "35/35 [==============================] - 0s 4ms/step - loss: 0.1661 - accuracy: 0.9350 - val_loss: 0.1826 - val_accuracy: 0.9290\n",
            "Epoch 26/100\n",
            "35/35 [==============================] - 0s 4ms/step - loss: 0.1655 - accuracy: 0.9344 - val_loss: 0.1815 - val_accuracy: 0.9317\n",
            "Epoch 27/100\n",
            "35/35 [==============================] - 0s 5ms/step - loss: 0.1651 - accuracy: 0.9349 - val_loss: 0.1822 - val_accuracy: 0.9267\n",
            "Epoch 28/100\n",
            "35/35 [==============================] - 0s 4ms/step - loss: 0.1643 - accuracy: 0.9351 - val_loss: 0.1819 - val_accuracy: 0.9290\n",
            "Epoch 29/100\n",
            "35/35 [==============================] - 0s 4ms/step - loss: 0.1637 - accuracy: 0.9348 - val_loss: 0.1804 - val_accuracy: 0.9290\n",
            "Epoch 30/100\n",
            "35/35 [==============================] - 0s 4ms/step - loss: 0.1626 - accuracy: 0.9351 - val_loss: 0.1804 - val_accuracy: 0.9290\n",
            "Epoch 31/100\n",
            "35/35 [==============================] - 0s 5ms/step - loss: 0.1643 - accuracy: 0.9353 - val_loss: 0.1810 - val_accuracy: 0.9281\n",
            "Epoch 32/100\n",
            "35/35 [==============================] - 0s 4ms/step - loss: 0.1625 - accuracy: 0.9362 - val_loss: 0.1799 - val_accuracy: 0.9308\n",
            "Epoch 33/100\n",
            "35/35 [==============================] - 0s 4ms/step - loss: 0.1615 - accuracy: 0.9365 - val_loss: 0.1791 - val_accuracy: 0.9276\n",
            "Epoch 34/100\n",
            "35/35 [==============================] - 0s 4ms/step - loss: 0.1600 - accuracy: 0.9365 - val_loss: 0.1785 - val_accuracy: 0.9299\n",
            "Epoch 35/100\n",
            "35/35 [==============================] - 0s 4ms/step - loss: 0.1602 - accuracy: 0.9363 - val_loss: 0.1801 - val_accuracy: 0.9267\n",
            "Epoch 36/100\n",
            "35/35 [==============================] - 0s 4ms/step - loss: 0.1587 - accuracy: 0.9352 - val_loss: 0.1789 - val_accuracy: 0.9267\n",
            "Epoch 37/100\n",
            "35/35 [==============================] - 0s 4ms/step - loss: 0.1587 - accuracy: 0.9366 - val_loss: 0.1783 - val_accuracy: 0.9258\n",
            "Epoch 38/100\n",
            "35/35 [==============================] - 0s 4ms/step - loss: 0.1576 - accuracy: 0.9365 - val_loss: 0.1777 - val_accuracy: 0.9290\n",
            "Epoch 39/100\n",
            "35/35 [==============================] - 0s 3ms/step - loss: 0.1574 - accuracy: 0.9365 - val_loss: 0.1771 - val_accuracy: 0.9276\n",
            "Epoch 40/100\n",
            "35/35 [==============================] - 0s 4ms/step - loss: 0.1561 - accuracy: 0.9368 - val_loss: 0.1770 - val_accuracy: 0.9276\n",
            "Epoch 41/100\n",
            "35/35 [==============================] - 0s 4ms/step - loss: 0.1556 - accuracy: 0.9369 - val_loss: 0.1772 - val_accuracy: 0.9263\n",
            "Epoch 42/100\n",
            "35/35 [==============================] - 0s 3ms/step - loss: 0.1556 - accuracy: 0.9370 - val_loss: 0.1763 - val_accuracy: 0.9267\n",
            "Epoch 43/100\n",
            "35/35 [==============================] - 0s 4ms/step - loss: 0.1549 - accuracy: 0.9371 - val_loss: 0.1758 - val_accuracy: 0.9281\n",
            "Epoch 44/100\n",
            "35/35 [==============================] - 0s 4ms/step - loss: 0.1553 - accuracy: 0.9372 - val_loss: 0.1752 - val_accuracy: 0.9285\n",
            "Epoch 45/100\n",
            "35/35 [==============================] - 0s 4ms/step - loss: 0.1539 - accuracy: 0.9379 - val_loss: 0.1751 - val_accuracy: 0.9281\n",
            "Epoch 46/100\n",
            "35/35 [==============================] - 0s 3ms/step - loss: 0.1547 - accuracy: 0.9372 - val_loss: 0.1751 - val_accuracy: 0.9276\n",
            "Epoch 47/100\n",
            "35/35 [==============================] - 0s 4ms/step - loss: 0.1532 - accuracy: 0.9389 - val_loss: 0.1743 - val_accuracy: 0.9290\n",
            "Epoch 48/100\n",
            "35/35 [==============================] - 0s 4ms/step - loss: 0.1527 - accuracy: 0.9384 - val_loss: 0.1741 - val_accuracy: 0.9299\n",
            "Epoch 49/100\n",
            "35/35 [==============================] - 0s 4ms/step - loss: 0.1524 - accuracy: 0.9368 - val_loss: 0.1737 - val_accuracy: 0.9276\n",
            "Epoch 50/100\n",
            "35/35 [==============================] - 0s 4ms/step - loss: 0.1526 - accuracy: 0.9372 - val_loss: 0.1730 - val_accuracy: 0.9303\n",
            "Epoch 51/100\n",
            "35/35 [==============================] - 0s 4ms/step - loss: 0.1509 - accuracy: 0.9392 - val_loss: 0.1723 - val_accuracy: 0.9290\n",
            "Epoch 52/100\n",
            "35/35 [==============================] - 0s 4ms/step - loss: 0.1501 - accuracy: 0.9393 - val_loss: 0.1729 - val_accuracy: 0.9267\n",
            "Epoch 53/100\n",
            "35/35 [==============================] - 0s 3ms/step - loss: 0.1495 - accuracy: 0.9393 - val_loss: 0.1724 - val_accuracy: 0.9290\n",
            "Epoch 54/100\n",
            "35/35 [==============================] - 0s 3ms/step - loss: 0.1492 - accuracy: 0.9392 - val_loss: 0.1728 - val_accuracy: 0.9276\n",
            "Epoch 55/100\n",
            "35/35 [==============================] - 0s 4ms/step - loss: 0.1486 - accuracy: 0.9395 - val_loss: 0.1712 - val_accuracy: 0.9281\n",
            "Epoch 56/100\n",
            "35/35 [==============================] - 0s 4ms/step - loss: 0.1485 - accuracy: 0.9386 - val_loss: 0.1708 - val_accuracy: 0.9285\n",
            "Epoch 57/100\n",
            "35/35 [==============================] - 0s 7ms/step - loss: 0.1478 - accuracy: 0.9391 - val_loss: 0.1704 - val_accuracy: 0.9285\n",
            "Epoch 58/100\n",
            "35/35 [==============================] - 0s 5ms/step - loss: 0.1473 - accuracy: 0.9382 - val_loss: 0.1701 - val_accuracy: 0.9276\n",
            "Epoch 59/100\n",
            "35/35 [==============================] - 0s 5ms/step - loss: 0.1468 - accuracy: 0.9405 - val_loss: 0.1701 - val_accuracy: 0.9267\n",
            "Epoch 60/100\n",
            "35/35 [==============================] - 0s 5ms/step - loss: 0.1465 - accuracy: 0.9394 - val_loss: 0.1697 - val_accuracy: 0.9281\n",
            "Epoch 61/100\n",
            "35/35 [==============================] - 0s 5ms/step - loss: 0.1468 - accuracy: 0.9392 - val_loss: 0.1704 - val_accuracy: 0.9294\n",
            "Epoch 62/100\n",
            "35/35 [==============================] - 0s 6ms/step - loss: 0.1464 - accuracy: 0.9392 - val_loss: 0.1687 - val_accuracy: 0.9294\n",
            "Epoch 63/100\n",
            "35/35 [==============================] - 0s 7ms/step - loss: 0.1458 - accuracy: 0.9403 - val_loss: 0.1689 - val_accuracy: 0.9290\n",
            "Epoch 64/100\n",
            "35/35 [==============================] - 0s 8ms/step - loss: 0.1451 - accuracy: 0.9402 - val_loss: 0.1683 - val_accuracy: 0.9299\n",
            "Epoch 65/100\n",
            "35/35 [==============================] - 0s 6ms/step - loss: 0.1459 - accuracy: 0.9408 - val_loss: 0.1680 - val_accuracy: 0.9299\n",
            "Epoch 66/100\n",
            "35/35 [==============================] - 0s 6ms/step - loss: 0.1447 - accuracy: 0.9408 - val_loss: 0.1682 - val_accuracy: 0.9285\n",
            "Epoch 67/100\n",
            "35/35 [==============================] - 0s 6ms/step - loss: 0.1445 - accuracy: 0.9408 - val_loss: 0.1678 - val_accuracy: 0.9299\n",
            "Epoch 68/100\n",
            "35/35 [==============================] - 0s 6ms/step - loss: 0.1440 - accuracy: 0.9397 - val_loss: 0.1682 - val_accuracy: 0.9294\n",
            "Epoch 69/100\n",
            "35/35 [==============================] - 0s 8ms/step - loss: 0.1435 - accuracy: 0.9409 - val_loss: 0.1686 - val_accuracy: 0.9317\n",
            "Epoch 70/100\n",
            "35/35 [==============================] - 0s 7ms/step - loss: 0.1436 - accuracy: 0.9406 - val_loss: 0.1685 - val_accuracy: 0.9317\n",
            "Epoch 71/100\n",
            "35/35 [==============================] - 0s 6ms/step - loss: 0.1441 - accuracy: 0.9412 - val_loss: 0.1662 - val_accuracy: 0.9303\n",
            "Epoch 72/100\n",
            "35/35 [==============================] - 0s 6ms/step - loss: 0.1429 - accuracy: 0.9409 - val_loss: 0.1659 - val_accuracy: 0.9313\n",
            "Epoch 73/100\n",
            "35/35 [==============================] - 0s 7ms/step - loss: 0.1427 - accuracy: 0.9428 - val_loss: 0.1657 - val_accuracy: 0.9285\n",
            "Epoch 74/100\n",
            "35/35 [==============================] - 0s 5ms/step - loss: 0.1419 - accuracy: 0.9422 - val_loss: 0.1649 - val_accuracy: 0.9317\n",
            "Epoch 75/100\n",
            "35/35 [==============================] - 0s 5ms/step - loss: 0.1416 - accuracy: 0.9418 - val_loss: 0.1643 - val_accuracy: 0.9299\n",
            "Epoch 76/100\n",
            "35/35 [==============================] - 0s 5ms/step - loss: 0.1408 - accuracy: 0.9431 - val_loss: 0.1656 - val_accuracy: 0.9290\n",
            "Epoch 77/100\n",
            "35/35 [==============================] - 0s 4ms/step - loss: 0.1406 - accuracy: 0.9418 - val_loss: 0.1641 - val_accuracy: 0.9313\n",
            "Epoch 78/100\n",
            "35/35 [==============================] - 0s 3ms/step - loss: 0.1406 - accuracy: 0.9426 - val_loss: 0.1638 - val_accuracy: 0.9317\n",
            "Epoch 79/100\n",
            "35/35 [==============================] - 0s 4ms/step - loss: 0.1401 - accuracy: 0.9428 - val_loss: 0.1640 - val_accuracy: 0.9308\n",
            "Epoch 80/100\n",
            "35/35 [==============================] - 0s 4ms/step - loss: 0.1405 - accuracy: 0.9424 - val_loss: 0.1641 - val_accuracy: 0.9303\n",
            "Epoch 81/100\n",
            "35/35 [==============================] - 0s 3ms/step - loss: 0.1391 - accuracy: 0.9423 - val_loss: 0.1622 - val_accuracy: 0.9317\n",
            "Epoch 82/100\n",
            "35/35 [==============================] - 0s 4ms/step - loss: 0.1384 - accuracy: 0.9427 - val_loss: 0.1634 - val_accuracy: 0.9317\n",
            "Epoch 83/100\n",
            "35/35 [==============================] - 0s 3ms/step - loss: 0.1390 - accuracy: 0.9436 - val_loss: 0.1650 - val_accuracy: 0.9299\n",
            "Epoch 84/100\n",
            "35/35 [==============================] - 0s 4ms/step - loss: 0.1395 - accuracy: 0.9412 - val_loss: 0.1624 - val_accuracy: 0.9335\n",
            "Epoch 85/100\n",
            "35/35 [==============================] - 0s 4ms/step - loss: 0.1386 - accuracy: 0.9436 - val_loss: 0.1616 - val_accuracy: 0.9299\n",
            "Epoch 86/100\n",
            "35/35 [==============================] - 0s 3ms/step - loss: 0.1375 - accuracy: 0.9441 - val_loss: 0.1611 - val_accuracy: 0.9335\n",
            "Epoch 87/100\n",
            "35/35 [==============================] - 0s 4ms/step - loss: 0.1377 - accuracy: 0.9427 - val_loss: 0.1644 - val_accuracy: 0.9303\n",
            "Epoch 88/100\n",
            "35/35 [==============================] - 0s 4ms/step - loss: 0.1377 - accuracy: 0.9427 - val_loss: 0.1608 - val_accuracy: 0.9317\n",
            "Epoch 89/100\n",
            "35/35 [==============================] - 0s 3ms/step - loss: 0.1369 - accuracy: 0.9434 - val_loss: 0.1606 - val_accuracy: 0.9317\n",
            "Epoch 90/100\n",
            "35/35 [==============================] - 0s 4ms/step - loss: 0.1367 - accuracy: 0.9440 - val_loss: 0.1605 - val_accuracy: 0.9322\n",
            "Epoch 91/100\n",
            "35/35 [==============================] - 0s 4ms/step - loss: 0.1365 - accuracy: 0.9435 - val_loss: 0.1592 - val_accuracy: 0.9340\n",
            "Epoch 92/100\n",
            "35/35 [==============================] - 0s 3ms/step - loss: 0.1360 - accuracy: 0.9434 - val_loss: 0.1595 - val_accuracy: 0.9331\n",
            "Epoch 93/100\n",
            "35/35 [==============================] - 0s 3ms/step - loss: 0.1359 - accuracy: 0.9431 - val_loss: 0.1599 - val_accuracy: 0.9344\n",
            "Epoch 94/100\n",
            "35/35 [==============================] - 0s 4ms/step - loss: 0.1354 - accuracy: 0.9450 - val_loss: 0.1595 - val_accuracy: 0.9335\n",
            "Epoch 95/100\n",
            "35/35 [==============================] - 0s 3ms/step - loss: 0.1363 - accuracy: 0.9439 - val_loss: 0.1585 - val_accuracy: 0.9344\n",
            "Epoch 96/100\n",
            "35/35 [==============================] - 0s 4ms/step - loss: 0.1361 - accuracy: 0.9424 - val_loss: 0.1598 - val_accuracy: 0.9349\n",
            "Epoch 97/100\n",
            "35/35 [==============================] - 0s 3ms/step - loss: 0.1355 - accuracy: 0.9428 - val_loss: 0.1587 - val_accuracy: 0.9358\n",
            "Epoch 98/100\n",
            "35/35 [==============================] - 0s 3ms/step - loss: 0.1359 - accuracy: 0.9420 - val_loss: 0.1581 - val_accuracy: 0.9344\n",
            "Epoch 99/100\n",
            "35/35 [==============================] - 0s 3ms/step - loss: 0.1347 - accuracy: 0.9436 - val_loss: 0.1580 - val_accuracy: 0.9349\n",
            "Epoch 100/100\n",
            "35/35 [==============================] - 0s 4ms/step - loss: 0.1343 - accuracy: 0.9441 - val_loss: 0.1587 - val_accuracy: 0.9358\n"
          ]
        }
      ]
    },
    {
      "cell_type": "markdown",
      "source": [
        "##### **Evaluación**"
      ],
      "metadata": {
        "id": "g5wUhW4ZOKLP"
      }
    },
    {
      "cell_type": "markdown",
      "source": [
        "> 3. Evaluando el modelo"
      ],
      "metadata": {
        "id": "FKzNpw4jONck"
      }
    },
    {
      "cell_type": "code",
      "source": [
        "_, accuracy = model_lg.evaluate(x_eval, y_eval)\n",
        "print(\"Accuracy: {:.2f}%\".format(accuracy * 100))"
      ],
      "metadata": {
        "colab": {
          "base_uri": "https://localhost:8080/"
        },
        "id": "60JibUfsOKxd",
        "outputId": "8655e89c-8dbc-44de-82e3-efec07c760c7"
      },
      "execution_count": null,
      "outputs": [
        {
          "output_type": "stream",
          "name": "stdout",
          "text": [
            "70/70 [==============================] - 0s 1ms/step - loss: 0.1587 - accuracy: 0.9358\n",
            "Accuracy: 93.58%\n"
          ]
        }
      ]
    },
    {
      "cell_type": "markdown",
      "source": [
        "> 4. Gráfico de historial de error"
      ],
      "metadata": {
        "id": "BLae33uCOPRL"
      }
    },
    {
      "cell_type": "code",
      "source": [
        "history.history.keys()"
      ],
      "metadata": {
        "colab": {
          "base_uri": "https://localhost:8080/"
        },
        "id": "8aazBBGQORbC",
        "outputId": "935fe543-0c9a-4e73-f461-a6b51b1e6877"
      },
      "execution_count": null,
      "outputs": [
        {
          "output_type": "execute_result",
          "data": {
            "text/plain": [
              "dict_keys(['loss', 'accuracy', 'val_loss', 'val_accuracy'])"
            ]
          },
          "metadata": {},
          "execution_count": 61
        }
      ]
    },
    {
      "cell_type": "code",
      "source": [
        "plt.title(\"Gráfica de loss\")\n",
        "plt.xlabel(\"Época\")\n",
        "plt.ylabel(\"Loss\")\n",
        "plt.plot(history.history[\"loss\"])\n",
        "plt.plot(history.history[\"val_loss\"])\n",
        "plt.legend([\"Entrenamiento\", \"Validación\"], loc=\"upper right\")"
      ],
      "metadata": {
        "colab": {
          "base_uri": "https://localhost:8080/"
        },
        "id": "ZiOUtEawOUCe",
        "outputId": "a6f7a6de-642f-450f-c4b9-52199a85e6c0"
      },
      "execution_count": null,
      "outputs": [
        {
          "output_type": "execute_result",
          "data": {
            "text/plain": [
              "<matplotlib.legend.Legend at 0x7f0e2ea77520>"
            ]
          },
          "metadata": {},
          "execution_count": 62
        },
        {
          "output_type": "display_data",
          "data": {
            "text/plain": [
              "<Figure size 640x480 with 1 Axes>"
            ],
            "image/png": "[encoded data removed]"
          },
          "metadata": {}
        }
      ]
    },
    {
      "cell_type": "markdown",
      "source": [
        "> 5. Gráfico de historial de Accuracy"
      ],
      "metadata": {
        "id": "P9YXKLyrOWay"
      }
    },
    {
      "cell_type": "code",
      "source": [
        "plt.title(\"Gráfica de accuracy\")\n",
        "plt.xlabel(\"Época\")\n",
        "plt.ylabel(\"Accuracy\")\n",
        "plt.plot(history.history[\"accuracy\"])\n",
        "plt.plot(history.history[\"val_accuracy\"])\n",
        "plt.legend([\"Entrenamiento\", \"Validación\"], loc=\"lower right\")"
      ],
      "metadata": {
        "colab": {
          "base_uri": "https://localhost:8080/"
        },
        "id": "6ee7w58nOW_w",
        "outputId": "72b518cd-e3a4-4fba-cec8-dd85a9947d18"
      },
      "execution_count": null,
      "outputs": [
        {
          "output_type": "execute_result",
          "data": {
            "text/plain": [
              "<matplotlib.legend.Legend at 0x7f0e2eabac20>"
            ]
          },
          "metadata": {},
          "execution_count": 63
        },
        {
          "output_type": "display_data",
          "data": {
            "text/plain": [
              "<Figure size 640x480 with 1 Axes>"
            ],
            "image/png": "[encoded data removed]"
          },
          "metadata": {}
        }
      ]
    },
    {
      "cell_type": "markdown",
      "source": [
        "> 6. Matriz de consistencia"
      ],
      "metadata": {
        "id": "WR6r9PshObuo"
      }
    },
    {
      "cell_type": "code",
      "source": [
        "y_pred = model_lg.predict(x_eval)\n",
        "y_pred = tf.round(y_pred)\n",
        "\n",
        "matriz_confusion = confusion_matrix(y_eval, y_pred)\n",
        "print(matriz_confusion)"
      ],
      "metadata": {
        "colab": {
          "base_uri": "https://localhost:8080/"
        },
        "id": "vbOjNaVhOZoK",
        "outputId": "9cd38068-ff52-49f6-deb5-6f0d741c4649"
      },
      "execution_count": null,
      "outputs": [
        {
          "output_type": "stream",
          "name": "stdout",
          "text": [
            "70/70 [==============================] - 0s 2ms/step\n",
            "[[ 869   87]\n",
            " [  55 1200]]\n"
          ]
        }
      ]
    },
    {
      "cell_type": "markdown",
      "source": [
        "#### **Modelo mediano (4 -> 2 -> 1)**"
      ],
      "metadata": {
        "id": "TWjH4vnrOv2U"
      }
    },
    {
      "cell_type": "markdown",
      "source": [
        "##### **Elaboración**"
      ],
      "metadata": {
        "id": "vpo900RwOz-V"
      }
    },
    {
      "cell_type": "code",
      "source": [
        "model_md = Sequential([\n",
        "    Dense(4, input_dim=30, activation='relu'),\n",
        "    Dense(2, activation='relu'),\n",
        "    Dense(1, activation='sigmoid')\n",
        "])\n",
        "\n",
        "model_md.compile(\n",
        "  loss='binary_crossentropy',\n",
        "  optimizer='adam',\n",
        "  metrics=['accuracy']\n",
        ")\n",
        "\n",
        "history = model_md.fit(x_train, y_train, validation_data=(x_eval, y_eval), epochs=100, batch_size=128)"
      ],
      "metadata": {
        "colab": {
          "base_uri": "https://localhost:8080/"
        },
        "id": "i4G0kFHAO2D5",
        "outputId": "fcb8af28-4f49-48a2-af4c-f3a6210351bb"
      },
      "execution_count": null,
      "outputs": [
        {
          "output_type": "stream",
          "name": "stdout",
          "text": [
            "Epoch 1/100\n",
            "70/70 [==============================] - 2s 9ms/step - loss: 0.6873 - accuracy: 0.5370 - val_loss: 0.6445 - val_accuracy: 0.5997\n",
            "Epoch 2/100\n",
            "70/70 [==============================] - 0s 5ms/step - loss: 0.6191 - accuracy: 0.6367 - val_loss: 0.5874 - val_accuracy: 0.6852\n",
            "Epoch 3/100\n",
            "70/70 [==============================] - 0s 4ms/step - loss: 0.5572 - accuracy: 0.7316 - val_loss: 0.5127 - val_accuracy: 0.7657\n",
            "Epoch 4/100\n",
            "70/70 [==============================] - 0s 4ms/step - loss: 0.4807 - accuracy: 0.8080 - val_loss: 0.4407 - val_accuracy: 0.8462\n",
            "Epoch 5/100\n",
            "70/70 [==============================] - 0s 4ms/step - loss: 0.4209 - accuracy: 0.8726 - val_loss: 0.3953 - val_accuracy: 0.8874\n",
            "Epoch 6/100\n",
            "70/70 [==============================] - 0s 4ms/step - loss: 0.3824 - accuracy: 0.8987 - val_loss: 0.3645 - val_accuracy: 0.9077\n",
            "Epoch 7/100\n",
            "70/70 [==============================] - 0s 5ms/step - loss: 0.3560 - accuracy: 0.9121 - val_loss: 0.3439 - val_accuracy: 0.9163\n",
            "Epoch 8/100\n",
            "70/70 [==============================] - 0s 5ms/step - loss: 0.3366 - accuracy: 0.9202 - val_loss: 0.3289 - val_accuracy: 0.9159\n",
            "Epoch 9/100\n",
            "70/70 [==============================] - 0s 5ms/step - loss: 0.3223 - accuracy: 0.9225 - val_loss: 0.3171 - val_accuracy: 0.9190\n",
            "Epoch 10/100\n",
            "70/70 [==============================] - 0s 4ms/step - loss: 0.3100 - accuracy: 0.9237 - val_loss: 0.3077 - val_accuracy: 0.9199\n",
            "Epoch 11/100\n",
            "70/70 [==============================] - 0s 5ms/step - loss: 0.3005 - accuracy: 0.9271 - val_loss: 0.2993 - val_accuracy: 0.9218\n",
            "Epoch 12/100\n",
            "70/70 [==============================] - 0s 4ms/step - loss: 0.2916 - accuracy: 0.9264 - val_loss: 0.2917 - val_accuracy: 0.9227\n",
            "Epoch 13/100\n",
            "70/70 [==============================] - 0s 4ms/step - loss: 0.2835 - accuracy: 0.9272 - val_loss: 0.2855 - val_accuracy: 0.9209\n",
            "Epoch 14/100\n",
            "70/70 [==============================] - 0s 3ms/step - loss: 0.2766 - accuracy: 0.9274 - val_loss: 0.2797 - val_accuracy: 0.9245\n",
            "Epoch 15/100\n",
            "70/70 [==============================] - 0s 3ms/step - loss: 0.2707 - accuracy: 0.9298 - val_loss: 0.2740 - val_accuracy: 0.9258\n",
            "Epoch 16/100\n",
            "70/70 [==============================] - 0s 3ms/step - loss: 0.2650 - accuracy: 0.9305 - val_loss: 0.2690 - val_accuracy: 0.9263\n",
            "Epoch 17/100\n",
            "70/70 [==============================] - 0s 3ms/step - loss: 0.2595 - accuracy: 0.9311 - val_loss: 0.2643 - val_accuracy: 0.9258\n",
            "Epoch 18/100\n",
            "70/70 [==============================] - 0s 3ms/step - loss: 0.2547 - accuracy: 0.9319 - val_loss: 0.2605 - val_accuracy: 0.9258\n",
            "Epoch 19/100\n",
            "70/70 [==============================] - 0s 3ms/step - loss: 0.2501 - accuracy: 0.9325 - val_loss: 0.2561 - val_accuracy: 0.9258\n",
            "Epoch 20/100\n",
            "70/70 [==============================] - 0s 4ms/step - loss: 0.2461 - accuracy: 0.9320 - val_loss: 0.2523 - val_accuracy: 0.9276\n",
            "Epoch 21/100\n",
            "70/70 [==============================] - 0s 3ms/step - loss: 0.2424 - accuracy: 0.9337 - val_loss: 0.2491 - val_accuracy: 0.9276\n",
            "Epoch 22/100\n",
            "70/70 [==============================] - 0s 3ms/step - loss: 0.2382 - accuracy: 0.9326 - val_loss: 0.2457 - val_accuracy: 0.9276\n",
            "Epoch 23/100\n",
            "70/70 [==============================] - 0s 3ms/step - loss: 0.2349 - accuracy: 0.9334 - val_loss: 0.2421 - val_accuracy: 0.9272\n",
            "Epoch 24/100\n",
            "70/70 [==============================] - 0s 3ms/step - loss: 0.2318 - accuracy: 0.9333 - val_loss: 0.2391 - val_accuracy: 0.9285\n",
            "Epoch 25/100\n",
            "70/70 [==============================] - 0s 3ms/step - loss: 0.2284 - accuracy: 0.9327 - val_loss: 0.2360 - val_accuracy: 0.9294\n",
            "Epoch 26/100\n",
            "70/70 [==============================] - 0s 3ms/step - loss: 0.2255 - accuracy: 0.9325 - val_loss: 0.2334 - val_accuracy: 0.9290\n",
            "Epoch 27/100\n",
            "70/70 [==============================] - 0s 3ms/step - loss: 0.2231 - accuracy: 0.9322 - val_loss: 0.2318 - val_accuracy: 0.9317\n",
            "Epoch 28/100\n",
            "70/70 [==============================] - 0s 3ms/step - loss: 0.2199 - accuracy: 0.9334 - val_loss: 0.2288 - val_accuracy: 0.9303\n",
            "Epoch 29/100\n",
            "70/70 [==============================] - 0s 3ms/step - loss: 0.2181 - accuracy: 0.9333 - val_loss: 0.2269 - val_accuracy: 0.9308\n",
            "Epoch 30/100\n",
            "70/70 [==============================] - 0s 3ms/step - loss: 0.2151 - accuracy: 0.9334 - val_loss: 0.2251 - val_accuracy: 0.9294\n",
            "Epoch 31/100\n",
            "70/70 [==============================] - 0s 3ms/step - loss: 0.2137 - accuracy: 0.9325 - val_loss: 0.2229 - val_accuracy: 0.9299\n",
            "Epoch 32/100\n",
            "70/70 [==============================] - 0s 3ms/step - loss: 0.2111 - accuracy: 0.9336 - val_loss: 0.2220 - val_accuracy: 0.9308\n",
            "Epoch 33/100\n",
            "70/70 [==============================] - 0s 3ms/step - loss: 0.2092 - accuracy: 0.9332 - val_loss: 0.2196 - val_accuracy: 0.9276\n",
            "Epoch 34/100\n",
            "70/70 [==============================] - 0s 3ms/step - loss: 0.2071 - accuracy: 0.9343 - val_loss: 0.2180 - val_accuracy: 0.9303\n",
            "Epoch 35/100\n",
            "70/70 [==============================] - 0s 3ms/step - loss: 0.2051 - accuracy: 0.9333 - val_loss: 0.2163 - val_accuracy: 0.9294\n",
            "Epoch 36/100\n",
            "70/70 [==============================] - 0s 3ms/step - loss: 0.2039 - accuracy: 0.9349 - val_loss: 0.2142 - val_accuracy: 0.9322\n",
            "Epoch 37/100\n",
            "70/70 [==============================] - 0s 4ms/step - loss: 0.2018 - accuracy: 0.9343 - val_loss: 0.2130 - val_accuracy: 0.9303\n",
            "Epoch 38/100\n",
            "70/70 [==============================] - 0s 3ms/step - loss: 0.1998 - accuracy: 0.9342 - val_loss: 0.2111 - val_accuracy: 0.9303\n",
            "Epoch 39/100\n",
            "70/70 [==============================] - 0s 3ms/step - loss: 0.1983 - accuracy: 0.9342 - val_loss: 0.2094 - val_accuracy: 0.9303\n",
            "Epoch 40/100\n",
            "70/70 [==============================] - 0s 3ms/step - loss: 0.1960 - accuracy: 0.9349 - val_loss: 0.2094 - val_accuracy: 0.9317\n",
            "Epoch 41/100\n",
            "70/70 [==============================] - 0s 3ms/step - loss: 0.1951 - accuracy: 0.9361 - val_loss: 0.2062 - val_accuracy: 0.9322\n",
            "Epoch 42/100\n",
            "70/70 [==============================] - 0s 4ms/step - loss: 0.1925 - accuracy: 0.9363 - val_loss: 0.2040 - val_accuracy: 0.9331\n",
            "Epoch 43/100\n",
            "70/70 [==============================] - 0s 3ms/step - loss: 0.1910 - accuracy: 0.9359 - val_loss: 0.2030 - val_accuracy: 0.9317\n",
            "Epoch 44/100\n",
            "70/70 [==============================] - 0s 3ms/step - loss: 0.1885 - accuracy: 0.9362 - val_loss: 0.2002 - val_accuracy: 0.9349\n",
            "Epoch 45/100\n",
            "70/70 [==============================] - 0s 3ms/step - loss: 0.1868 - accuracy: 0.9369 - val_loss: 0.1986 - val_accuracy: 0.9349\n",
            "Epoch 46/100\n",
            "70/70 [==============================] - 0s 3ms/step - loss: 0.1855 - accuracy: 0.9372 - val_loss: 0.1974 - val_accuracy: 0.9344\n",
            "Epoch 47/100\n",
            "70/70 [==============================] - 0s 3ms/step - loss: 0.1839 - accuracy: 0.9369 - val_loss: 0.1963 - val_accuracy: 0.9335\n",
            "Epoch 48/100\n",
            "70/70 [==============================] - 0s 4ms/step - loss: 0.1828 - accuracy: 0.9383 - val_loss: 0.1935 - val_accuracy: 0.9340\n",
            "Epoch 49/100\n",
            "70/70 [==============================] - 0s 3ms/step - loss: 0.1815 - accuracy: 0.9378 - val_loss: 0.1929 - val_accuracy: 0.9340\n",
            "Epoch 50/100\n",
            "70/70 [==============================] - 0s 3ms/step - loss: 0.1798 - accuracy: 0.9379 - val_loss: 0.1909 - val_accuracy: 0.9353\n",
            "Epoch 51/100\n",
            "70/70 [==============================] - 0s 3ms/step - loss: 0.1786 - accuracy: 0.9388 - val_loss: 0.1895 - val_accuracy: 0.9353\n",
            "Epoch 52/100\n",
            "70/70 [==============================] - 0s 3ms/step - loss: 0.1774 - accuracy: 0.9386 - val_loss: 0.1893 - val_accuracy: 0.9349\n",
            "Epoch 53/100\n",
            "70/70 [==============================] - 0s 4ms/step - loss: 0.1759 - accuracy: 0.9387 - val_loss: 0.1870 - val_accuracy: 0.9353\n",
            "Epoch 54/100\n",
            "70/70 [==============================] - 0s 4ms/step - loss: 0.1741 - accuracy: 0.9389 - val_loss: 0.1859 - val_accuracy: 0.9353\n",
            "Epoch 55/100\n",
            "70/70 [==============================] - 0s 4ms/step - loss: 0.1731 - accuracy: 0.9400 - val_loss: 0.1846 - val_accuracy: 0.9358\n",
            "Epoch 56/100\n",
            "70/70 [==============================] - 0s 4ms/step - loss: 0.1718 - accuracy: 0.9389 - val_loss: 0.1834 - val_accuracy: 0.9371\n",
            "Epoch 57/100\n",
            "70/70 [==============================] - 0s 5ms/step - loss: 0.1706 - accuracy: 0.9405 - val_loss: 0.1826 - val_accuracy: 0.9367\n",
            "Epoch 58/100\n",
            "70/70 [==============================] - 0s 5ms/step - loss: 0.1695 - accuracy: 0.9394 - val_loss: 0.1811 - val_accuracy: 0.9394\n",
            "Epoch 59/100\n",
            "70/70 [==============================] - 0s 4ms/step - loss: 0.1685 - accuracy: 0.9397 - val_loss: 0.1798 - val_accuracy: 0.9367\n",
            "Epoch 60/100\n",
            "70/70 [==============================] - 0s 4ms/step - loss: 0.1680 - accuracy: 0.9417 - val_loss: 0.1785 - val_accuracy: 0.9389\n",
            "Epoch 61/100\n",
            "70/70 [==============================] - 0s 5ms/step - loss: 0.1664 - accuracy: 0.9411 - val_loss: 0.1775 - val_accuracy: 0.9389\n",
            "Epoch 62/100\n",
            "70/70 [==============================] - 0s 5ms/step - loss: 0.1659 - accuracy: 0.9405 - val_loss: 0.1760 - val_accuracy: 0.9389\n",
            "Epoch 63/100\n",
            "70/70 [==============================] - 0s 5ms/step - loss: 0.1651 - accuracy: 0.9413 - val_loss: 0.1755 - val_accuracy: 0.9385\n",
            "Epoch 64/100\n",
            "70/70 [==============================] - 0s 5ms/step - loss: 0.1641 - accuracy: 0.9418 - val_loss: 0.1744 - val_accuracy: 0.9408\n",
            "Epoch 65/100\n",
            "70/70 [==============================] - 0s 5ms/step - loss: 0.1631 - accuracy: 0.9415 - val_loss: 0.1730 - val_accuracy: 0.9403\n",
            "Epoch 66/100\n",
            "70/70 [==============================] - 0s 5ms/step - loss: 0.1618 - accuracy: 0.9427 - val_loss: 0.1724 - val_accuracy: 0.9421\n",
            "Epoch 67/100\n",
            "70/70 [==============================] - 0s 4ms/step - loss: 0.1612 - accuracy: 0.9430 - val_loss: 0.1717 - val_accuracy: 0.9412\n",
            "Epoch 68/100\n",
            "70/70 [==============================] - 0s 4ms/step - loss: 0.1604 - accuracy: 0.9439 - val_loss: 0.1708 - val_accuracy: 0.9408\n",
            "Epoch 69/100\n",
            "70/70 [==============================] - 0s 3ms/step - loss: 0.1597 - accuracy: 0.9435 - val_loss: 0.1695 - val_accuracy: 0.9417\n",
            "Epoch 70/100\n",
            "70/70 [==============================] - 0s 3ms/step - loss: 0.1589 - accuracy: 0.9436 - val_loss: 0.1707 - val_accuracy: 0.9394\n",
            "Epoch 71/100\n",
            "70/70 [==============================] - 0s 3ms/step - loss: 0.1584 - accuracy: 0.9440 - val_loss: 0.1683 - val_accuracy: 0.9408\n",
            "Epoch 72/100\n",
            "70/70 [==============================] - 0s 3ms/step - loss: 0.1574 - accuracy: 0.9446 - val_loss: 0.1678 - val_accuracy: 0.9408\n",
            "Epoch 73/100\n",
            "70/70 [==============================] - 0s 3ms/step - loss: 0.1566 - accuracy: 0.9437 - val_loss: 0.1676 - val_accuracy: 0.9394\n",
            "Epoch 74/100\n",
            "70/70 [==============================] - 0s 3ms/step - loss: 0.1563 - accuracy: 0.9445 - val_loss: 0.1664 - val_accuracy: 0.9412\n",
            "Epoch 75/100\n",
            "70/70 [==============================] - 0s 3ms/step - loss: 0.1556 - accuracy: 0.9438 - val_loss: 0.1667 - val_accuracy: 0.9398\n",
            "Epoch 76/100\n",
            "70/70 [==============================] - 0s 3ms/step - loss: 0.1547 - accuracy: 0.9448 - val_loss: 0.1655 - val_accuracy: 0.9412\n",
            "Epoch 77/100\n",
            "70/70 [==============================] - 0s 3ms/step - loss: 0.1545 - accuracy: 0.9445 - val_loss: 0.1652 - val_accuracy: 0.9417\n",
            "Epoch 78/100\n",
            "70/70 [==============================] - 0s 3ms/step - loss: 0.1531 - accuracy: 0.9452 - val_loss: 0.1640 - val_accuracy: 0.9421\n",
            "Epoch 79/100\n",
            "70/70 [==============================] - 0s 3ms/step - loss: 0.1528 - accuracy: 0.9440 - val_loss: 0.1644 - val_accuracy: 0.9417\n",
            "Epoch 80/100\n",
            "70/70 [==============================] - 0s 3ms/step - loss: 0.1532 - accuracy: 0.9448 - val_loss: 0.1652 - val_accuracy: 0.9421\n",
            "Epoch 81/100\n",
            "70/70 [==============================] - 0s 3ms/step - loss: 0.1523 - accuracy: 0.9447 - val_loss: 0.1633 - val_accuracy: 0.9417\n",
            "Epoch 82/100\n",
            "70/70 [==============================] - 0s 3ms/step - loss: 0.1517 - accuracy: 0.9432 - val_loss: 0.1631 - val_accuracy: 0.9398\n",
            "Epoch 83/100\n",
            "70/70 [==============================] - 0s 3ms/step - loss: 0.1510 - accuracy: 0.9457 - val_loss: 0.1624 - val_accuracy: 0.9421\n",
            "Epoch 84/100\n",
            "70/70 [==============================] - 0s 3ms/step - loss: 0.1497 - accuracy: 0.9452 - val_loss: 0.1647 - val_accuracy: 0.9408\n",
            "Epoch 85/100\n",
            "70/70 [==============================] - 0s 3ms/step - loss: 0.1507 - accuracy: 0.9440 - val_loss: 0.1621 - val_accuracy: 0.9417\n",
            "Epoch 86/100\n",
            "70/70 [==============================] - 0s 3ms/step - loss: 0.1493 - accuracy: 0.9460 - val_loss: 0.1620 - val_accuracy: 0.9403\n",
            "Epoch 87/100\n",
            "70/70 [==============================] - 0s 3ms/step - loss: 0.1490 - accuracy: 0.9463 - val_loss: 0.1613 - val_accuracy: 0.9412\n",
            "Epoch 88/100\n",
            "70/70 [==============================] - 0s 3ms/step - loss: 0.1486 - accuracy: 0.9452 - val_loss: 0.1622 - val_accuracy: 0.9394\n",
            "Epoch 89/100\n",
            "70/70 [==============================] - 0s 3ms/step - loss: 0.1483 - accuracy: 0.9460 - val_loss: 0.1610 - val_accuracy: 0.9408\n",
            "Epoch 90/100\n",
            "70/70 [==============================] - 0s 3ms/step - loss: 0.1491 - accuracy: 0.9435 - val_loss: 0.1603 - val_accuracy: 0.9408\n",
            "Epoch 91/100\n",
            "70/70 [==============================] - 0s 3ms/step - loss: 0.1478 - accuracy: 0.9448 - val_loss: 0.1626 - val_accuracy: 0.9421\n",
            "Epoch 92/100\n",
            "70/70 [==============================] - 0s 3ms/step - loss: 0.1473 - accuracy: 0.9448 - val_loss: 0.1602 - val_accuracy: 0.9421\n",
            "Epoch 93/100\n",
            "70/70 [==============================] - 0s 3ms/step - loss: 0.1469 - accuracy: 0.9467 - val_loss: 0.1599 - val_accuracy: 0.9421\n",
            "Epoch 94/100\n",
            "70/70 [==============================] - 0s 3ms/step - loss: 0.1467 - accuracy: 0.9443 - val_loss: 0.1596 - val_accuracy: 0.9430\n",
            "Epoch 95/100\n",
            "70/70 [==============================] - 0s 4ms/step - loss: 0.1462 - accuracy: 0.9467 - val_loss: 0.1592 - val_accuracy: 0.9412\n",
            "Epoch 96/100\n",
            "70/70 [==============================] - 0s 3ms/step - loss: 0.1461 - accuracy: 0.9463 - val_loss: 0.1596 - val_accuracy: 0.9426\n",
            "Epoch 97/100\n",
            "70/70 [==============================] - 0s 3ms/step - loss: 0.1458 - accuracy: 0.9458 - val_loss: 0.1630 - val_accuracy: 0.9408\n",
            "Epoch 98/100\n",
            "70/70 [==============================] - 0s 3ms/step - loss: 0.1455 - accuracy: 0.9462 - val_loss: 0.1599 - val_accuracy: 0.9421\n",
            "Epoch 99/100\n",
            "70/70 [==============================] - 0s 4ms/step - loss: 0.1460 - accuracy: 0.9456 - val_loss: 0.1589 - val_accuracy: 0.9408\n",
            "Epoch 100/100\n",
            "70/70 [==============================] - 0s 3ms/step - loss: 0.1454 - accuracy: 0.9472 - val_loss: 0.1577 - val_accuracy: 0.9417\n"
          ]
        }
      ]
    },
    {
      "cell_type": "markdown",
      "source": [
        "##### **Evaluación**"
      ],
      "metadata": {
        "id": "DcQokjolO4Cc"
      }
    },
    {
      "cell_type": "code",
      "source": [
        "_, accuracy = model_md.evaluate(x_eval, y_eval)\n",
        "print(\"Accuracy: {:.2f}%\".format(accuracy * 100))"
      ],
      "metadata": {
        "colab": {
          "base_uri": "https://localhost:8080/"
        },
        "id": "SwKFRtuDO56i",
        "outputId": "3de68ccf-5fb6-4dec-bd65-276219baa660"
      },
      "execution_count": null,
      "outputs": [
        {
          "output_type": "stream",
          "name": "stdout",
          "text": [
            "70/70 [==============================] - 0s 2ms/step - loss: 0.1577 - accuracy: 0.9417\n",
            "Accuracy: 94.17%\n"
          ]
        }
      ]
    },
    {
      "cell_type": "code",
      "source": [
        "plt.title(\"Gráfica de loss\")\n",
        "plt.xlabel(\"Época\")\n",
        "plt.ylabel(\"Loss\")\n",
        "plt.plot(history.history[\"loss\"])\n",
        "plt.plot(history.history[\"val_loss\"])\n",
        "plt.legend([\"Entrenamiento\", \"Validación\"], loc=\"upper right\")"
      ],
      "metadata": {
        "colab": {
          "base_uri": "https://localhost:8080/"
        },
        "id": "Ju581lWvO8BD",
        "outputId": "70542ee9-2ae3-457c-8d1f-4a79cc6169bb"
      },
      "execution_count": null,
      "outputs": [
        {
          "output_type": "execute_result",
          "data": {
            "text/plain": [
              "<matplotlib.legend.Legend at 0x7f0e2f752410>"
            ]
          },
          "metadata": {},
          "execution_count": 67
        },
        {
          "output_type": "display_data",
          "data": {
            "text/plain": [
              "<Figure size 640x480 with 1 Axes>"
            ],
            "image/png": "[encoded data removed]"
          },
          "metadata": {}
        }
      ]
    },
    {
      "cell_type": "code",
      "source": [
        "plt.title(\"Gráfica de accuracy\")\n",
        "plt.xlabel(\"Época\")\n",
        "plt.ylabel(\"Accuracy\")\n",
        "plt.plot(history.history[\"accuracy\"])\n",
        "plt.plot(history.history[\"val_accuracy\"])\n",
        "plt.legend([\"Entrenamiento\", \"Validación\"], loc=\"lower right\")"
      ],
      "metadata": {
        "colab": {
          "base_uri": "https://localhost:8080/"
        },
        "id": "ZQafmgTLO-L7",
        "outputId": "00e789e9-d176-4493-c15a-94fefe99f56a"
      },
      "execution_count": null,
      "outputs": [
        {
          "output_type": "execute_result",
          "data": {
            "text/plain": [
              "<matplotlib.legend.Legend at 0x7f0e447a26e0>"
            ]
          },
          "metadata": {},
          "execution_count": 68
        },
        {
          "output_type": "display_data",
          "data": {
            "text/plain": [
              "<Figure size 640x480 with 1 Axes>"
            ],
            "image/png": "[encoded data removed]"
          },
          "metadata": {}
        }
      ]
    },
    {
      "cell_type": "code",
      "source": [
        "y_pred = model_md.predict(x_eval)\n",
        "y_pred = tf.round(y_pred)\n",
        "\n",
        "matriz_confusion = confusion_matrix(y_eval, y_pred)\n",
        "print(matriz_confusion)"
      ],
      "metadata": {
        "colab": {
          "base_uri": "https://localhost:8080/"
        },
        "id": "3wJMhmfxO_bk",
        "outputId": "e17c6ded-8dc9-45c9-ab93-e4267e3cd50e"
      },
      "execution_count": null,
      "outputs": [
        {
          "output_type": "stream",
          "name": "stdout",
          "text": [
            "70/70 [==============================] - 0s 2ms/step\n",
            "[[ 880   76]\n",
            " [  53 1202]]\n"
          ]
        }
      ]
    },
    {
      "cell_type": "markdown",
      "source": [
        "#### **Modelo pequeño (2 -> 1)**"
      ],
      "metadata": {
        "id": "IS9hvwRHPBUf"
      }
    },
    {
      "cell_type": "markdown",
      "source": [
        "##### **Elaboración**"
      ],
      "metadata": {
        "id": "yqAxK0waPFN4"
      }
    },
    {
      "cell_type": "code",
      "source": [
        "model_sm = Sequential([\n",
        "    Dense(2, input_dim=30, activation='relu'),\n",
        "    Dense(1, activation='sigmoid')\n",
        "])\n",
        "\n",
        "model_sm.compile(\n",
        "  loss='binary_crossentropy',\n",
        "  optimizer='adam',\n",
        "  metrics=['accuracy']\n",
        ")\n",
        "\n",
        "history = model_sm.fit(x_train, y_train, validation_data=(x_eval, y_eval), epochs=100, batch_size=64)"
      ],
      "metadata": {
        "colab": {
          "base_uri": "https://localhost:8080/"
        },
        "id": "bvGl6IICPCBQ",
        "outputId": "7c3aa3b2-9df6-49e8-d8ec-d3908d3973c9"
      },
      "execution_count": null,
      "outputs": [
        {
          "output_type": "stream",
          "name": "stdout",
          "text": [
            "Epoch 1/100\n",
            "139/139 [==============================] - 1s 4ms/step - loss: 0.6436 - accuracy: 0.6536 - val_loss: 0.5797 - val_accuracy: 0.7359\n",
            "Epoch 2/100\n",
            "139/139 [==============================] - 0s 2ms/step - loss: 0.5402 - accuracy: 0.7583 - val_loss: 0.4817 - val_accuracy: 0.8236\n",
            "Epoch 3/100\n",
            "139/139 [==============================] - 0s 3ms/step - loss: 0.4548 - accuracy: 0.8355 - val_loss: 0.4129 - val_accuracy: 0.8756\n",
            "Epoch 4/100\n",
            "139/139 [==============================] - 0s 3ms/step - loss: 0.3958 - accuracy: 0.8788 - val_loss: 0.3679 - val_accuracy: 0.9032\n",
            "Epoch 5/100\n",
            "139/139 [==============================] - 0s 3ms/step - loss: 0.3562 - accuracy: 0.9009 - val_loss: 0.3371 - val_accuracy: 0.9127\n",
            "Epoch 6/100\n",
            "139/139 [==============================] - 0s 3ms/step - loss: 0.3285 - accuracy: 0.9104 - val_loss: 0.3148 - val_accuracy: 0.9181\n",
            "Epoch 7/100\n",
            "139/139 [==============================] - 0s 2ms/step - loss: 0.3078 - accuracy: 0.9155 - val_loss: 0.2985 - val_accuracy: 0.9172\n",
            "Epoch 8/100\n",
            "139/139 [==============================] - 0s 2ms/step - loss: 0.2917 - accuracy: 0.9199 - val_loss: 0.2852 - val_accuracy: 0.9204\n",
            "Epoch 9/100\n",
            "139/139 [==============================] - 0s 2ms/step - loss: 0.2790 - accuracy: 0.9210 - val_loss: 0.2740 - val_accuracy: 0.9209\n",
            "Epoch 10/100\n",
            "139/139 [==============================] - 0s 2ms/step - loss: 0.2687 - accuracy: 0.9227 - val_loss: 0.2654 - val_accuracy: 0.9190\n",
            "Epoch 11/100\n",
            "139/139 [==============================] - 0s 3ms/step - loss: 0.2594 - accuracy: 0.9250 - val_loss: 0.2579 - val_accuracy: 0.9218\n",
            "Epoch 12/100\n",
            "139/139 [==============================] - 0s 3ms/step - loss: 0.2517 - accuracy: 0.9267 - val_loss: 0.2513 - val_accuracy: 0.9222\n",
            "Epoch 13/100\n",
            "139/139 [==============================] - 0s 3ms/step - loss: 0.2450 - accuracy: 0.9253 - val_loss: 0.2460 - val_accuracy: 0.9227\n",
            "Epoch 14/100\n",
            "139/139 [==============================] - 0s 2ms/step - loss: 0.2392 - accuracy: 0.9255 - val_loss: 0.2416 - val_accuracy: 0.9258\n",
            "Epoch 15/100\n",
            "139/139 [==============================] - 0s 2ms/step - loss: 0.2338 - accuracy: 0.9265 - val_loss: 0.2373 - val_accuracy: 0.9267\n",
            "Epoch 16/100\n",
            "139/139 [==============================] - 0s 2ms/step - loss: 0.2287 - accuracy: 0.9266 - val_loss: 0.2334 - val_accuracy: 0.9249\n",
            "Epoch 17/100\n",
            "139/139 [==============================] - 0s 2ms/step - loss: 0.2246 - accuracy: 0.9272 - val_loss: 0.2304 - val_accuracy: 0.9272\n",
            "Epoch 18/100\n",
            "139/139 [==============================] - 0s 3ms/step - loss: 0.2204 - accuracy: 0.9272 - val_loss: 0.2279 - val_accuracy: 0.9272\n",
            "Epoch 19/100\n",
            "139/139 [==============================] - 0s 2ms/step - loss: 0.2168 - accuracy: 0.9289 - val_loss: 0.2243 - val_accuracy: 0.9258\n",
            "Epoch 20/100\n",
            "139/139 [==============================] - 0s 3ms/step - loss: 0.2135 - accuracy: 0.9276 - val_loss: 0.2222 - val_accuracy: 0.9276\n",
            "Epoch 21/100\n",
            "139/139 [==============================] - 0s 2ms/step - loss: 0.2106 - accuracy: 0.9281 - val_loss: 0.2197 - val_accuracy: 0.9258\n",
            "Epoch 22/100\n",
            "139/139 [==============================] - 0s 3ms/step - loss: 0.2083 - accuracy: 0.9287 - val_loss: 0.2180 - val_accuracy: 0.9249\n",
            "Epoch 23/100\n",
            "139/139 [==============================] - 0s 3ms/step - loss: 0.2057 - accuracy: 0.9288 - val_loss: 0.2164 - val_accuracy: 0.9254\n",
            "Epoch 24/100\n",
            "139/139 [==============================] - 0s 2ms/step - loss: 0.2039 - accuracy: 0.9282 - val_loss: 0.2151 - val_accuracy: 0.9245\n",
            "Epoch 25/100\n",
            "139/139 [==============================] - 0s 2ms/step - loss: 0.2022 - accuracy: 0.9289 - val_loss: 0.2134 - val_accuracy: 0.9236\n",
            "Epoch 26/100\n",
            "139/139 [==============================] - 0s 3ms/step - loss: 0.2002 - accuracy: 0.9287 - val_loss: 0.2126 - val_accuracy: 0.9263\n",
            "Epoch 27/100\n",
            "139/139 [==============================] - 0s 3ms/step - loss: 0.1986 - accuracy: 0.9288 - val_loss: 0.2119 - val_accuracy: 0.9249\n",
            "Epoch 28/100\n",
            "139/139 [==============================] - 0s 3ms/step - loss: 0.1977 - accuracy: 0.9293 - val_loss: 0.2104 - val_accuracy: 0.9245\n",
            "Epoch 29/100\n",
            "139/139 [==============================] - 0s 3ms/step - loss: 0.1960 - accuracy: 0.9297 - val_loss: 0.2092 - val_accuracy: 0.9245\n",
            "Epoch 30/100\n",
            "139/139 [==============================] - 1s 4ms/step - loss: 0.1949 - accuracy: 0.9293 - val_loss: 0.2086 - val_accuracy: 0.9249\n",
            "Epoch 31/100\n",
            "139/139 [==============================] - 1s 4ms/step - loss: 0.1937 - accuracy: 0.9298 - val_loss: 0.2075 - val_accuracy: 0.9258\n",
            "Epoch 32/100\n",
            "139/139 [==============================] - 1s 5ms/step - loss: 0.1929 - accuracy: 0.9311 - val_loss: 0.2072 - val_accuracy: 0.9263\n",
            "Epoch 33/100\n",
            "139/139 [==============================] - 1s 4ms/step - loss: 0.1919 - accuracy: 0.9313 - val_loss: 0.2069 - val_accuracy: 0.9258\n",
            "Epoch 34/100\n",
            "139/139 [==============================] - 0s 3ms/step - loss: 0.1909 - accuracy: 0.9311 - val_loss: 0.2060 - val_accuracy: 0.9263\n",
            "Epoch 35/100\n",
            "139/139 [==============================] - 0s 3ms/step - loss: 0.1901 - accuracy: 0.9309 - val_loss: 0.2050 - val_accuracy: 0.9254\n",
            "Epoch 36/100\n",
            "139/139 [==============================] - 0s 2ms/step - loss: 0.1893 - accuracy: 0.9310 - val_loss: 0.2042 - val_accuracy: 0.9263\n",
            "Epoch 37/100\n",
            "139/139 [==============================] - 0s 2ms/step - loss: 0.1886 - accuracy: 0.9306 - val_loss: 0.2035 - val_accuracy: 0.9254\n",
            "Epoch 38/100\n",
            "139/139 [==============================] - 0s 3ms/step - loss: 0.1878 - accuracy: 0.9308 - val_loss: 0.2029 - val_accuracy: 0.9236\n",
            "Epoch 39/100\n",
            "139/139 [==============================] - 0s 3ms/step - loss: 0.1873 - accuracy: 0.9302 - val_loss: 0.2028 - val_accuracy: 0.9263\n",
            "Epoch 40/100\n",
            "139/139 [==============================] - 0s 3ms/step - loss: 0.1866 - accuracy: 0.9320 - val_loss: 0.2020 - val_accuracy: 0.9258\n",
            "Epoch 41/100\n",
            "139/139 [==============================] - 0s 3ms/step - loss: 0.1860 - accuracy: 0.9320 - val_loss: 0.2014 - val_accuracy: 0.9240\n",
            "Epoch 42/100\n",
            "139/139 [==============================] - 0s 3ms/step - loss: 0.1855 - accuracy: 0.9320 - val_loss: 0.2011 - val_accuracy: 0.9254\n",
            "Epoch 43/100\n",
            "139/139 [==============================] - 0s 3ms/step - loss: 0.1850 - accuracy: 0.9311 - val_loss: 0.2011 - val_accuracy: 0.9249\n",
            "Epoch 44/100\n",
            "139/139 [==============================] - 0s 2ms/step - loss: 0.1844 - accuracy: 0.9316 - val_loss: 0.2002 - val_accuracy: 0.9240\n",
            "Epoch 45/100\n",
            "139/139 [==============================] - 0s 3ms/step - loss: 0.1840 - accuracy: 0.9324 - val_loss: 0.1994 - val_accuracy: 0.9249\n",
            "Epoch 46/100\n",
            "139/139 [==============================] - 0s 2ms/step - loss: 0.1841 - accuracy: 0.9316 - val_loss: 0.1990 - val_accuracy: 0.9249\n",
            "Epoch 47/100\n",
            "139/139 [==============================] - 0s 2ms/step - loss: 0.1830 - accuracy: 0.9328 - val_loss: 0.1987 - val_accuracy: 0.9236\n",
            "Epoch 48/100\n",
            "139/139 [==============================] - 0s 2ms/step - loss: 0.1829 - accuracy: 0.9317 - val_loss: 0.1985 - val_accuracy: 0.9245\n",
            "Epoch 49/100\n",
            "139/139 [==============================] - 0s 2ms/step - loss: 0.1829 - accuracy: 0.9320 - val_loss: 0.1990 - val_accuracy: 0.9263\n",
            "Epoch 50/100\n",
            "139/139 [==============================] - 0s 3ms/step - loss: 0.1822 - accuracy: 0.9323 - val_loss: 0.1974 - val_accuracy: 0.9249\n",
            "Epoch 51/100\n",
            "139/139 [==============================] - 0s 2ms/step - loss: 0.1815 - accuracy: 0.9315 - val_loss: 0.1974 - val_accuracy: 0.9254\n",
            "Epoch 52/100\n",
            "139/139 [==============================] - 0s 2ms/step - loss: 0.1816 - accuracy: 0.9315 - val_loss: 0.1968 - val_accuracy: 0.9249\n",
            "Epoch 53/100\n",
            "139/139 [==============================] - 0s 2ms/step - loss: 0.1812 - accuracy: 0.9329 - val_loss: 0.1963 - val_accuracy: 0.9254\n",
            "Epoch 54/100\n",
            "139/139 [==============================] - 0s 2ms/step - loss: 0.1807 - accuracy: 0.9332 - val_loss: 0.1964 - val_accuracy: 0.9254\n",
            "Epoch 55/100\n",
            "139/139 [==============================] - 0s 2ms/step - loss: 0.1803 - accuracy: 0.9334 - val_loss: 0.1960 - val_accuracy: 0.9254\n",
            "Epoch 56/100\n",
            "139/139 [==============================] - 0s 2ms/step - loss: 0.1802 - accuracy: 0.9329 - val_loss: 0.1958 - val_accuracy: 0.9249\n",
            "Epoch 57/100\n",
            "139/139 [==============================] - 0s 2ms/step - loss: 0.1798 - accuracy: 0.9310 - val_loss: 0.1956 - val_accuracy: 0.9240\n",
            "Epoch 58/100\n",
            "139/139 [==============================] - 0s 2ms/step - loss: 0.1798 - accuracy: 0.9332 - val_loss: 0.1951 - val_accuracy: 0.9254\n",
            "Epoch 59/100\n",
            "139/139 [==============================] - 0s 2ms/step - loss: 0.1791 - accuracy: 0.9320 - val_loss: 0.1954 - val_accuracy: 0.9254\n",
            "Epoch 60/100\n",
            "139/139 [==============================] - 0s 3ms/step - loss: 0.1790 - accuracy: 0.9326 - val_loss: 0.1950 - val_accuracy: 0.9249\n",
            "Epoch 61/100\n",
            "139/139 [==============================] - 0s 3ms/step - loss: 0.1791 - accuracy: 0.9326 - val_loss: 0.1944 - val_accuracy: 0.9249\n",
            "Epoch 62/100\n",
            "139/139 [==============================] - 1s 4ms/step - loss: 0.1785 - accuracy: 0.9327 - val_loss: 0.1941 - val_accuracy: 0.9245\n",
            "Epoch 63/100\n",
            "139/139 [==============================] - 1s 4ms/step - loss: 0.1789 - accuracy: 0.9326 - val_loss: 0.1938 - val_accuracy: 0.9258\n",
            "Epoch 64/100\n",
            "139/139 [==============================] - 1s 5ms/step - loss: 0.1781 - accuracy: 0.9328 - val_loss: 0.1939 - val_accuracy: 0.9258\n",
            "Epoch 65/100\n",
            "139/139 [==============================] - 1s 4ms/step - loss: 0.1780 - accuracy: 0.9328 - val_loss: 0.1936 - val_accuracy: 0.9272\n",
            "Epoch 66/100\n",
            "139/139 [==============================] - 0s 3ms/step - loss: 0.1780 - accuracy: 0.9320 - val_loss: 0.1931 - val_accuracy: 0.9254\n",
            "Epoch 67/100\n",
            "139/139 [==============================] - 1s 4ms/step - loss: 0.1777 - accuracy: 0.9325 - val_loss: 0.1930 - val_accuracy: 0.9276\n",
            "Epoch 68/100\n",
            "139/139 [==============================] - 0s 3ms/step - loss: 0.1775 - accuracy: 0.9319 - val_loss: 0.1929 - val_accuracy: 0.9254\n",
            "Epoch 69/100\n",
            "139/139 [==============================] - 1s 4ms/step - loss: 0.1773 - accuracy: 0.9327 - val_loss: 0.1928 - val_accuracy: 0.9281\n",
            "Epoch 70/100\n",
            "139/139 [==============================] - 0s 3ms/step - loss: 0.1773 - accuracy: 0.9320 - val_loss: 0.1925 - val_accuracy: 0.9263\n",
            "Epoch 71/100\n",
            "139/139 [==============================] - 0s 3ms/step - loss: 0.1771 - accuracy: 0.9323 - val_loss: 0.1925 - val_accuracy: 0.9276\n",
            "Epoch 72/100\n",
            "139/139 [==============================] - 0s 3ms/step - loss: 0.1770 - accuracy: 0.9329 - val_loss: 0.1924 - val_accuracy: 0.9272\n",
            "Epoch 73/100\n",
            "139/139 [==============================] - 0s 2ms/step - loss: 0.1769 - accuracy: 0.9326 - val_loss: 0.1924 - val_accuracy: 0.9254\n",
            "Epoch 74/100\n",
            "139/139 [==============================] - 0s 3ms/step - loss: 0.1765 - accuracy: 0.9323 - val_loss: 0.1922 - val_accuracy: 0.9258\n",
            "Epoch 75/100\n",
            "139/139 [==============================] - 0s 2ms/step - loss: 0.1765 - accuracy: 0.9325 - val_loss: 0.1919 - val_accuracy: 0.9263\n",
            "Epoch 76/100\n",
            "139/139 [==============================] - 0s 3ms/step - loss: 0.1764 - accuracy: 0.9326 - val_loss: 0.1916 - val_accuracy: 0.9272\n",
            "Epoch 77/100\n",
            "139/139 [==============================] - 0s 2ms/step - loss: 0.1766 - accuracy: 0.9324 - val_loss: 0.1932 - val_accuracy: 0.9263\n",
            "Epoch 78/100\n",
            "139/139 [==============================] - 0s 2ms/step - loss: 0.1765 - accuracy: 0.9323 - val_loss: 0.1912 - val_accuracy: 0.9272\n",
            "Epoch 79/100\n",
            "139/139 [==============================] - 0s 2ms/step - loss: 0.1766 - accuracy: 0.9329 - val_loss: 0.1912 - val_accuracy: 0.9263\n",
            "Epoch 80/100\n",
            "139/139 [==============================] - 0s 2ms/step - loss: 0.1758 - accuracy: 0.9333 - val_loss: 0.1914 - val_accuracy: 0.9267\n",
            "Epoch 81/100\n",
            "139/139 [==============================] - 0s 3ms/step - loss: 0.1757 - accuracy: 0.9333 - val_loss: 0.1917 - val_accuracy: 0.9245\n",
            "Epoch 82/100\n",
            "139/139 [==============================] - 0s 3ms/step - loss: 0.1758 - accuracy: 0.9325 - val_loss: 0.1910 - val_accuracy: 0.9254\n",
            "Epoch 83/100\n",
            "139/139 [==============================] - 0s 3ms/step - loss: 0.1757 - accuracy: 0.9325 - val_loss: 0.1909 - val_accuracy: 0.9263\n",
            "Epoch 84/100\n",
            "139/139 [==============================] - 0s 3ms/step - loss: 0.1755 - accuracy: 0.9325 - val_loss: 0.1906 - val_accuracy: 0.9258\n",
            "Epoch 85/100\n",
            "139/139 [==============================] - 0s 2ms/step - loss: 0.1756 - accuracy: 0.9326 - val_loss: 0.1909 - val_accuracy: 0.9258\n",
            "Epoch 86/100\n",
            "139/139 [==============================] - 0s 2ms/step - loss: 0.1755 - accuracy: 0.9333 - val_loss: 0.1908 - val_accuracy: 0.9263\n",
            "Epoch 87/100\n",
            "139/139 [==============================] - 0s 3ms/step - loss: 0.1754 - accuracy: 0.9332 - val_loss: 0.1903 - val_accuracy: 0.9263\n",
            "Epoch 88/100\n",
            "139/139 [==============================] - 0s 3ms/step - loss: 0.1752 - accuracy: 0.9334 - val_loss: 0.1906 - val_accuracy: 0.9258\n",
            "Epoch 89/100\n",
            "139/139 [==============================] - 0s 2ms/step - loss: 0.1754 - accuracy: 0.9317 - val_loss: 0.1902 - val_accuracy: 0.9231\n",
            "Epoch 90/100\n",
            "139/139 [==============================] - 0s 3ms/step - loss: 0.1752 - accuracy: 0.9324 - val_loss: 0.1905 - val_accuracy: 0.9245\n",
            "Epoch 91/100\n",
            "139/139 [==============================] - 0s 3ms/step - loss: 0.1750 - accuracy: 0.9328 - val_loss: 0.1901 - val_accuracy: 0.9254\n",
            "Epoch 92/100\n",
            "139/139 [==============================] - 0s 2ms/step - loss: 0.1749 - accuracy: 0.9336 - val_loss: 0.1900 - val_accuracy: 0.9263\n",
            "Epoch 93/100\n",
            "139/139 [==============================] - 0s 2ms/step - loss: 0.1749 - accuracy: 0.9324 - val_loss: 0.1901 - val_accuracy: 0.9267\n",
            "Epoch 94/100\n",
            "139/139 [==============================] - 0s 2ms/step - loss: 0.1749 - accuracy: 0.9336 - val_loss: 0.1899 - val_accuracy: 0.9267\n",
            "Epoch 95/100\n",
            "139/139 [==============================] - 0s 2ms/step - loss: 0.1746 - accuracy: 0.9331 - val_loss: 0.1901 - val_accuracy: 0.9245\n",
            "Epoch 96/100\n",
            "139/139 [==============================] - 0s 3ms/step - loss: 0.1747 - accuracy: 0.9331 - val_loss: 0.1899 - val_accuracy: 0.9263\n",
            "Epoch 97/100\n",
            "139/139 [==============================] - 0s 3ms/step - loss: 0.1747 - accuracy: 0.9331 - val_loss: 0.1898 - val_accuracy: 0.9240\n",
            "Epoch 98/100\n",
            "139/139 [==============================] - 1s 5ms/step - loss: 0.1749 - accuracy: 0.9326 - val_loss: 0.1897 - val_accuracy: 0.9267\n",
            "Epoch 99/100\n",
            "139/139 [==============================] - 1s 5ms/step - loss: 0.1747 - accuracy: 0.9334 - val_loss: 0.1898 - val_accuracy: 0.9254\n",
            "Epoch 100/100\n",
            "139/139 [==============================] - 1s 4ms/step - loss: 0.1744 - accuracy: 0.9342 - val_loss: 0.1898 - val_accuracy: 0.9258\n"
          ]
        }
      ]
    },
    {
      "cell_type": "markdown",
      "source": [
        "##### **Evaluación**"
      ],
      "metadata": {
        "id": "5-m6BEV1PK2n"
      }
    },
    {
      "cell_type": "code",
      "source": [
        "_, accuracy = model_sm.evaluate(x_eval, y_eval)\n",
        "print(\"Accuracy: {:.2f}%\".format(accuracy * 100))"
      ],
      "metadata": {
        "colab": {
          "base_uri": "https://localhost:8080/"
        },
        "id": "AkzXDrm3PMI3",
        "outputId": "43358a2a-51f0-4345-b20d-99100759cd0e"
      },
      "execution_count": null,
      "outputs": [
        {
          "output_type": "stream",
          "name": "stdout",
          "text": [
            "70/70 [==============================] - 0s 3ms/step - loss: 0.1898 - accuracy: 0.9258\n",
            "Accuracy: 92.58%\n"
          ]
        }
      ]
    },
    {
      "cell_type": "code",
      "source": [
        "plt.title(\"Gráfica de loss\")\n",
        "plt.xlabel(\"Época\")\n",
        "plt.ylabel(\"Loss\")\n",
        "plt.plot(history.history[\"loss\"])\n",
        "plt.plot(history.history[\"val_loss\"])\n",
        "plt.legend([\"Entrenamiento\", \"Validación\"], loc=\"upper right\")"
      ],
      "metadata": {
        "colab": {
          "base_uri": "https://localhost:8080/"
        },
        "id": "mj0eiDrdPOe5",
        "outputId": "b82789d9-5821-46ea-d3d0-e18c80259cc7"
      },
      "execution_count": null,
      "outputs": [
        {
          "output_type": "execute_result",
          "data": {
            "text/plain": [
              "<matplotlib.legend.Legend at 0x7f0e4d336260>"
            ]
          },
          "metadata": {},
          "execution_count": 72
        },
        {
          "output_type": "display_data",
          "data": {
            "text/plain": [
              "<Figure size 640x480 with 1 Axes>"
            ],
            "image/png": "[encoded data removed]"
          },
          "metadata": {}
        }
      ]
    },
    {
      "cell_type": "code",
      "source": [
        "plt.title(\"Gráfica de accuracy\")\n",
        "plt.xlabel(\"Época\")\n",
        "plt.ylabel(\"Accuracy\")\n",
        "plt.plot(history.history[\"accuracy\"])\n",
        "plt.plot(history.history[\"val_accuracy\"])\n",
        "plt.legend([\"Entrenamiento\", \"Validación\"], loc=\"lower right\")"
      ],
      "metadata": {
        "colab": {
          "base_uri": "https://localhost:8080/"
        },
        "id": "mPRodDhiPPsP",
        "outputId": "455bd182-46ec-4ea7-c8d0-ff1d720b24fd"
      },
      "execution_count": null,
      "outputs": [
        {
          "output_type": "execute_result",
          "data": {
            "text/plain": [
              "<matplotlib.legend.Legend at 0x7f0e4d531e40>"
            ]
          },
          "metadata": {},
          "execution_count": 73
        },
        {
          "output_type": "display_data",
          "data": {
            "text/plain": [
              "<Figure size 640x480 with 1 Axes>"
            ],
            "image/png": "[encoded data removed]"
          },
          "metadata": {}
        }
      ]
    },
    {
      "cell_type": "code",
      "source": [
        "y_pred = model_sm.predict(x_eval)\n",
        "y_pred = tf.round(y_pred)\n",
        "\n",
        "matriz_confusion = confusion_matrix(y_eval, y_pred)\n",
        "print(matriz_confusion)"
      ],
      "metadata": {
        "colab": {
          "base_uri": "https://localhost:8080/"
        },
        "id": "iETQZQBhPSO8",
        "outputId": "0deee157-22b4-414e-b56d-c5ebaf18f23a"
      },
      "execution_count": null,
      "outputs": [
        {
          "output_type": "stream",
          "name": "stdout",
          "text": [
            "70/70 [==============================] - 0s 2ms/step\n",
            "[[ 876   80]\n",
            " [  84 1171]]\n"
          ]
        }
      ]
    },
    {
      "cell_type": "markdown",
      "source": [
        "### **Evaluando asociación entre variables**"
      ],
      "metadata": {
        "id": "KMNuCf4XPffg"
      }
    },
    {
      "cell_type": "markdown",
      "source": [
        "##### **Descubriendo asocición entre variables**"
      ],
      "metadata": {
        "id": "nwhzTfBLPhHW"
      }
    },
    {
      "cell_type": "markdown",
      "source": [
        "*   Usando coeficiente de contingencia, categóricos con categóricos"
      ],
      "metadata": {
        "id": "x1cC2aSlPlLu"
      }
    },
    {
      "cell_type": "code",
      "source": [
        "filas, columnas = x.shape\n",
        "xa = x.T\n",
        "\n",
        "from scipy.stats import chi2_contingency\n",
        "\n",
        "coeficientes = []\n",
        "for i in range(columnas):\n",
        "    column = xa[i:i+1][0]\n",
        "    nCat = len(np.unique(column))\n",
        "    contingency_table, _, _ = np.histogram2d(column, y, bins=[nCat, 2])\n",
        "\n",
        "    chi2, p_value, _, _ = chi2_contingency(contingency_table)\n",
        "    contingency_coefficient = np.sqrt(chi2 / (chi2 + np.sum(contingency_table)))\n",
        "    coeficientes.append(contingency_coefficient)\n",
        "\n",
        "# Imprimir las correlaciones\n",
        "coef = np.array(coeficientes)\n",
        "np.set_printoptions(precision=3)\n",
        "to_delete = []\n",
        "for i, coeficiente in enumerate(coeficientes):\n",
        "    print(f\"Atributo {i+1}: {coeficiente}\")\n",
        "    if(coeficiente >= 0.1): to_delete.append(i)\n",
        "\n",
        "print(to_delete)\n",
        "\n",
        "# 0 indica que no hay una asociación significativa entre las variables categóricas\n",
        "# 1 indica que hay una fuerte asociación entre las variables"
      ],
      "metadata": {
        "colab": {
          "base_uri": "https://localhost:8080/"
        },
        "id": "0zoGZ-MsPm2U",
        "outputId": "a5fb6709-cab3-41bc-e565-2cd4dc864f26"
      },
      "execution_count": null,
      "outputs": [
        {
          "output_type": "stream",
          "name": "stdout",
          "text": [
            "Atributo 1: 0.09355616501333629\n",
            "Atributo 2: 0.07210369569839527\n",
            "Atributo 3: 0.06754112040741456\n",
            "Atributo 4: 0.05261959576794588\n",
            "Atributo 5: 0.03830808106510966\n",
            "Atributo 6: 0.32895102481156885\n",
            "Atributo 7: 0.3551158617327055\n",
            "Atributo 8: 0.6139020982338753\n",
            "Atributo 9: 0.2200655967587761\n",
            "Atributo 10: 4.538728751708926e-05\n",
            "Atributo 11: 0.0361295236237102\n",
            "Atributo 12: 0.03957603482340974\n",
            "Atributo 13: 0.24544223176706928\n",
            "Atributo 14: 0.5920491604154382\n",
            "Atributo 15: 0.24607580056464806\n",
            "Atributo 16: 0.21626492794210603\n",
            "Atributo 17: 0.018010203880061013\n",
            "Atributo 18: 0.06012181889236555\n",
            "Atributo 19: 0.019824909581342014\n",
            "Atributo 20: 0.04152135182297405\n",
            "Atributo 21: 0.012203777970828977\n",
            "Atributo 22: 0.0\n",
            "Atributo 23: 0.0030777815064590677\n",
            "Atributo 24: 0.12043101605744677\n",
            "Atributo 25: 0.07530668574634693\n",
            "Atributo 26: 0.3662076032954052\n",
            "Atributo 27: 0.10387191977584892\n",
            "Atributo 28: 0.127634925329432\n",
            "Atributo 29: 0.07733973099841855\n",
            "Atributo 30: 0.07934354641445956\n",
            "[5, 6, 7, 8, 12, 13, 14, 15, 23, 25, 26, 27]\n"
          ]
        }
      ]
    },
    {
      "cell_type": "markdown",
      "source": [
        "##### **Elaboración de modelo sin datos algo asociados**"
      ],
      "metadata": {
        "id": "TsAILsvoPt11"
      }
    },
    {
      "cell_type": "code",
      "source": [
        "xaux = np.delete(x, to_delete, axis=1)\n",
        "\n",
        "xxd_train, xxd_eval, yxd_train, yxd_eval = train_test_split(xaux, y, test_size=0.2, random_state=42)\n",
        "\n",
        "model_xd = Sequential([\n",
        "    Dense(4, input_dim=len(xaux[0]), activation='relu'),\n",
        "    Dense(2, activation='relu'),\n",
        "    Dense(1, activation='sigmoid')\n",
        "])\n",
        "\n",
        "model_xd.compile(\n",
        "  loss='binary_crossentropy',\n",
        "  optimizer='adam',\n",
        "  metrics=['accuracy']\n",
        ")\n",
        "\n",
        "history = model_xd.fit(xxd_train, yxd_train, validation_data=(xxd_eval, yxd_eval), epochs=100, batch_size=128)"
      ],
      "metadata": {
        "colab": {
          "base_uri": "https://localhost:8080/"
        },
        "id": "kBHRqCfdPqt0",
        "outputId": "94069082-d706-4384-b9ce-2f3a82fee1ec"
      },
      "execution_count": null,
      "outputs": [
        {
          "output_type": "stream",
          "name": "stdout",
          "text": [
            "Epoch 1/100\n",
            "70/70 [==============================] - 1s 5ms/step - loss: 0.6923 - accuracy: 0.5588 - val_loss: 0.6917 - val_accuracy: 0.5703\n",
            "Epoch 2/100\n",
            "70/70 [==============================] - 0s 3ms/step - loss: 0.6867 - accuracy: 0.5738 - val_loss: 0.6875 - val_accuracy: 0.5776\n",
            "Epoch 3/100\n",
            "70/70 [==============================] - 0s 3ms/step - loss: 0.6832 - accuracy: 0.5815 - val_loss: 0.6837 - val_accuracy: 0.5844\n",
            "Epoch 4/100\n",
            "70/70 [==============================] - 0s 3ms/step - loss: 0.6773 - accuracy: 0.5950 - val_loss: 0.6748 - val_accuracy: 0.6033\n",
            "Epoch 5/100\n",
            "70/70 [==============================] - 0s 4ms/step - loss: 0.6717 - accuracy: 0.6033 - val_loss: 0.6698 - val_accuracy: 0.6079\n",
            "Epoch 6/100\n",
            "70/70 [==============================] - 0s 4ms/step - loss: 0.6672 - accuracy: 0.6073 - val_loss: 0.6655 - val_accuracy: 0.6110\n",
            "Epoch 7/100\n",
            "70/70 [==============================] - 0s 3ms/step - loss: 0.6639 - accuracy: 0.6139 - val_loss: 0.6618 - val_accuracy: 0.6160\n",
            "Epoch 8/100\n",
            "70/70 [==============================] - 0s 3ms/step - loss: 0.6605 - accuracy: 0.6175 - val_loss: 0.6588 - val_accuracy: 0.6255\n",
            "Epoch 9/100\n",
            "70/70 [==============================] - 0s 3ms/step - loss: 0.6575 - accuracy: 0.6222 - val_loss: 0.6556 - val_accuracy: 0.6291\n",
            "Epoch 10/100\n",
            "70/70 [==============================] - 0s 3ms/step - loss: 0.6551 - accuracy: 0.6204 - val_loss: 0.6527 - val_accuracy: 0.6309\n",
            "Epoch 11/100\n",
            "70/70 [==============================] - 0s 3ms/step - loss: 0.6526 - accuracy: 0.6246 - val_loss: 0.6501 - val_accuracy: 0.6373\n",
            "Epoch 12/100\n",
            "70/70 [==============================] - 0s 3ms/step - loss: 0.6506 - accuracy: 0.6263 - val_loss: 0.6480 - val_accuracy: 0.6382\n",
            "Epoch 13/100\n",
            "70/70 [==============================] - 0s 3ms/step - loss: 0.6489 - accuracy: 0.6307 - val_loss: 0.6467 - val_accuracy: 0.6364\n",
            "Epoch 14/100\n",
            "70/70 [==============================] - 0s 3ms/step - loss: 0.6474 - accuracy: 0.6275 - val_loss: 0.6452 - val_accuracy: 0.6431\n",
            "Epoch 15/100\n",
            "70/70 [==============================] - 0s 3ms/step - loss: 0.6465 - accuracy: 0.6292 - val_loss: 0.6438 - val_accuracy: 0.6418\n",
            "Epoch 16/100\n",
            "70/70 [==============================] - 0s 3ms/step - loss: 0.6454 - accuracy: 0.6306 - val_loss: 0.6427 - val_accuracy: 0.6427\n",
            "Epoch 17/100\n",
            "70/70 [==============================] - 0s 4ms/step - loss: 0.6434 - accuracy: 0.6298 - val_loss: 0.6407 - val_accuracy: 0.6422\n",
            "Epoch 18/100\n",
            "70/70 [==============================] - 0s 3ms/step - loss: 0.6423 - accuracy: 0.6347 - val_loss: 0.6393 - val_accuracy: 0.6490\n",
            "Epoch 19/100\n",
            "70/70 [==============================] - 0s 4ms/step - loss: 0.6411 - accuracy: 0.6323 - val_loss: 0.6384 - val_accuracy: 0.6499\n",
            "Epoch 20/100\n",
            "70/70 [==============================] - 0s 3ms/step - loss: 0.6405 - accuracy: 0.6393 - val_loss: 0.6375 - val_accuracy: 0.6418\n",
            "Epoch 21/100\n",
            "70/70 [==============================] - 0s 3ms/step - loss: 0.6394 - accuracy: 0.6385 - val_loss: 0.6365 - val_accuracy: 0.6499\n",
            "Epoch 22/100\n",
            "70/70 [==============================] - 0s 3ms/step - loss: 0.6390 - accuracy: 0.6365 - val_loss: 0.6360 - val_accuracy: 0.6454\n",
            "Epoch 23/100\n",
            "70/70 [==============================] - 0s 3ms/step - loss: 0.6382 - accuracy: 0.6384 - val_loss: 0.6355 - val_accuracy: 0.6450\n",
            "Epoch 24/100\n",
            "70/70 [==============================] - 0s 3ms/step - loss: 0.6373 - accuracy: 0.6370 - val_loss: 0.6347 - val_accuracy: 0.6504\n",
            "Epoch 25/100\n",
            "70/70 [==============================] - 0s 3ms/step - loss: 0.6368 - accuracy: 0.6390 - val_loss: 0.6344 - val_accuracy: 0.6477\n",
            "Epoch 26/100\n",
            "70/70 [==============================] - 0s 3ms/step - loss: 0.6365 - accuracy: 0.6389 - val_loss: 0.6342 - val_accuracy: 0.6504\n",
            "Epoch 27/100\n",
            "70/70 [==============================] - 0s 3ms/step - loss: 0.6359 - accuracy: 0.6384 - val_loss: 0.6339 - val_accuracy: 0.6526\n",
            "Epoch 28/100\n",
            "70/70 [==============================] - 0s 3ms/step - loss: 0.6355 - accuracy: 0.6412 - val_loss: 0.6336 - val_accuracy: 0.6504\n",
            "Epoch 29/100\n",
            "70/70 [==============================] - 0s 3ms/step - loss: 0.6349 - accuracy: 0.6408 - val_loss: 0.6330 - val_accuracy: 0.6495\n",
            "Epoch 30/100\n",
            "70/70 [==============================] - 0s 3ms/step - loss: 0.6346 - accuracy: 0.6383 - val_loss: 0.6328 - val_accuracy: 0.6486\n",
            "Epoch 31/100\n",
            "70/70 [==============================] - 0s 3ms/step - loss: 0.6341 - accuracy: 0.6419 - val_loss: 0.6334 - val_accuracy: 0.6472\n",
            "Epoch 32/100\n",
            "70/70 [==============================] - 0s 3ms/step - loss: 0.6339 - accuracy: 0.6411 - val_loss: 0.6323 - val_accuracy: 0.6522\n",
            "Epoch 33/100\n",
            "70/70 [==============================] - 0s 3ms/step - loss: 0.6333 - accuracy: 0.6462 - val_loss: 0.6322 - val_accuracy: 0.6526\n",
            "Epoch 34/100\n",
            "70/70 [==============================] - 0s 3ms/step - loss: 0.6330 - accuracy: 0.6442 - val_loss: 0.6319 - val_accuracy: 0.6531\n",
            "Epoch 35/100\n",
            "70/70 [==============================] - 0s 3ms/step - loss: 0.6327 - accuracy: 0.6455 - val_loss: 0.6318 - val_accuracy: 0.6526\n",
            "Epoch 36/100\n",
            "70/70 [==============================] - 0s 4ms/step - loss: 0.6324 - accuracy: 0.6422 - val_loss: 0.6317 - val_accuracy: 0.6531\n",
            "Epoch 37/100\n",
            "70/70 [==============================] - 0s 5ms/step - loss: 0.6323 - accuracy: 0.6456 - val_loss: 0.6318 - val_accuracy: 0.6517\n",
            "Epoch 38/100\n",
            "70/70 [==============================] - 0s 4ms/step - loss: 0.6322 - accuracy: 0.6442 - val_loss: 0.6314 - val_accuracy: 0.6513\n",
            "Epoch 39/100\n",
            "70/70 [==============================] - 0s 4ms/step - loss: 0.6318 - accuracy: 0.6468 - val_loss: 0.6320 - val_accuracy: 0.6468\n",
            "Epoch 40/100\n",
            "70/70 [==============================] - 0s 4ms/step - loss: 0.6318 - accuracy: 0.6445 - val_loss: 0.6313 - val_accuracy: 0.6513\n",
            "Epoch 41/100\n",
            "70/70 [==============================] - 0s 4ms/step - loss: 0.6313 - accuracy: 0.6472 - val_loss: 0.6308 - val_accuracy: 0.6513\n",
            "Epoch 42/100\n",
            "70/70 [==============================] - 0s 3ms/step - loss: 0.6310 - accuracy: 0.6481 - val_loss: 0.6309 - val_accuracy: 0.6513\n",
            "Epoch 43/100\n",
            "70/70 [==============================] - 0s 4ms/step - loss: 0.6308 - accuracy: 0.6457 - val_loss: 0.6310 - val_accuracy: 0.6517\n",
            "Epoch 44/100\n",
            "70/70 [==============================] - 0s 4ms/step - loss: 0.6307 - accuracy: 0.6481 - val_loss: 0.6307 - val_accuracy: 0.6513\n",
            "Epoch 45/100\n",
            "70/70 [==============================] - 0s 5ms/step - loss: 0.6305 - accuracy: 0.6483 - val_loss: 0.6306 - val_accuracy: 0.6513\n",
            "Epoch 46/100\n",
            "70/70 [==============================] - 0s 4ms/step - loss: 0.6304 - accuracy: 0.6487 - val_loss: 0.6306 - val_accuracy: 0.6517\n",
            "Epoch 47/100\n",
            "70/70 [==============================] - 0s 4ms/step - loss: 0.6305 - accuracy: 0.6478 - val_loss: 0.6302 - val_accuracy: 0.6517\n",
            "Epoch 48/100\n",
            "70/70 [==============================] - 0s 5ms/step - loss: 0.6301 - accuracy: 0.6489 - val_loss: 0.6303 - val_accuracy: 0.6526\n",
            "Epoch 49/100\n",
            "70/70 [==============================] - 0s 4ms/step - loss: 0.6301 - accuracy: 0.6478 - val_loss: 0.6301 - val_accuracy: 0.6526\n",
            "Epoch 50/100\n",
            "70/70 [==============================] - 0s 3ms/step - loss: 0.6299 - accuracy: 0.6490 - val_loss: 0.6300 - val_accuracy: 0.6522\n",
            "Epoch 51/100\n",
            "70/70 [==============================] - 0s 3ms/step - loss: 0.6296 - accuracy: 0.6489 - val_loss: 0.6300 - val_accuracy: 0.6531\n",
            "Epoch 52/100\n",
            "70/70 [==============================] - 0s 3ms/step - loss: 0.6299 - accuracy: 0.6487 - val_loss: 0.6298 - val_accuracy: 0.6531\n",
            "Epoch 53/100\n",
            "70/70 [==============================] - 0s 3ms/step - loss: 0.6292 - accuracy: 0.6485 - val_loss: 0.6302 - val_accuracy: 0.6526\n",
            "Epoch 54/100\n",
            "70/70 [==============================] - 0s 3ms/step - loss: 0.6293 - accuracy: 0.6476 - val_loss: 0.6300 - val_accuracy: 0.6526\n",
            "Epoch 55/100\n",
            "70/70 [==============================] - 0s 3ms/step - loss: 0.6292 - accuracy: 0.6489 - val_loss: 0.6296 - val_accuracy: 0.6536\n",
            "Epoch 56/100\n",
            "70/70 [==============================] - 0s 3ms/step - loss: 0.6289 - accuracy: 0.6502 - val_loss: 0.6294 - val_accuracy: 0.6522\n",
            "Epoch 57/100\n",
            "70/70 [==============================] - 0s 3ms/step - loss: 0.6286 - accuracy: 0.6508 - val_loss: 0.6293 - val_accuracy: 0.6540\n",
            "Epoch 58/100\n",
            "70/70 [==============================] - 0s 3ms/step - loss: 0.6287 - accuracy: 0.6496 - val_loss: 0.6292 - val_accuracy: 0.6545\n",
            "Epoch 59/100\n",
            "70/70 [==============================] - 0s 3ms/step - loss: 0.6288 - accuracy: 0.6488 - val_loss: 0.6295 - val_accuracy: 0.6531\n",
            "Epoch 60/100\n",
            "70/70 [==============================] - 0s 3ms/step - loss: 0.6283 - accuracy: 0.6500 - val_loss: 0.6294 - val_accuracy: 0.6522\n",
            "Epoch 61/100\n",
            "70/70 [==============================] - 0s 3ms/step - loss: 0.6280 - accuracy: 0.6513 - val_loss: 0.6291 - val_accuracy: 0.6531\n",
            "Epoch 62/100\n",
            "70/70 [==============================] - 0s 3ms/step - loss: 0.6276 - accuracy: 0.6491 - val_loss: 0.6284 - val_accuracy: 0.6526\n",
            "Epoch 63/100\n",
            "70/70 [==============================] - 0s 3ms/step - loss: 0.6275 - accuracy: 0.6509 - val_loss: 0.6285 - val_accuracy: 0.6526\n",
            "Epoch 64/100\n",
            "70/70 [==============================] - 0s 3ms/step - loss: 0.6274 - accuracy: 0.6511 - val_loss: 0.6283 - val_accuracy: 0.6531\n",
            "Epoch 65/100\n",
            "70/70 [==============================] - 0s 3ms/step - loss: 0.6272 - accuracy: 0.6493 - val_loss: 0.6285 - val_accuracy: 0.6526\n",
            "Epoch 66/100\n",
            "70/70 [==============================] - 0s 3ms/step - loss: 0.6276 - accuracy: 0.6485 - val_loss: 0.6283 - val_accuracy: 0.6531\n",
            "Epoch 67/100\n",
            "70/70 [==============================] - 0s 3ms/step - loss: 0.6267 - accuracy: 0.6490 - val_loss: 0.6293 - val_accuracy: 0.6540\n",
            "Epoch 68/100\n",
            "70/70 [==============================] - 0s 3ms/step - loss: 0.6268 - accuracy: 0.6514 - val_loss: 0.6283 - val_accuracy: 0.6526\n",
            "Epoch 69/100\n",
            "70/70 [==============================] - 0s 3ms/step - loss: 0.6268 - accuracy: 0.6508 - val_loss: 0.6282 - val_accuracy: 0.6526\n",
            "Epoch 70/100\n",
            "70/70 [==============================] - 0s 4ms/step - loss: 0.6268 - accuracy: 0.6521 - val_loss: 0.6279 - val_accuracy: 0.6526\n",
            "Epoch 71/100\n",
            "70/70 [==============================] - 0s 3ms/step - loss: 0.6265 - accuracy: 0.6512 - val_loss: 0.6277 - val_accuracy: 0.6531\n",
            "Epoch 72/100\n",
            "70/70 [==============================] - 0s 3ms/step - loss: 0.6263 - accuracy: 0.6515 - val_loss: 0.6279 - val_accuracy: 0.6531\n",
            "Epoch 73/100\n",
            "70/70 [==============================] - 0s 3ms/step - loss: 0.6263 - accuracy: 0.6509 - val_loss: 0.6276 - val_accuracy: 0.6531\n",
            "Epoch 74/100\n",
            "70/70 [==============================] - 0s 3ms/step - loss: 0.6263 - accuracy: 0.6487 - val_loss: 0.6277 - val_accuracy: 0.6536\n",
            "Epoch 75/100\n",
            "70/70 [==============================] - 0s 2ms/step - loss: 0.6259 - accuracy: 0.6521 - val_loss: 0.6276 - val_accuracy: 0.6531\n",
            "Epoch 76/100\n",
            "70/70 [==============================] - 0s 3ms/step - loss: 0.6258 - accuracy: 0.6523 - val_loss: 0.6276 - val_accuracy: 0.6540\n",
            "Epoch 77/100\n",
            "70/70 [==============================] - 0s 3ms/step - loss: 0.6258 - accuracy: 0.6528 - val_loss: 0.6277 - val_accuracy: 0.6545\n",
            "Epoch 78/100\n",
            "70/70 [==============================] - 0s 3ms/step - loss: 0.6257 - accuracy: 0.6523 - val_loss: 0.6277 - val_accuracy: 0.6545\n",
            "Epoch 79/100\n",
            "70/70 [==============================] - 0s 3ms/step - loss: 0.6255 - accuracy: 0.6516 - val_loss: 0.6275 - val_accuracy: 0.6540\n",
            "Epoch 80/100\n",
            "70/70 [==============================] - 0s 3ms/step - loss: 0.6255 - accuracy: 0.6529 - val_loss: 0.6272 - val_accuracy: 0.6554\n",
            "Epoch 81/100\n",
            "70/70 [==============================] - 0s 3ms/step - loss: 0.6255 - accuracy: 0.6529 - val_loss: 0.6270 - val_accuracy: 0.6554\n",
            "Epoch 82/100\n",
            "70/70 [==============================] - 0s 3ms/step - loss: 0.6253 - accuracy: 0.6533 - val_loss: 0.6270 - val_accuracy: 0.6554\n",
            "Epoch 83/100\n",
            "70/70 [==============================] - 0s 3ms/step - loss: 0.6253 - accuracy: 0.6534 - val_loss: 0.6270 - val_accuracy: 0.6554\n",
            "Epoch 84/100\n",
            "70/70 [==============================] - 0s 3ms/step - loss: 0.6250 - accuracy: 0.6534 - val_loss: 0.6273 - val_accuracy: 0.6554\n",
            "Epoch 85/100\n",
            "70/70 [==============================] - 0s 3ms/step - loss: 0.6249 - accuracy: 0.6539 - val_loss: 0.6271 - val_accuracy: 0.6540\n",
            "Epoch 86/100\n",
            "70/70 [==============================] - 0s 3ms/step - loss: 0.6250 - accuracy: 0.6536 - val_loss: 0.6269 - val_accuracy: 0.6554\n",
            "Epoch 87/100\n",
            "70/70 [==============================] - 0s 3ms/step - loss: 0.6248 - accuracy: 0.6538 - val_loss: 0.6273 - val_accuracy: 0.6558\n",
            "Epoch 88/100\n",
            "70/70 [==============================] - 0s 3ms/step - loss: 0.6250 - accuracy: 0.6524 - val_loss: 0.6270 - val_accuracy: 0.6563\n",
            "Epoch 89/100\n",
            "70/70 [==============================] - 0s 3ms/step - loss: 0.6247 - accuracy: 0.6543 - val_loss: 0.6269 - val_accuracy: 0.6554\n",
            "Epoch 90/100\n",
            "70/70 [==============================] - 0s 3ms/step - loss: 0.6248 - accuracy: 0.6537 - val_loss: 0.6270 - val_accuracy: 0.6549\n",
            "Epoch 91/100\n",
            "70/70 [==============================] - 0s 3ms/step - loss: 0.6245 - accuracy: 0.6531 - val_loss: 0.6273 - val_accuracy: 0.6545\n",
            "Epoch 92/100\n",
            "70/70 [==============================] - 0s 3ms/step - loss: 0.6248 - accuracy: 0.6540 - val_loss: 0.6268 - val_accuracy: 0.6554\n",
            "Epoch 93/100\n",
            "70/70 [==============================] - 0s 3ms/step - loss: 0.6246 - accuracy: 0.6536 - val_loss: 0.6272 - val_accuracy: 0.6526\n",
            "Epoch 94/100\n",
            "70/70 [==============================] - 0s 4ms/step - loss: 0.6246 - accuracy: 0.6506 - val_loss: 0.6267 - val_accuracy: 0.6540\n",
            "Epoch 95/100\n",
            "70/70 [==============================] - 0s 3ms/step - loss: 0.6244 - accuracy: 0.6519 - val_loss: 0.6272 - val_accuracy: 0.6558\n",
            "Epoch 96/100\n",
            "70/70 [==============================] - 0s 4ms/step - loss: 0.6242 - accuracy: 0.6546 - val_loss: 0.6268 - val_accuracy: 0.6549\n",
            "Epoch 97/100\n",
            "70/70 [==============================] - 0s 4ms/step - loss: 0.6241 - accuracy: 0.6545 - val_loss: 0.6272 - val_accuracy: 0.6536\n",
            "Epoch 98/100\n",
            "70/70 [==============================] - 0s 4ms/step - loss: 0.6245 - accuracy: 0.6536 - val_loss: 0.6265 - val_accuracy: 0.6545\n",
            "Epoch 99/100\n",
            "70/70 [==============================] - 0s 5ms/step - loss: 0.6240 - accuracy: 0.6547 - val_loss: 0.6266 - val_accuracy: 0.6554\n",
            "Epoch 100/100\n",
            "70/70 [==============================] - 0s 4ms/step - loss: 0.6238 - accuracy: 0.6538 - val_loss: 0.6267 - val_accuracy: 0.6545\n"
          ]
        }
      ]
    },
    {
      "cell_type": "markdown",
      "source": [
        "##### **Evaluación de modelo sin datos algo asociados**"
      ],
      "metadata": {
        "id": "44N5FUlmPy-D"
      }
    },
    {
      "cell_type": "code",
      "source": [
        "_, accuracy = model_xd.evaluate(xxd_eval, yxd_eval)\n",
        "print(\"Accuracy: {:.2f}%\".format(accuracy * 100))"
      ],
      "metadata": {
        "colab": {
          "base_uri": "https://localhost:8080/"
        },
        "id": "W2Wgrc2UPzZo",
        "outputId": "84d9cba3-3d6a-44a5-f0d3-d9e787e1e071"
      },
      "execution_count": null,
      "outputs": [
        {
          "output_type": "stream",
          "name": "stdout",
          "text": [
            "70/70 [==============================] - 0s 3ms/step - loss: 0.6267 - accuracy: 0.6545\n",
            "Accuracy: 65.45%\n"
          ]
        }
      ]
    },
    {
      "cell_type": "code",
      "source": [
        "plt.title(\"Gráfica de loss\")\n",
        "plt.xlabel(\"Época\")\n",
        "plt.ylabel(\"Loss\")\n",
        "plt.plot(history.history[\"loss\"])\n",
        "plt.plot(history.history[\"val_loss\"])\n",
        "plt.legend([\"Entrenamiento\", \"Validación\"], loc=\"upper right\")"
      ],
      "metadata": {
        "colab": {
          "base_uri": "https://localhost:8080/"
        },
        "id": "4opnbzY6P0lp",
        "outputId": "b3671c24-2c41-4338-b227-77afb64d4614"
      },
      "execution_count": null,
      "outputs": [
        {
          "output_type": "execute_result",
          "data": {
            "text/plain": [
              "<matplotlib.legend.Legend at 0x7f0e2f743670>"
            ]
          },
          "metadata": {},
          "execution_count": 78
        },
        {
          "output_type": "display_data",
          "data": {
            "text/plain": [
              "<Figure size 640x480 with 1 Axes>"
            ],
            "image/png": "[encoded data removed]"
          },
          "metadata": {}
        }
      ]
    },
    {
      "cell_type": "code",
      "source": [
        "plt.title(\"Gráfica de accuracy\")\n",
        "plt.xlabel(\"Época\")\n",
        "plt.ylabel(\"Accuracy\")\n",
        "plt.plot(history.history[\"accuracy\"])\n",
        "plt.plot(history.history[\"val_accuracy\"])\n",
        "plt.legend([\"Entrenamiento\", \"Validación\"], loc=\"lower right\")"
      ],
      "metadata": {
        "colab": {
          "base_uri": "https://localhost:8080/"
        },
        "id": "8y1l_tWrP1jw",
        "outputId": "273295e3-b4e3-4700-ca0a-c34718a61276"
      },
      "execution_count": null,
      "outputs": [
        {
          "output_type": "execute_result",
          "data": {
            "text/plain": [
              "<matplotlib.legend.Legend at 0x7f0e443347f0>"
            ]
          },
          "metadata": {},
          "execution_count": 79
        },
        {
          "output_type": "display_data",
          "data": {
            "text/plain": [
              "<Figure size 640x480 with 1 Axes>"
            ],
            "image/png": "[encoded data removed]"
          },
          "metadata": {}
        }
      ]
    }
  ],
  "metadata": {
    "colab": {
      "provenance": [],
      "toc_visible": true
    },
    "kernelspec": {
      "display_name": "Python 3",
      "name": "python3"
    },
    "language_info": {
      "name": "python"
    }
  },
  "nbformat": 4,
  "nbformat_minor": 0
}