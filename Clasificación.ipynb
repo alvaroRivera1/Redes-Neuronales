{
  "cells": [
    {
      "cell_type": "markdown",
      "metadata": {
        "id": "fHsoemuc6tjf"
      },
      "source": [
        "#**Inteligencia artificial**\n",
        "##**Proyecto de unidad I - Junio, 2023**\n",
        "\n",
        "---\n",
        "\n"
      ]
    },
    {
      "cell_type": "markdown",
      "metadata": {
        "id": "Z8twY-ke7idh"
      },
      "source": [
        ">**Integrantes**\n",
        "*   Anselmo César Farfan Pajuelo\n",
        "*   Jean Carlos Escobar Arcaya\n",
        "*   Johan Marcos Condori Orellana\n",
        "*   Alvaro Alejandro Rivera Ramirez\n",
        "*   Romel Nelson Roy Melchor Rosas\n",
        "\n"
      ]
    },
    {
      "cell_type": "markdown",
      "metadata": {
        "id": "6dTR9Njm7q20"
      },
      "source": [
        "---\n",
        "Librerías del proyecto"
      ]
    },
    {
      "cell_type": "code",
      "execution_count": 1,
      "metadata": {
        "id": "TOQKMjBvJTba"
      },
      "outputs": [],
      "source": [
        "import pandas as pd # Para lectura de datos inicial\n",
        "import numpy as np  # Para manejo de matrices con numpy\n",
        "import matplotlib.pyplot as plt\n",
        "import tensorflow as tf\n",
        "from scipy.io import arff # Para lectura de archivo .arff\n",
        "from sklearn.model_selection import train_test_split  # Para separar los conjunto de datos en evaluación y entrenamiento\n",
        "from sklearn.metrics import confusion_matrix #Para la matriz de confusión\n",
        "from keras.models import Sequential # Para el uso de modelos secuenciales\n",
        "from keras.layers import Dense  # Para establecer capas densas en el modelo"
      ]
    },
    {
      "cell_type": "markdown",
      "metadata": {
        "id": "MyRmYSZ49xRG"
      },
      "source": [
        "##**Clasificación**"
      ]
    },
    {
      "cell_type": "markdown",
      "metadata": {
        "id": "weovHOL2nmsS"
      },
      "source": [
        "### **Problema a resolver**\n",
        "\n",
        "Realizar un modelo que clasifique un sitio web en base a 30 atributos como \"Sitio de phishing\" o \"Sitio legítimo\"\n",
        "\n",
        "\n",
        "\n",
        "1.    having_IP_Address  { -1,1 }\n",
        "2.    URL_Length   { 1,0,-1 }\n",
        "3.    Shortining_Service { 1,-1 }\n",
        "4.    having_At_Symbol   { 1,-1 }\n",
        "5.    double_slash_redirecting { -1,1 }\n",
        "6.    Prefix_Suffix  { -1,1 }\n",
        "7.    having_Sub_Domain  { -1,0,1 }\n",
        "8.    SSLfinal_State  { -1,1,0 }\n",
        "9.    Domain_registeration_length { -1,1 }\n",
        "10.    Favicon { 1,-1 }\n",
        "11.    port { 1,-1 }\n",
        "12.    HTTPS_token { -1,1 }\n",
        "13.    Request_URL  { 1,-1 }\n",
        "14.    URL_of_Anchor { -1,0,1 }\n",
        "15.    Links_in_tags { 1,-1,0 }\n",
        "16.    SFH  { -1,1,0 }\n",
        "17.    Submitting_to_email { -1,1 }\n",
        "18.    Abnormal_URL { -1,1 }\n",
        "19.    Redirect  { 0,1 }\n",
        "20.    on_mouseover  { 1,-1 }\n",
        "21.    RightClick  { 1,-1 }\n",
        "22.    popUpWidnow  { 1,-1 }\n",
        "23.    Iframe { 1,-1 }\n",
        "24.    age_of_domain  { -1,1 }\n",
        "25.    DNSRecord   { -1,1 }\n",
        "26.    web_traffic  { -1,0,1 }\n",
        "27.    Page_Rank { -1,1 }\n",
        "28.    Google_Index { 1,-1 }\n",
        "29.    Links_pointing_to_page { 1,0,-1 }\n",
        "30.    Statistical_report { -1,1 }\n",
        "1.    Result  { -1,1 }\n",
        "\n",
        "\n",
        "\n",
        "\n",
        "> Se utilizara un clasificador binario, 30 neuronas de entrada y 1 de salida\n",
        "\n",
        "Modelo de clasificación binaria"
      ]
    },
    {
      "cell_type": "markdown",
      "metadata": {
        "id": "hQJsps64nkKJ"
      },
      "source": [
        "### **Procedimiento**"
      ]
    },
    {
      "cell_type": "markdown",
      "metadata": {
        "id": "cFB_hvqd9dwX"
      },
      "source": [
        "> Carga del data set en el espacio de trabajo"
      ]
    },
    {
      "cell_type": "code",
      "execution_count": 2,
      "metadata": {
        "id": "r3w8sOtfMsUJ",
        "colab": {
          "base_uri": "https://localhost:8080/",
          "height": 487
        },
        "outputId": "36bb46e0-ed7b-48b3-9512-e7b23b0d84ec"
      },
      "outputs": [
        {
          "output_type": "execute_result",
          "data": {
            "text/plain": [
              "       having_IP_Address  URL_Length  Shortining_Service  having_At_Symbol  \\\n",
              "0                     -1           1                   1                 1   \n",
              "1                      1           1                   1                 1   \n",
              "2                      1           0                   1                 1   \n",
              "3                      1           0                   1                 1   \n",
              "4                      1           0                  -1                 1   \n",
              "...                  ...         ...                 ...               ...   \n",
              "11050                  1          -1                   1                -1   \n",
              "11051                 -1           1                   1                -1   \n",
              "11052                  1          -1                   1                 1   \n",
              "11053                 -1          -1                   1                 1   \n",
              "11054                 -1          -1                   1                 1   \n",
              "\n",
              "       double_slash_redirecting  Prefix_Suffix  having_Sub_Domain  \\\n",
              "0                            -1             -1                 -1   \n",
              "1                             1             -1                  0   \n",
              "2                             1             -1                 -1   \n",
              "3                             1             -1                 -1   \n",
              "4                             1             -1                  1   \n",
              "...                         ...            ...                ...   \n",
              "11050                         1              1                  1   \n",
              "11051                        -1             -1                  1   \n",
              "11052                         1             -1                  1   \n",
              "11053                         1             -1                 -1   \n",
              "11054                         1             -1                 -1   \n",
              "\n",
              "       SSLfinal_State  Domain_registeration_length  Favicon  ...  popUpWidnow  \\\n",
              "0                  -1                           -1        1  ...            1   \n",
              "1                   1                           -1        1  ...            1   \n",
              "2                  -1                           -1        1  ...            1   \n",
              "3                  -1                            1        1  ...            1   \n",
              "4                   1                           -1        1  ...           -1   \n",
              "...               ...                          ...      ...  ...          ...   \n",
              "11050               1                           -1       -1  ...           -1   \n",
              "11051              -1                           -1       -1  ...           -1   \n",
              "11052              -1                           -1        1  ...            1   \n",
              "11053              -1                            1       -1  ...           -1   \n",
              "11054              -1                            1        1  ...            1   \n",
              "\n",
              "       Iframe  age_of_domain  DNSRecord  web_traffic  Page_Rank  Google_Index  \\\n",
              "0           1             -1         -1           -1         -1             1   \n",
              "1           1             -1         -1            0         -1             1   \n",
              "2           1              1         -1            1         -1             1   \n",
              "3           1             -1         -1            1         -1             1   \n",
              "4           1             -1         -1            0         -1             1   \n",
              "...       ...            ...        ...          ...        ...           ...   \n",
              "11050      -1              1          1           -1         -1             1   \n",
              "11051       1              1          1            1          1             1   \n",
              "11052       1              1          1            1         -1             1   \n",
              "11053       1              1          1            1         -1             1   \n",
              "11054       1             -1          1           -1         -1            -1   \n",
              "\n",
              "       Links_pointing_to_page  Statistical_report  Result  \n",
              "0                           1                  -1      -1  \n",
              "1                           1                   1      -1  \n",
              "2                           0                  -1      -1  \n",
              "3                          -1                   1      -1  \n",
              "4                           1                   1       1  \n",
              "...                       ...                 ...     ...  \n",
              "11050                       1                   1       1  \n",
              "11051                      -1                   1      -1  \n",
              "11052                       0                   1      -1  \n",
              "11053                       1                   1      -1  \n",
              "11054                       1                  -1      -1  \n",
              "\n",
              "[11055 rows x 31 columns]"
            ],
            "text/html": [
              "\n",
              "  <div id=\"df-edb48cbf-2729-4245-81f5-f8f87a8e624e\">\n",
              "    <div class=\"colab-df-container\">\n",
              "      <div>\n",
              "<style scoped>\n",
              "    .dataframe tbody tr th:only-of-type {\n",
              "        vertical-align: middle;\n",
              "    }\n",
              "\n",
              "    .dataframe tbody tr th {\n",
              "        vertical-align: top;\n",
              "    }\n",
              "\n",
              "    .dataframe thead th {\n",
              "        text-align: right;\n",
              "    }\n",
              "</style>\n",
              "<table border=\"1\" class=\"dataframe\">\n",
              "  <thead>\n",
              "    <tr style=\"text-align: right;\">\n",
              "      <th></th>\n",
              "      <th>having_IP_Address</th>\n",
              "      <th>URL_Length</th>\n",
              "      <th>Shortining_Service</th>\n",
              "      <th>having_At_Symbol</th>\n",
              "      <th>double_slash_redirecting</th>\n",
              "      <th>Prefix_Suffix</th>\n",
              "      <th>having_Sub_Domain</th>\n",
              "      <th>SSLfinal_State</th>\n",
              "      <th>Domain_registeration_length</th>\n",
              "      <th>Favicon</th>\n",
              "      <th>...</th>\n",
              "      <th>popUpWidnow</th>\n",
              "      <th>Iframe</th>\n",
              "      <th>age_of_domain</th>\n",
              "      <th>DNSRecord</th>\n",
              "      <th>web_traffic</th>\n",
              "      <th>Page_Rank</th>\n",
              "      <th>Google_Index</th>\n",
              "      <th>Links_pointing_to_page</th>\n",
              "      <th>Statistical_report</th>\n",
              "      <th>Result</th>\n",
              "    </tr>\n",
              "  </thead>\n",
              "  <tbody>\n",
              "    <tr>\n",
              "      <th>0</th>\n",
              "      <td>-1</td>\n",
              "      <td>1</td>\n",
              "      <td>1</td>\n",
              "      <td>1</td>\n",
              "      <td>-1</td>\n",
              "      <td>-1</td>\n",
              "      <td>-1</td>\n",
              "      <td>-1</td>\n",
              "      <td>-1</td>\n",
              "      <td>1</td>\n",
              "      <td>...</td>\n",
              "      <td>1</td>\n",
              "      <td>1</td>\n",
              "      <td>-1</td>\n",
              "      <td>-1</td>\n",
              "      <td>-1</td>\n",
              "      <td>-1</td>\n",
              "      <td>1</td>\n",
              "      <td>1</td>\n",
              "      <td>-1</td>\n",
              "      <td>-1</td>\n",
              "    </tr>\n",
              "    <tr>\n",
              "      <th>1</th>\n",
              "      <td>1</td>\n",
              "      <td>1</td>\n",
              "      <td>1</td>\n",
              "      <td>1</td>\n",
              "      <td>1</td>\n",
              "      <td>-1</td>\n",
              "      <td>0</td>\n",
              "      <td>1</td>\n",
              "      <td>-1</td>\n",
              "      <td>1</td>\n",
              "      <td>...</td>\n",
              "      <td>1</td>\n",
              "      <td>1</td>\n",
              "      <td>-1</td>\n",
              "      <td>-1</td>\n",
              "      <td>0</td>\n",
              "      <td>-1</td>\n",
              "      <td>1</td>\n",
              "      <td>1</td>\n",
              "      <td>1</td>\n",
              "      <td>-1</td>\n",
              "    </tr>\n",
              "    <tr>\n",
              "      <th>2</th>\n",
              "      <td>1</td>\n",
              "      <td>0</td>\n",
              "      <td>1</td>\n",
              "      <td>1</td>\n",
              "      <td>1</td>\n",
              "      <td>-1</td>\n",
              "      <td>-1</td>\n",
              "      <td>-1</td>\n",
              "      <td>-1</td>\n",
              "      <td>1</td>\n",
              "      <td>...</td>\n",
              "      <td>1</td>\n",
              "      <td>1</td>\n",
              "      <td>1</td>\n",
              "      <td>-1</td>\n",
              "      <td>1</td>\n",
              "      <td>-1</td>\n",
              "      <td>1</td>\n",
              "      <td>0</td>\n",
              "      <td>-1</td>\n",
              "      <td>-1</td>\n",
              "    </tr>\n",
              "    <tr>\n",
              "      <th>3</th>\n",
              "      <td>1</td>\n",
              "      <td>0</td>\n",
              "      <td>1</td>\n",
              "      <td>1</td>\n",
              "      <td>1</td>\n",
              "      <td>-1</td>\n",
              "      <td>-1</td>\n",
              "      <td>-1</td>\n",
              "      <td>1</td>\n",
              "      <td>1</td>\n",
              "      <td>...</td>\n",
              "      <td>1</td>\n",
              "      <td>1</td>\n",
              "      <td>-1</td>\n",
              "      <td>-1</td>\n",
              "      <td>1</td>\n",
              "      <td>-1</td>\n",
              "      <td>1</td>\n",
              "      <td>-1</td>\n",
              "      <td>1</td>\n",
              "      <td>-1</td>\n",
              "    </tr>\n",
              "    <tr>\n",
              "      <th>4</th>\n",
              "      <td>1</td>\n",
              "      <td>0</td>\n",
              "      <td>-1</td>\n",
              "      <td>1</td>\n",
              "      <td>1</td>\n",
              "      <td>-1</td>\n",
              "      <td>1</td>\n",
              "      <td>1</td>\n",
              "      <td>-1</td>\n",
              "      <td>1</td>\n",
              "      <td>...</td>\n",
              "      <td>-1</td>\n",
              "      <td>1</td>\n",
              "      <td>-1</td>\n",
              "      <td>-1</td>\n",
              "      <td>0</td>\n",
              "      <td>-1</td>\n",
              "      <td>1</td>\n",
              "      <td>1</td>\n",
              "      <td>1</td>\n",
              "      <td>1</td>\n",
              "    </tr>\n",
              "    <tr>\n",
              "      <th>...</th>\n",
              "      <td>...</td>\n",
              "      <td>...</td>\n",
              "      <td>...</td>\n",
              "      <td>...</td>\n",
              "      <td>...</td>\n",
              "      <td>...</td>\n",
              "      <td>...</td>\n",
              "      <td>...</td>\n",
              "      <td>...</td>\n",
              "      <td>...</td>\n",
              "      <td>...</td>\n",
              "      <td>...</td>\n",
              "      <td>...</td>\n",
              "      <td>...</td>\n",
              "      <td>...</td>\n",
              "      <td>...</td>\n",
              "      <td>...</td>\n",
              "      <td>...</td>\n",
              "      <td>...</td>\n",
              "      <td>...</td>\n",
              "      <td>...</td>\n",
              "    </tr>\n",
              "    <tr>\n",
              "      <th>11050</th>\n",
              "      <td>1</td>\n",
              "      <td>-1</td>\n",
              "      <td>1</td>\n",
              "      <td>-1</td>\n",
              "      <td>1</td>\n",
              "      <td>1</td>\n",
              "      <td>1</td>\n",
              "      <td>1</td>\n",
              "      <td>-1</td>\n",
              "      <td>-1</td>\n",
              "      <td>...</td>\n",
              "      <td>-1</td>\n",
              "      <td>-1</td>\n",
              "      <td>1</td>\n",
              "      <td>1</td>\n",
              "      <td>-1</td>\n",
              "      <td>-1</td>\n",
              "      <td>1</td>\n",
              "      <td>1</td>\n",
              "      <td>1</td>\n",
              "      <td>1</td>\n",
              "    </tr>\n",
              "    <tr>\n",
              "      <th>11051</th>\n",
              "      <td>-1</td>\n",
              "      <td>1</td>\n",
              "      <td>1</td>\n",
              "      <td>-1</td>\n",
              "      <td>-1</td>\n",
              "      <td>-1</td>\n",
              "      <td>1</td>\n",
              "      <td>-1</td>\n",
              "      <td>-1</td>\n",
              "      <td>-1</td>\n",
              "      <td>...</td>\n",
              "      <td>-1</td>\n",
              "      <td>1</td>\n",
              "      <td>1</td>\n",
              "      <td>1</td>\n",
              "      <td>1</td>\n",
              "      <td>1</td>\n",
              "      <td>1</td>\n",
              "      <td>-1</td>\n",
              "      <td>1</td>\n",
              "      <td>-1</td>\n",
              "    </tr>\n",
              "    <tr>\n",
              "      <th>11052</th>\n",
              "      <td>1</td>\n",
              "      <td>-1</td>\n",
              "      <td>1</td>\n",
              "      <td>1</td>\n",
              "      <td>1</td>\n",
              "      <td>-1</td>\n",
              "      <td>1</td>\n",
              "      <td>-1</td>\n",
              "      <td>-1</td>\n",
              "      <td>1</td>\n",
              "      <td>...</td>\n",
              "      <td>1</td>\n",
              "      <td>1</td>\n",
              "      <td>1</td>\n",
              "      <td>1</td>\n",
              "      <td>1</td>\n",
              "      <td>-1</td>\n",
              "      <td>1</td>\n",
              "      <td>0</td>\n",
              "      <td>1</td>\n",
              "      <td>-1</td>\n",
              "    </tr>\n",
              "    <tr>\n",
              "      <th>11053</th>\n",
              "      <td>-1</td>\n",
              "      <td>-1</td>\n",
              "      <td>1</td>\n",
              "      <td>1</td>\n",
              "      <td>1</td>\n",
              "      <td>-1</td>\n",
              "      <td>-1</td>\n",
              "      <td>-1</td>\n",
              "      <td>1</td>\n",
              "      <td>-1</td>\n",
              "      <td>...</td>\n",
              "      <td>-1</td>\n",
              "      <td>1</td>\n",
              "      <td>1</td>\n",
              "      <td>1</td>\n",
              "      <td>1</td>\n",
              "      <td>-1</td>\n",
              "      <td>1</td>\n",
              "      <td>1</td>\n",
              "      <td>1</td>\n",
              "      <td>-1</td>\n",
              "    </tr>\n",
              "    <tr>\n",
              "      <th>11054</th>\n",
              "      <td>-1</td>\n",
              "      <td>-1</td>\n",
              "      <td>1</td>\n",
              "      <td>1</td>\n",
              "      <td>1</td>\n",
              "      <td>-1</td>\n",
              "      <td>-1</td>\n",
              "      <td>-1</td>\n",
              "      <td>1</td>\n",
              "      <td>1</td>\n",
              "      <td>...</td>\n",
              "      <td>1</td>\n",
              "      <td>1</td>\n",
              "      <td>-1</td>\n",
              "      <td>1</td>\n",
              "      <td>-1</td>\n",
              "      <td>-1</td>\n",
              "      <td>-1</td>\n",
              "      <td>1</td>\n",
              "      <td>-1</td>\n",
              "      <td>-1</td>\n",
              "    </tr>\n",
              "  </tbody>\n",
              "</table>\n",
              "<p>11055 rows × 31 columns</p>\n",
              "</div>\n",
              "      <button class=\"colab-df-convert\" onclick=\"convertToInteractive('df-edb48cbf-2729-4245-81f5-f8f87a8e624e')\"\n",
              "              title=\"Convert this dataframe to an interactive table.\"\n",
              "              style=\"display:none;\">\n",
              "        \n",
              "  <svg xmlns=\"http://www.w3.org/2000/svg\" height=\"24px\"viewBox=\"0 0 24 24\"\n",
              "       width=\"24px\">\n",
              "    <path d=\"M0 0h24v24H0V0z\" fill=\"none\"/>\n",
              "    <path d=\"M18.56 5.44l.94 2.06.94-2.06 2.06-.94-2.06-.94-.94-2.06-.94 2.06-2.06.94zm-11 1L8.5 8.5l.94-2.06 2.06-.94-2.06-.94L8.5 2.5l-.94 2.06-2.06.94zm10 10l.94 2.06.94-2.06 2.06-.94-2.06-.94-.94-2.06-.94 2.06-2.06.94z\"/><path d=\"M17.41 7.96l-1.37-1.37c-.4-.4-.92-.59-1.43-.59-.52 0-1.04.2-1.43.59L10.3 9.45l-7.72 7.72c-.78.78-.78 2.05 0 2.83L4 21.41c.39.39.9.59 1.41.59.51 0 1.02-.2 1.41-.59l7.78-7.78 2.81-2.81c.8-.78.8-2.07 0-2.86zM5.41 20L4 18.59l7.72-7.72 1.47 1.35L5.41 20z\"/>\n",
              "  </svg>\n",
              "      </button>\n",
              "      \n",
              "  <style>\n",
              "    .colab-df-container {\n",
              "      display:flex;\n",
              "      flex-wrap:wrap;\n",
              "      gap: 12px;\n",
              "    }\n",
              "\n",
              "    .colab-df-convert {\n",
              "      background-color: #E8F0FE;\n",
              "      border: none;\n",
              "      border-radius: 50%;\n",
              "      cursor: pointer;\n",
              "      display: none;\n",
              "      fill: #1967D2;\n",
              "      height: 32px;\n",
              "      padding: 0 0 0 0;\n",
              "      width: 32px;\n",
              "    }\n",
              "\n",
              "    .colab-df-convert:hover {\n",
              "      background-color: #E2EBFA;\n",
              "      box-shadow: 0px 1px 2px rgba(60, 64, 67, 0.3), 0px 1px 3px 1px rgba(60, 64, 67, 0.15);\n",
              "      fill: #174EA6;\n",
              "    }\n",
              "\n",
              "    [theme=dark] .colab-df-convert {\n",
              "      background-color: #3B4455;\n",
              "      fill: #D2E3FC;\n",
              "    }\n",
              "\n",
              "    [theme=dark] .colab-df-convert:hover {\n",
              "      background-color: #434B5C;\n",
              "      box-shadow: 0px 1px 3px 1px rgba(0, 0, 0, 0.15);\n",
              "      filter: drop-shadow(0px 1px 2px rgba(0, 0, 0, 0.3));\n",
              "      fill: #FFFFFF;\n",
              "    }\n",
              "  </style>\n",
              "\n",
              "      <script>\n",
              "        const buttonEl =\n",
              "          document.querySelector('#df-edb48cbf-2729-4245-81f5-f8f87a8e624e button.colab-df-convert');\n",
              "        buttonEl.style.display =\n",
              "          google.colab.kernel.accessAllowed ? 'block' : 'none';\n",
              "\n",
              "        async function convertToInteractive(key) {\n",
              "          const element = document.querySelector('#df-edb48cbf-2729-4245-81f5-f8f87a8e624e');\n",
              "          const dataTable =\n",
              "            await google.colab.kernel.invokeFunction('convertToInteractive',\n",
              "                                                     [key], {});\n",
              "          if (!dataTable) return;\n",
              "\n",
              "          const docLinkHtml = 'Like what you see? Visit the ' +\n",
              "            '<a target=\"_blank\" href=https://colab.research.google.com/notebooks/data_table.ipynb>data table notebook</a>'\n",
              "            + ' to learn more about interactive tables.';\n",
              "          element.innerHTML = '';\n",
              "          dataTable['output_type'] = 'display_data';\n",
              "          await google.colab.output.renderOutput(dataTable, element);\n",
              "          const docLink = document.createElement('div');\n",
              "          docLink.innerHTML = docLinkHtml;\n",
              "          element.appendChild(docLink);\n",
              "        }\n",
              "      </script>\n",
              "    </div>\n",
              "  </div>\n",
              "  "
            ]
          },
          "metadata": {},
          "execution_count": 2
        }
      ],
      "source": [
        "data, meta = arff.loadarff('/content/Training Dataset.arff')\n",
        "\n",
        "df = pd.DataFrame(data)\n",
        "\n",
        "df = df.applymap(lambda x: int(x.decode('utf-8')))\n",
        "data = df.values\n",
        "\n",
        "df"
      ]
    },
    {
      "cell_type": "markdown",
      "metadata": {
        "id": "tLZJs6jY9sDo"
      },
      "source": [
        "> Particionando el data set en sub conjuntos para evaluación y entrenamiento"
      ]
    },
    {
      "cell_type": "code",
      "execution_count": 3,
      "metadata": {
        "id": "JkKas3TLR8F1"
      },
      "outputs": [],
      "source": [
        "x = data[:, :-1] # todas las filas, todas las columnas hasta < la última\n",
        "y = np.array(list(map(lambda x: x if x == 1 else 0, data[:, -1])))\n",
        "\n",
        "# Separando data set en entrenamiento y evaluación\n",
        "x_train, x_eval, y_train, y_eval = train_test_split(x, y, test_size=0.2, random_state=42)"
      ]
    },
    {
      "cell_type": "markdown",
      "source": [
        "#### **Modelo grande (8 -> 4 -> 2 -> 1)**"
      ],
      "metadata": {
        "id": "LRGvrfsHN8sb"
      }
    },
    {
      "cell_type": "markdown",
      "source": [
        "##### **Elaboración**"
      ],
      "metadata": {
        "id": "dryt37OQOfJA"
      }
    },
    {
      "cell_type": "markdown",
      "source": [
        "> 1. Construyendo el modelo"
      ],
      "metadata": {
        "id": "fKr89-5IN_Qx"
      }
    },
    {
      "cell_type": "code",
      "source": [
        "model_lg = Sequential([\n",
        "    Dense(8, input_dim=30, activation='relu'),\n",
        "    Dense(4, activation='relu'),\n",
        "    Dense(2, activation='relu'),\n",
        "    Dense(1, activation='sigmoid')\n",
        "])"
      ],
      "metadata": {
        "id": "JR39w1tUOBFA"
      },
      "execution_count": 4,
      "outputs": []
    },
    {
      "cell_type": "markdown",
      "source": [
        "> 2. Compilando el modelo"
      ],
      "metadata": {
        "id": "NWHDsBt6OFv2"
      }
    },
    {
      "cell_type": "code",
      "source": [
        "model_lg.compile(\n",
        "  loss='binary_crossentropy',\n",
        "  optimizer='adam',\n",
        "  metrics=['accuracy']\n",
        ")"
      ],
      "metadata": {
        "id": "Llbo6nnwOCTs"
      },
      "execution_count": 5,
      "outputs": []
    },
    {
      "cell_type": "code",
      "source": [
        "history = model_lg.fit(x_train, y_train, validation_data=(x_eval, y_eval), epochs=100, batch_size=256)"
      ],
      "metadata": {
        "colab": {
          "base_uri": "https://localhost:8080/"
        },
        "id": "UYuX7w8bOINr",
        "outputId": "54db58ba-e54f-4740-8db8-fd91d6f8b3a5"
      },
      "execution_count": 6,
      "outputs": [
        {
          "output_type": "stream",
          "name": "stdout",
          "text": [
            "Epoch 1/100\n",
            "35/35 [==============================] - 2s 9ms/step - loss: 0.6923 - accuracy: 0.5303 - val_loss: 0.6902 - val_accuracy: 0.5667\n",
            "Epoch 2/100\n",
            "35/35 [==============================] - 0s 3ms/step - loss: 0.6847 - accuracy: 0.5543 - val_loss: 0.6699 - val_accuracy: 0.5676\n",
            "Epoch 3/100\n",
            "35/35 [==============================] - 0s 3ms/step - loss: 0.6474 - accuracy: 0.5543 - val_loss: 0.6215 - val_accuracy: 0.5676\n",
            "Epoch 4/100\n",
            "35/35 [==============================] - 0s 3ms/step - loss: 0.5973 - accuracy: 0.5543 - val_loss: 0.5686 - val_accuracy: 0.5676\n",
            "Epoch 5/100\n",
            "35/35 [==============================] - 0s 3ms/step - loss: 0.5425 - accuracy: 0.6468 - val_loss: 0.5151 - val_accuracy: 0.8164\n",
            "Epoch 6/100\n",
            "35/35 [==============================] - 0s 3ms/step - loss: 0.4896 - accuracy: 0.8448 - val_loss: 0.4653 - val_accuracy: 0.8598\n",
            "Epoch 7/100\n",
            "35/35 [==============================] - 0s 4ms/step - loss: 0.4453 - accuracy: 0.8848 - val_loss: 0.4267 - val_accuracy: 0.8946\n",
            "Epoch 8/100\n",
            "35/35 [==============================] - 0s 3ms/step - loss: 0.4139 - accuracy: 0.9025 - val_loss: 0.4009 - val_accuracy: 0.9077\n",
            "Epoch 9/100\n",
            "35/35 [==============================] - 0s 3ms/step - loss: 0.3921 - accuracy: 0.9137 - val_loss: 0.3836 - val_accuracy: 0.9145\n",
            "Epoch 10/100\n",
            "35/35 [==============================] - 0s 3ms/step - loss: 0.3768 - accuracy: 0.9177 - val_loss: 0.3702 - val_accuracy: 0.9136\n",
            "Epoch 11/100\n",
            "35/35 [==============================] - 0s 3ms/step - loss: 0.3649 - accuracy: 0.9207 - val_loss: 0.3606 - val_accuracy: 0.9145\n",
            "Epoch 12/100\n",
            "35/35 [==============================] - 0s 3ms/step - loss: 0.3550 - accuracy: 0.9225 - val_loss: 0.3511 - val_accuracy: 0.9195\n",
            "Epoch 13/100\n",
            "35/35 [==============================] - 0s 4ms/step - loss: 0.3464 - accuracy: 0.9249 - val_loss: 0.3436 - val_accuracy: 0.9204\n",
            "Epoch 14/100\n",
            "35/35 [==============================] - 0s 3ms/step - loss: 0.3389 - accuracy: 0.9257 - val_loss: 0.3370 - val_accuracy: 0.9199\n",
            "Epoch 15/100\n",
            "35/35 [==============================] - 0s 3ms/step - loss: 0.3318 - accuracy: 0.9265 - val_loss: 0.3306 - val_accuracy: 0.9227\n",
            "Epoch 16/100\n",
            "35/35 [==============================] - 0s 3ms/step - loss: 0.3254 - accuracy: 0.9274 - val_loss: 0.3248 - val_accuracy: 0.9240\n",
            "Epoch 17/100\n",
            "35/35 [==============================] - 0s 3ms/step - loss: 0.3198 - accuracy: 0.9279 - val_loss: 0.3195 - val_accuracy: 0.9249\n",
            "Epoch 18/100\n",
            "35/35 [==============================] - 0s 3ms/step - loss: 0.3142 - accuracy: 0.9281 - val_loss: 0.3155 - val_accuracy: 0.9263\n",
            "Epoch 19/100\n",
            "35/35 [==============================] - 0s 3ms/step - loss: 0.3091 - accuracy: 0.9293 - val_loss: 0.3108 - val_accuracy: 0.9272\n",
            "Epoch 20/100\n",
            "35/35 [==============================] - 0s 3ms/step - loss: 0.3043 - accuracy: 0.9302 - val_loss: 0.3042 - val_accuracy: 0.9227\n",
            "Epoch 21/100\n",
            "35/35 [==============================] - 0s 3ms/step - loss: 0.2903 - accuracy: 0.9296 - val_loss: 0.2836 - val_accuracy: 0.9240\n",
            "Epoch 22/100\n",
            "35/35 [==============================] - 0s 3ms/step - loss: 0.2700 - accuracy: 0.9300 - val_loss: 0.2673 - val_accuracy: 0.9254\n",
            "Epoch 23/100\n",
            "35/35 [==============================] - 0s 3ms/step - loss: 0.2543 - accuracy: 0.9303 - val_loss: 0.2557 - val_accuracy: 0.9258\n",
            "Epoch 24/100\n",
            "35/35 [==============================] - 0s 3ms/step - loss: 0.2405 - accuracy: 0.9322 - val_loss: 0.2441 - val_accuracy: 0.9249\n",
            "Epoch 25/100\n",
            "35/35 [==============================] - 0s 3ms/step - loss: 0.2302 - accuracy: 0.9306 - val_loss: 0.2357 - val_accuracy: 0.9258\n",
            "Epoch 26/100\n",
            "35/35 [==============================] - 0s 3ms/step - loss: 0.2215 - accuracy: 0.9318 - val_loss: 0.2294 - val_accuracy: 0.9249\n",
            "Epoch 27/100\n",
            "35/35 [==============================] - 0s 3ms/step - loss: 0.2150 - accuracy: 0.9315 - val_loss: 0.2234 - val_accuracy: 0.9276\n",
            "Epoch 28/100\n",
            "35/35 [==============================] - 0s 3ms/step - loss: 0.2078 - accuracy: 0.9337 - val_loss: 0.2178 - val_accuracy: 0.9272\n",
            "Epoch 29/100\n",
            "35/35 [==============================] - 0s 3ms/step - loss: 0.2024 - accuracy: 0.9339 - val_loss: 0.2133 - val_accuracy: 0.9281\n",
            "Epoch 30/100\n",
            "35/35 [==============================] - 0s 4ms/step - loss: 0.1981 - accuracy: 0.9345 - val_loss: 0.2112 - val_accuracy: 0.9285\n",
            "Epoch 31/100\n",
            "35/35 [==============================] - 0s 3ms/step - loss: 0.1940 - accuracy: 0.9345 - val_loss: 0.2068 - val_accuracy: 0.9272\n",
            "Epoch 32/100\n",
            "35/35 [==============================] - 0s 4ms/step - loss: 0.1907 - accuracy: 0.9350 - val_loss: 0.2041 - val_accuracy: 0.9294\n",
            "Epoch 33/100\n",
            "35/35 [==============================] - 0s 3ms/step - loss: 0.1878 - accuracy: 0.9352 - val_loss: 0.2029 - val_accuracy: 0.9276\n",
            "Epoch 34/100\n",
            "35/35 [==============================] - 0s 4ms/step - loss: 0.1858 - accuracy: 0.9342 - val_loss: 0.2019 - val_accuracy: 0.9303\n",
            "Epoch 35/100\n",
            "35/35 [==============================] - 0s 3ms/step - loss: 0.1832 - accuracy: 0.9353 - val_loss: 0.1981 - val_accuracy: 0.9322\n",
            "Epoch 36/100\n",
            "35/35 [==============================] - 0s 3ms/step - loss: 0.1783 - accuracy: 0.9360 - val_loss: 0.1928 - val_accuracy: 0.9299\n",
            "Epoch 37/100\n",
            "35/35 [==============================] - 0s 3ms/step - loss: 0.1732 - accuracy: 0.9368 - val_loss: 0.1900 - val_accuracy: 0.9317\n",
            "Epoch 38/100\n",
            "35/35 [==============================] - 0s 3ms/step - loss: 0.1709 - accuracy: 0.9354 - val_loss: 0.1872 - val_accuracy: 0.9299\n",
            "Epoch 39/100\n",
            "35/35 [==============================] - 0s 4ms/step - loss: 0.1683 - accuracy: 0.9366 - val_loss: 0.1874 - val_accuracy: 0.9313\n",
            "Epoch 40/100\n",
            "35/35 [==============================] - 0s 3ms/step - loss: 0.1673 - accuracy: 0.9361 - val_loss: 0.1878 - val_accuracy: 0.9313\n",
            "Epoch 41/100\n",
            "35/35 [==============================] - 0s 3ms/step - loss: 0.1654 - accuracy: 0.9355 - val_loss: 0.1831 - val_accuracy: 0.9313\n",
            "Epoch 42/100\n",
            "35/35 [==============================] - 0s 3ms/step - loss: 0.1644 - accuracy: 0.9353 - val_loss: 0.1812 - val_accuracy: 0.9308\n",
            "Epoch 43/100\n",
            "35/35 [==============================] - 0s 3ms/step - loss: 0.1628 - accuracy: 0.9351 - val_loss: 0.1817 - val_accuracy: 0.9313\n",
            "Epoch 44/100\n",
            "35/35 [==============================] - 0s 3ms/step - loss: 0.1607 - accuracy: 0.9354 - val_loss: 0.1787 - val_accuracy: 0.9313\n",
            "Epoch 45/100\n",
            "35/35 [==============================] - 0s 3ms/step - loss: 0.1599 - accuracy: 0.9351 - val_loss: 0.1801 - val_accuracy: 0.9308\n",
            "Epoch 46/100\n",
            "35/35 [==============================] - 0s 4ms/step - loss: 0.1585 - accuracy: 0.9365 - val_loss: 0.1794 - val_accuracy: 0.9308\n",
            "Epoch 47/100\n",
            "35/35 [==============================] - 0s 3ms/step - loss: 0.1573 - accuracy: 0.9367 - val_loss: 0.1776 - val_accuracy: 0.9308\n",
            "Epoch 48/100\n",
            "35/35 [==============================] - 0s 4ms/step - loss: 0.1576 - accuracy: 0.9368 - val_loss: 0.1764 - val_accuracy: 0.9317\n",
            "Epoch 49/100\n",
            "35/35 [==============================] - 0s 3ms/step - loss: 0.1553 - accuracy: 0.9358 - val_loss: 0.1762 - val_accuracy: 0.9313\n",
            "Epoch 50/100\n",
            "35/35 [==============================] - 0s 4ms/step - loss: 0.1540 - accuracy: 0.9363 - val_loss: 0.1750 - val_accuracy: 0.9326\n",
            "Epoch 51/100\n",
            "35/35 [==============================] - 0s 5ms/step - loss: 0.1530 - accuracy: 0.9368 - val_loss: 0.1747 - val_accuracy: 0.9326\n",
            "Epoch 52/100\n",
            "35/35 [==============================] - 0s 5ms/step - loss: 0.1519 - accuracy: 0.9367 - val_loss: 0.1741 - val_accuracy: 0.9331\n",
            "Epoch 53/100\n",
            "35/35 [==============================] - 0s 5ms/step - loss: 0.1514 - accuracy: 0.9372 - val_loss: 0.1755 - val_accuracy: 0.9308\n",
            "Epoch 54/100\n",
            "35/35 [==============================] - 0s 4ms/step - loss: 0.1506 - accuracy: 0.9379 - val_loss: 0.1730 - val_accuracy: 0.9326\n",
            "Epoch 55/100\n",
            "35/35 [==============================] - 0s 4ms/step - loss: 0.1502 - accuracy: 0.9369 - val_loss: 0.1726 - val_accuracy: 0.9335\n",
            "Epoch 56/100\n",
            "35/35 [==============================] - 0s 4ms/step - loss: 0.1493 - accuracy: 0.9382 - val_loss: 0.1737 - val_accuracy: 0.9322\n",
            "Epoch 57/100\n",
            "35/35 [==============================] - 0s 4ms/step - loss: 0.1484 - accuracy: 0.9375 - val_loss: 0.1723 - val_accuracy: 0.9340\n",
            "Epoch 58/100\n",
            "35/35 [==============================] - 0s 6ms/step - loss: 0.1477 - accuracy: 0.9377 - val_loss: 0.1717 - val_accuracy: 0.9340\n",
            "Epoch 59/100\n",
            "35/35 [==============================] - 0s 4ms/step - loss: 0.1475 - accuracy: 0.9366 - val_loss: 0.1712 - val_accuracy: 0.9326\n",
            "Epoch 60/100\n",
            "35/35 [==============================] - 0s 4ms/step - loss: 0.1469 - accuracy: 0.9377 - val_loss: 0.1711 - val_accuracy: 0.9349\n",
            "Epoch 61/100\n",
            "35/35 [==============================] - 0s 4ms/step - loss: 0.1467 - accuracy: 0.9374 - val_loss: 0.1723 - val_accuracy: 0.9326\n",
            "Epoch 62/100\n",
            "35/35 [==============================] - 0s 4ms/step - loss: 0.1457 - accuracy: 0.9377 - val_loss: 0.1698 - val_accuracy: 0.9326\n",
            "Epoch 63/100\n",
            "35/35 [==============================] - 0s 4ms/step - loss: 0.1453 - accuracy: 0.9383 - val_loss: 0.1702 - val_accuracy: 0.9335\n",
            "Epoch 64/100\n",
            "35/35 [==============================] - 0s 5ms/step - loss: 0.1449 - accuracy: 0.9379 - val_loss: 0.1716 - val_accuracy: 0.9344\n",
            "Epoch 65/100\n",
            "35/35 [==============================] - 0s 5ms/step - loss: 0.1441 - accuracy: 0.9384 - val_loss: 0.1701 - val_accuracy: 0.9344\n",
            "Epoch 66/100\n",
            "35/35 [==============================] - 0s 4ms/step - loss: 0.1442 - accuracy: 0.9378 - val_loss: 0.1694 - val_accuracy: 0.9340\n",
            "Epoch 67/100\n",
            "35/35 [==============================] - 0s 4ms/step - loss: 0.1438 - accuracy: 0.9386 - val_loss: 0.1708 - val_accuracy: 0.9353\n",
            "Epoch 68/100\n",
            "35/35 [==============================] - 0s 3ms/step - loss: 0.1430 - accuracy: 0.9382 - val_loss: 0.1691 - val_accuracy: 0.9344\n",
            "Epoch 69/100\n",
            "35/35 [==============================] - 0s 3ms/step - loss: 0.1424 - accuracy: 0.9388 - val_loss: 0.1694 - val_accuracy: 0.9344\n",
            "Epoch 70/100\n",
            "35/35 [==============================] - 0s 3ms/step - loss: 0.1417 - accuracy: 0.9394 - val_loss: 0.1704 - val_accuracy: 0.9322\n",
            "Epoch 71/100\n",
            "35/35 [==============================] - 0s 4ms/step - loss: 0.1415 - accuracy: 0.9409 - val_loss: 0.1680 - val_accuracy: 0.9371\n",
            "Epoch 72/100\n",
            "35/35 [==============================] - 0s 3ms/step - loss: 0.1414 - accuracy: 0.9401 - val_loss: 0.1689 - val_accuracy: 0.9331\n",
            "Epoch 73/100\n",
            "35/35 [==============================] - 0s 3ms/step - loss: 0.1406 - accuracy: 0.9393 - val_loss: 0.1679 - val_accuracy: 0.9362\n",
            "Epoch 74/100\n",
            "35/35 [==============================] - 0s 3ms/step - loss: 0.1400 - accuracy: 0.9393 - val_loss: 0.1675 - val_accuracy: 0.9367\n",
            "Epoch 75/100\n",
            "35/35 [==============================] - 0s 3ms/step - loss: 0.1396 - accuracy: 0.9396 - val_loss: 0.1666 - val_accuracy: 0.9362\n",
            "Epoch 76/100\n",
            "35/35 [==============================] - 0s 3ms/step - loss: 0.1391 - accuracy: 0.9403 - val_loss: 0.1681 - val_accuracy: 0.9322\n",
            "Epoch 77/100\n",
            "35/35 [==============================] - 0s 3ms/step - loss: 0.1404 - accuracy: 0.9391 - val_loss: 0.1690 - val_accuracy: 0.9308\n",
            "Epoch 78/100\n",
            "35/35 [==============================] - 0s 3ms/step - loss: 0.1385 - accuracy: 0.9402 - val_loss: 0.1662 - val_accuracy: 0.9353\n",
            "Epoch 79/100\n",
            "35/35 [==============================] - 0s 3ms/step - loss: 0.1380 - accuracy: 0.9401 - val_loss: 0.1660 - val_accuracy: 0.9353\n",
            "Epoch 80/100\n",
            "35/35 [==============================] - 0s 3ms/step - loss: 0.1390 - accuracy: 0.9405 - val_loss: 0.1653 - val_accuracy: 0.9344\n",
            "Epoch 81/100\n",
            "35/35 [==============================] - 0s 3ms/step - loss: 0.1377 - accuracy: 0.9401 - val_loss: 0.1661 - val_accuracy: 0.9335\n",
            "Epoch 82/100\n",
            "35/35 [==============================] - 0s 3ms/step - loss: 0.1375 - accuracy: 0.9401 - val_loss: 0.1660 - val_accuracy: 0.9313\n",
            "Epoch 83/100\n",
            "35/35 [==============================] - 0s 3ms/step - loss: 0.1368 - accuracy: 0.9406 - val_loss: 0.1648 - val_accuracy: 0.9353\n",
            "Epoch 84/100\n",
            "35/35 [==============================] - 0s 3ms/step - loss: 0.1368 - accuracy: 0.9418 - val_loss: 0.1651 - val_accuracy: 0.9326\n",
            "Epoch 85/100\n",
            "35/35 [==============================] - 0s 3ms/step - loss: 0.1370 - accuracy: 0.9415 - val_loss: 0.1642 - val_accuracy: 0.9340\n",
            "Epoch 86/100\n",
            "35/35 [==============================] - 0s 3ms/step - loss: 0.1365 - accuracy: 0.9419 - val_loss: 0.1649 - val_accuracy: 0.9340\n",
            "Epoch 87/100\n",
            "35/35 [==============================] - 0s 3ms/step - loss: 0.1359 - accuracy: 0.9414 - val_loss: 0.1637 - val_accuracy: 0.9335\n",
            "Epoch 88/100\n",
            "35/35 [==============================] - 0s 3ms/step - loss: 0.1354 - accuracy: 0.9420 - val_loss: 0.1663 - val_accuracy: 0.9326\n",
            "Epoch 89/100\n",
            "35/35 [==============================] - 0s 4ms/step - loss: 0.1356 - accuracy: 0.9422 - val_loss: 0.1648 - val_accuracy: 0.9313\n",
            "Epoch 90/100\n",
            "35/35 [==============================] - 0s 3ms/step - loss: 0.1357 - accuracy: 0.9423 - val_loss: 0.1633 - val_accuracy: 0.9335\n",
            "Epoch 91/100\n",
            "35/35 [==============================] - 0s 3ms/step - loss: 0.1344 - accuracy: 0.9428 - val_loss: 0.1622 - val_accuracy: 0.9340\n",
            "Epoch 92/100\n",
            "35/35 [==============================] - 0s 3ms/step - loss: 0.1346 - accuracy: 0.9427 - val_loss: 0.1642 - val_accuracy: 0.9344\n",
            "Epoch 93/100\n",
            "35/35 [==============================] - 0s 3ms/step - loss: 0.1340 - accuracy: 0.9426 - val_loss: 0.1628 - val_accuracy: 0.9335\n",
            "Epoch 94/100\n",
            "35/35 [==============================] - 0s 3ms/step - loss: 0.1345 - accuracy: 0.9420 - val_loss: 0.1628 - val_accuracy: 0.9322\n",
            "Epoch 95/100\n",
            "35/35 [==============================] - 0s 3ms/step - loss: 0.1333 - accuracy: 0.9437 - val_loss: 0.1610 - val_accuracy: 0.9353\n",
            "Epoch 96/100\n",
            "35/35 [==============================] - 0s 3ms/step - loss: 0.1338 - accuracy: 0.9424 - val_loss: 0.1613 - val_accuracy: 0.9344\n",
            "Epoch 97/100\n",
            "35/35 [==============================] - 0s 3ms/step - loss: 0.1331 - accuracy: 0.9424 - val_loss: 0.1611 - val_accuracy: 0.9358\n",
            "Epoch 98/100\n",
            "35/35 [==============================] - 0s 3ms/step - loss: 0.1330 - accuracy: 0.9428 - val_loss: 0.1609 - val_accuracy: 0.9353\n",
            "Epoch 99/100\n",
            "35/35 [==============================] - 0s 3ms/step - loss: 0.1328 - accuracy: 0.9423 - val_loss: 0.1611 - val_accuracy: 0.9362\n",
            "Epoch 100/100\n",
            "35/35 [==============================] - 0s 3ms/step - loss: 0.1333 - accuracy: 0.9438 - val_loss: 0.1608 - val_accuracy: 0.9358\n"
          ]
        }
      ]
    },
    {
      "cell_type": "markdown",
      "source": [
        "##### **Evaluación**"
      ],
      "metadata": {
        "id": "g5wUhW4ZOKLP"
      }
    },
    {
      "cell_type": "markdown",
      "source": [
        "> 3. Evaluando el modelo"
      ],
      "metadata": {
        "id": "FKzNpw4jONck"
      }
    },
    {
      "cell_type": "code",
      "source": [
        "_, accuracy = model_lg.evaluate(x_eval, y_eval)\n",
        "print(\"Accuracy: {:.2f}%\".format(accuracy * 100))"
      ],
      "metadata": {
        "colab": {
          "base_uri": "https://localhost:8080/"
        },
        "id": "60JibUfsOKxd",
        "outputId": "59b22d8c-1840-432f-b3f3-f37a079c1f9c"
      },
      "execution_count": 7,
      "outputs": [
        {
          "output_type": "stream",
          "name": "stdout",
          "text": [
            "70/70 [==============================] - 0s 2ms/step - loss: 0.1608 - accuracy: 0.9358\n",
            "Accuracy: 93.58%\n"
          ]
        }
      ]
    },
    {
      "cell_type": "markdown",
      "source": [
        "> 4. Gráfico de historial de error"
      ],
      "metadata": {
        "id": "BLae33uCOPRL"
      }
    },
    {
      "cell_type": "code",
      "source": [
        "history.history.keys()"
      ],
      "metadata": {
        "colab": {
          "base_uri": "https://localhost:8080/"
        },
        "id": "8aazBBGQORbC",
        "outputId": "5e83eb70-56aa-4a4c-841a-9b42c04a68d5"
      },
      "execution_count": 8,
      "outputs": [
        {
          "output_type": "execute_result",
          "data": {
            "text/plain": [
              "dict_keys(['loss', 'accuracy', 'val_loss', 'val_accuracy'])"
            ]
          },
          "metadata": {},
          "execution_count": 8
        }
      ]
    },
    {
      "cell_type": "code",
      "source": [
        "plt.title(\"Gráfica de loss\")\n",
        "plt.xlabel(\"Época\")\n",
        "plt.ylabel(\"Loss\")\n",
        "plt.plot(history.history[\"loss\"])\n",
        "plt.plot(history.history[\"val_loss\"])\n",
        "plt.legend([\"Entrenamiento\", \"Validación\"], loc=\"upper right\")"
      ],
      "metadata": {
        "colab": {
          "base_uri": "https://localhost:8080/",
          "height": 491
        },
        "id": "ZiOUtEawOUCe",
        "outputId": "27fc2f6b-1b8c-46ea-b0c2-ca33b5b335ed"
      },
      "execution_count": 9,
      "outputs": [
        {
          "output_type": "execute_result",
          "data": {
            "text/plain": [
              "<matplotlib.legend.Legend at 0x7f9845c2d210>"
            ]
          },
          "metadata": {},
          "execution_count": 9
        },
        {
          "output_type": "display_data",
          "data": {
            "text/plain": [
              "<Figure size 640x480 with 1 Axes>"
            ],
            "image/png": "[encoded data removed]"
          },
          "metadata": {}
        }
      ]
    },
    {
      "cell_type": "markdown",
      "source": [
        "> 5. Gráfico de historial de Accuracy"
      ],
      "metadata": {
        "id": "P9YXKLyrOWay"
      }
    },
    {
      "cell_type": "code",
      "source": [
        "plt.title(\"Gráfica de accuracy\")\n",
        "plt.xlabel(\"Época\")\n",
        "plt.ylabel(\"Accuracy\")\n",
        "plt.plot(history.history[\"accuracy\"])\n",
        "plt.plot(history.history[\"val_accuracy\"])\n",
        "plt.legend([\"Entrenamiento\", \"Validación\"], loc=\"lower right\")"
      ],
      "metadata": {
        "colab": {
          "base_uri": "https://localhost:8080/",
          "height": 491
        },
        "id": "6ee7w58nOW_w",
        "outputId": "65ea0887-5557-4e7b-8165-1b5cb801a85c"
      },
      "execution_count": 10,
      "outputs": [
        {
          "output_type": "execute_result",
          "data": {
            "text/plain": [
              "<matplotlib.legend.Legend at 0x7f9845440a30>"
            ]
          },
          "metadata": {},
          "execution_count": 10
        },
        {
          "output_type": "display_data",
          "data": {
            "text/plain": [
              "<Figure size 640x480 with 1 Axes>"
            ],
            "image/png": "[encoded data removed]"
          },
          "metadata": {}
        }
      ]
    },
    {
      "cell_type": "markdown",
      "source": [
        "> 6. Matriz de consistencia"
      ],
      "metadata": {
        "id": "WR6r9PshObuo"
      }
    },
    {
      "cell_type": "code",
      "source": [
        "y_pred = model_lg.predict(x_eval)\n",
        "y_pred = tf.round(y_pred)\n",
        "\n",
        "matriz_confusion = confusion_matrix(y_eval, y_pred)\n",
        "print(matriz_confusion)"
      ],
      "metadata": {
        "colab": {
          "base_uri": "https://localhost:8080/"
        },
        "id": "vbOjNaVhOZoK",
        "outputId": "3c530174-e4c7-441b-b359-cfc456470cb6"
      },
      "execution_count": 11,
      "outputs": [
        {
          "output_type": "stream",
          "name": "stdout",
          "text": [
            "70/70 [==============================] - 0s 1ms/step\n",
            "[[ 860   96]\n",
            " [  46 1209]]\n"
          ]
        }
      ]
    },
    {
      "cell_type": "markdown",
      "source": [
        "#### **Modelo mediano (4 -> 2 -> 1)**"
      ],
      "metadata": {
        "id": "TWjH4vnrOv2U"
      }
    },
    {
      "cell_type": "markdown",
      "source": [
        "##### **Elaboración**"
      ],
      "metadata": {
        "id": "vpo900RwOz-V"
      }
    },
    {
      "cell_type": "code",
      "source": [
        "model_md = Sequential([\n",
        "    Dense(4, input_dim=30, activation='relu'),\n",
        "    Dense(2, activation='relu'),\n",
        "    Dense(1, activation='sigmoid')\n",
        "])\n",
        "\n",
        "model_md.compile(\n",
        "  loss='binary_crossentropy',\n",
        "  optimizer='adam',\n",
        "  metrics=['accuracy']\n",
        ")\n",
        "\n",
        "history = model_md.fit(x_train, y_train, validation_data=(x_eval, y_eval), epochs=100, batch_size=128)"
      ],
      "metadata": {
        "colab": {
          "base_uri": "https://localhost:8080/"
        },
        "id": "i4G0kFHAO2D5",
        "outputId": "76fd26d3-55a5-4371-e6a2-1367d986dfaf"
      },
      "execution_count": 12,
      "outputs": [
        {
          "output_type": "stream",
          "name": "stdout",
          "text": [
            "Epoch 1/100\n",
            "70/70 [==============================] - 1s 5ms/step - loss: 0.7743 - accuracy: 0.5737 - val_loss: 0.6789 - val_accuracy: 0.6549\n",
            "Epoch 2/100\n",
            "70/70 [==============================] - 0s 3ms/step - loss: 0.6451 - accuracy: 0.6963 - val_loss: 0.6268 - val_accuracy: 0.7417\n",
            "Epoch 3/100\n",
            "70/70 [==============================] - 0s 3ms/step - loss: 0.5935 - accuracy: 0.7750 - val_loss: 0.5778 - val_accuracy: 0.8055\n",
            "Epoch 4/100\n",
            "70/70 [==============================] - 0s 3ms/step - loss: 0.5401 - accuracy: 0.8363 - val_loss: 0.5230 - val_accuracy: 0.8544\n",
            "Epoch 5/100\n",
            "70/70 [==============================] - 0s 2ms/step - loss: 0.4830 - accuracy: 0.8713 - val_loss: 0.4667 - val_accuracy: 0.8810\n",
            "Epoch 6/100\n",
            "70/70 [==============================] - 0s 3ms/step - loss: 0.4386 - accuracy: 0.8970 - val_loss: 0.4312 - val_accuracy: 0.8991\n",
            "Epoch 7/100\n",
            "70/70 [==============================] - 0s 3ms/step - loss: 0.4093 - accuracy: 0.9111 - val_loss: 0.4060 - val_accuracy: 0.9055\n",
            "Epoch 8/100\n",
            "70/70 [==============================] - 0s 3ms/step - loss: 0.3880 - accuracy: 0.9149 - val_loss: 0.3855 - val_accuracy: 0.9095\n",
            "Epoch 9/100\n",
            "70/70 [==============================] - 0s 3ms/step - loss: 0.3703 - accuracy: 0.9188 - val_loss: 0.3696 - val_accuracy: 0.9109\n",
            "Epoch 10/100\n",
            "70/70 [==============================] - 0s 2ms/step - loss: 0.3556 - accuracy: 0.9205 - val_loss: 0.3556 - val_accuracy: 0.9168\n",
            "Epoch 11/100\n",
            "70/70 [==============================] - 0s 3ms/step - loss: 0.3425 - accuracy: 0.9227 - val_loss: 0.3440 - val_accuracy: 0.9186\n",
            "Epoch 12/100\n",
            "70/70 [==============================] - 0s 2ms/step - loss: 0.3308 - accuracy: 0.9233 - val_loss: 0.3327 - val_accuracy: 0.9190\n",
            "Epoch 13/100\n",
            "70/70 [==============================] - 0s 2ms/step - loss: 0.3206 - accuracy: 0.9240 - val_loss: 0.3228 - val_accuracy: 0.9172\n",
            "Epoch 14/100\n",
            "70/70 [==============================] - 0s 3ms/step - loss: 0.3111 - accuracy: 0.9242 - val_loss: 0.3139 - val_accuracy: 0.9177\n",
            "Epoch 15/100\n",
            "70/70 [==============================] - 0s 3ms/step - loss: 0.3026 - accuracy: 0.9251 - val_loss: 0.3059 - val_accuracy: 0.9199\n",
            "Epoch 16/100\n",
            "70/70 [==============================] - 0s 2ms/step - loss: 0.2950 - accuracy: 0.9249 - val_loss: 0.2986 - val_accuracy: 0.9209\n",
            "Epoch 17/100\n",
            "70/70 [==============================] - 0s 3ms/step - loss: 0.2880 - accuracy: 0.9263 - val_loss: 0.2915 - val_accuracy: 0.9209\n",
            "Epoch 18/100\n",
            "70/70 [==============================] - 0s 2ms/step - loss: 0.2814 - accuracy: 0.9263 - val_loss: 0.2862 - val_accuracy: 0.9227\n",
            "Epoch 19/100\n",
            "70/70 [==============================] - 0s 2ms/step - loss: 0.2758 - accuracy: 0.9267 - val_loss: 0.2801 - val_accuracy: 0.9218\n",
            "Epoch 20/100\n",
            "70/70 [==============================] - 0s 2ms/step - loss: 0.2700 - accuracy: 0.9267 - val_loss: 0.2754 - val_accuracy: 0.9204\n",
            "Epoch 21/100\n",
            "70/70 [==============================] - 0s 3ms/step - loss: 0.2648 - accuracy: 0.9276 - val_loss: 0.2702 - val_accuracy: 0.9222\n",
            "Epoch 22/100\n",
            "70/70 [==============================] - 0s 3ms/step - loss: 0.2600 - accuracy: 0.9274 - val_loss: 0.2655 - val_accuracy: 0.9227\n",
            "Epoch 23/100\n",
            "70/70 [==============================] - 0s 3ms/step - loss: 0.2550 - accuracy: 0.9283 - val_loss: 0.2610 - val_accuracy: 0.9231\n",
            "Epoch 24/100\n",
            "70/70 [==============================] - 0s 3ms/step - loss: 0.2507 - accuracy: 0.9281 - val_loss: 0.2579 - val_accuracy: 0.9209\n",
            "Epoch 25/100\n",
            "70/70 [==============================] - 0s 3ms/step - loss: 0.2465 - accuracy: 0.9288 - val_loss: 0.2541 - val_accuracy: 0.9213\n",
            "Epoch 26/100\n",
            "70/70 [==============================] - 0s 3ms/step - loss: 0.2425 - accuracy: 0.9285 - val_loss: 0.2516 - val_accuracy: 0.9213\n",
            "Epoch 27/100\n",
            "70/70 [==============================] - 0s 2ms/step - loss: 0.2389 - accuracy: 0.9299 - val_loss: 0.2468 - val_accuracy: 0.9218\n",
            "Epoch 28/100\n",
            "70/70 [==============================] - 0s 3ms/step - loss: 0.2359 - accuracy: 0.9301 - val_loss: 0.2426 - val_accuracy: 0.9290\n",
            "Epoch 29/100\n",
            "70/70 [==============================] - 0s 3ms/step - loss: 0.2324 - accuracy: 0.9299 - val_loss: 0.2403 - val_accuracy: 0.9267\n",
            "Epoch 30/100\n",
            "70/70 [==============================] - 0s 3ms/step - loss: 0.2285 - accuracy: 0.9327 - val_loss: 0.2383 - val_accuracy: 0.9245\n",
            "Epoch 31/100\n",
            "70/70 [==============================] - 0s 2ms/step - loss: 0.2257 - accuracy: 0.9318 - val_loss: 0.2341 - val_accuracy: 0.9290\n",
            "Epoch 32/100\n",
            "70/70 [==============================] - 0s 3ms/step - loss: 0.2224 - accuracy: 0.9331 - val_loss: 0.2307 - val_accuracy: 0.9303\n",
            "Epoch 33/100\n",
            "70/70 [==============================] - 0s 3ms/step - loss: 0.2194 - accuracy: 0.9334 - val_loss: 0.2284 - val_accuracy: 0.9294\n",
            "Epoch 34/100\n",
            "70/70 [==============================] - 0s 3ms/step - loss: 0.2174 - accuracy: 0.9319 - val_loss: 0.2254 - val_accuracy: 0.9285\n",
            "Epoch 35/100\n",
            "70/70 [==============================] - 0s 3ms/step - loss: 0.2145 - accuracy: 0.9329 - val_loss: 0.2227 - val_accuracy: 0.9308\n",
            "Epoch 36/100\n",
            "70/70 [==============================] - 0s 3ms/step - loss: 0.2122 - accuracy: 0.9332 - val_loss: 0.2201 - val_accuracy: 0.9317\n",
            "Epoch 37/100\n",
            "70/70 [==============================] - 0s 3ms/step - loss: 0.2092 - accuracy: 0.9336 - val_loss: 0.2188 - val_accuracy: 0.9317\n",
            "Epoch 38/100\n",
            "70/70 [==============================] - 0s 3ms/step - loss: 0.2071 - accuracy: 0.9352 - val_loss: 0.2162 - val_accuracy: 0.9317\n",
            "Epoch 39/100\n",
            "70/70 [==============================] - 0s 3ms/step - loss: 0.2050 - accuracy: 0.9343 - val_loss: 0.2137 - val_accuracy: 0.9317\n",
            "Epoch 40/100\n",
            "70/70 [==============================] - 0s 3ms/step - loss: 0.2027 - accuracy: 0.9353 - val_loss: 0.2114 - val_accuracy: 0.9335\n",
            "Epoch 41/100\n",
            "70/70 [==============================] - 0s 4ms/step - loss: 0.2007 - accuracy: 0.9357 - val_loss: 0.2105 - val_accuracy: 0.9303\n",
            "Epoch 42/100\n",
            "70/70 [==============================] - 0s 4ms/step - loss: 0.1983 - accuracy: 0.9357 - val_loss: 0.2079 - val_accuracy: 0.9326\n",
            "Epoch 43/100\n",
            "70/70 [==============================] - 0s 5ms/step - loss: 0.1967 - accuracy: 0.9358 - val_loss: 0.2062 - val_accuracy: 0.9331\n",
            "Epoch 44/100\n",
            "70/70 [==============================] - 0s 4ms/step - loss: 0.1948 - accuracy: 0.9359 - val_loss: 0.2049 - val_accuracy: 0.9335\n",
            "Epoch 45/100\n",
            "70/70 [==============================] - 0s 3ms/step - loss: 0.1933 - accuracy: 0.9357 - val_loss: 0.2034 - val_accuracy: 0.9322\n",
            "Epoch 46/100\n",
            "70/70 [==============================] - 0s 4ms/step - loss: 0.1917 - accuracy: 0.9370 - val_loss: 0.2034 - val_accuracy: 0.9303\n",
            "Epoch 47/100\n",
            "70/70 [==============================] - 0s 3ms/step - loss: 0.1902 - accuracy: 0.9360 - val_loss: 0.2012 - val_accuracy: 0.9326\n",
            "Epoch 48/100\n",
            "70/70 [==============================] - 0s 3ms/step - loss: 0.1890 - accuracy: 0.9382 - val_loss: 0.1996 - val_accuracy: 0.9317\n",
            "Epoch 49/100\n",
            "70/70 [==============================] - 0s 4ms/step - loss: 0.1880 - accuracy: 0.9367 - val_loss: 0.1986 - val_accuracy: 0.9322\n",
            "Epoch 50/100\n",
            "70/70 [==============================] - 0s 3ms/step - loss: 0.1864 - accuracy: 0.9376 - val_loss: 0.1973 - val_accuracy: 0.9326\n",
            "Epoch 51/100\n",
            "70/70 [==============================] - 0s 4ms/step - loss: 0.1848 - accuracy: 0.9370 - val_loss: 0.1966 - val_accuracy: 0.9335\n",
            "Epoch 52/100\n",
            "70/70 [==============================] - 0s 2ms/step - loss: 0.1841 - accuracy: 0.9379 - val_loss: 0.1973 - val_accuracy: 0.9313\n",
            "Epoch 53/100\n",
            "70/70 [==============================] - 0s 3ms/step - loss: 0.1828 - accuracy: 0.9380 - val_loss: 0.1945 - val_accuracy: 0.9322\n",
            "Epoch 54/100\n",
            "70/70 [==============================] - 0s 3ms/step - loss: 0.1821 - accuracy: 0.9378 - val_loss: 0.1936 - val_accuracy: 0.9294\n",
            "Epoch 55/100\n",
            "70/70 [==============================] - 0s 3ms/step - loss: 0.1809 - accuracy: 0.9371 - val_loss: 0.1924 - val_accuracy: 0.9326\n",
            "Epoch 56/100\n",
            "70/70 [==============================] - 0s 2ms/step - loss: 0.1796 - accuracy: 0.9395 - val_loss: 0.1920 - val_accuracy: 0.9331\n",
            "Epoch 57/100\n",
            "70/70 [==============================] - 0s 3ms/step - loss: 0.1786 - accuracy: 0.9380 - val_loss: 0.1904 - val_accuracy: 0.9322\n",
            "Epoch 58/100\n",
            "70/70 [==============================] - 0s 3ms/step - loss: 0.1777 - accuracy: 0.9378 - val_loss: 0.1893 - val_accuracy: 0.9303\n",
            "Epoch 59/100\n",
            "70/70 [==============================] - 0s 2ms/step - loss: 0.1770 - accuracy: 0.9369 - val_loss: 0.1899 - val_accuracy: 0.9349\n",
            "Epoch 60/100\n",
            "70/70 [==============================] - 0s 3ms/step - loss: 0.1762 - accuracy: 0.9388 - val_loss: 0.1880 - val_accuracy: 0.9322\n",
            "Epoch 61/100\n",
            "70/70 [==============================] - 0s 3ms/step - loss: 0.1752 - accuracy: 0.9384 - val_loss: 0.1870 - val_accuracy: 0.9317\n",
            "Epoch 62/100\n",
            "70/70 [==============================] - 0s 3ms/step - loss: 0.1750 - accuracy: 0.9359 - val_loss: 0.1873 - val_accuracy: 0.9344\n",
            "Epoch 63/100\n",
            "70/70 [==============================] - 0s 2ms/step - loss: 0.1740 - accuracy: 0.9377 - val_loss: 0.1852 - val_accuracy: 0.9326\n",
            "Epoch 64/100\n",
            "70/70 [==============================] - 0s 2ms/step - loss: 0.1728 - accuracy: 0.9394 - val_loss: 0.1854 - val_accuracy: 0.9335\n",
            "Epoch 65/100\n",
            "70/70 [==============================] - 0s 3ms/step - loss: 0.1717 - accuracy: 0.9382 - val_loss: 0.1843 - val_accuracy: 0.9317\n",
            "Epoch 66/100\n",
            "70/70 [==============================] - 0s 3ms/step - loss: 0.1712 - accuracy: 0.9377 - val_loss: 0.1832 - val_accuracy: 0.9317\n",
            "Epoch 67/100\n",
            "70/70 [==============================] - 0s 2ms/step - loss: 0.1708 - accuracy: 0.9392 - val_loss: 0.1836 - val_accuracy: 0.9340\n",
            "Epoch 68/100\n",
            "70/70 [==============================] - 0s 2ms/step - loss: 0.1705 - accuracy: 0.9376 - val_loss: 0.1824 - val_accuracy: 0.9335\n",
            "Epoch 69/100\n",
            "70/70 [==============================] - 0s 2ms/step - loss: 0.1691 - accuracy: 0.9387 - val_loss: 0.1817 - val_accuracy: 0.9331\n",
            "Epoch 70/100\n",
            "70/70 [==============================] - 0s 2ms/step - loss: 0.1688 - accuracy: 0.9393 - val_loss: 0.1813 - val_accuracy: 0.9349\n",
            "Epoch 71/100\n",
            "70/70 [==============================] - 0s 3ms/step - loss: 0.1681 - accuracy: 0.9384 - val_loss: 0.1817 - val_accuracy: 0.9362\n",
            "Epoch 72/100\n",
            "70/70 [==============================] - 0s 3ms/step - loss: 0.1675 - accuracy: 0.9398 - val_loss: 0.1803 - val_accuracy: 0.9344\n",
            "Epoch 73/100\n",
            "70/70 [==============================] - 0s 3ms/step - loss: 0.1668 - accuracy: 0.9393 - val_loss: 0.1798 - val_accuracy: 0.9340\n",
            "Epoch 74/100\n",
            "70/70 [==============================] - 0s 3ms/step - loss: 0.1664 - accuracy: 0.9387 - val_loss: 0.1793 - val_accuracy: 0.9340\n",
            "Epoch 75/100\n",
            "70/70 [==============================] - 0s 2ms/step - loss: 0.1660 - accuracy: 0.9384 - val_loss: 0.1802 - val_accuracy: 0.9358\n",
            "Epoch 76/100\n",
            "70/70 [==============================] - 0s 3ms/step - loss: 0.1654 - accuracy: 0.9397 - val_loss: 0.1802 - val_accuracy: 0.9358\n",
            "Epoch 77/100\n",
            "70/70 [==============================] - 0s 3ms/step - loss: 0.1653 - accuracy: 0.9398 - val_loss: 0.1779 - val_accuracy: 0.9340\n",
            "Epoch 78/100\n",
            "70/70 [==============================] - 0s 3ms/step - loss: 0.1645 - accuracy: 0.9411 - val_loss: 0.1796 - val_accuracy: 0.9344\n",
            "Epoch 79/100\n",
            "70/70 [==============================] - 0s 2ms/step - loss: 0.1656 - accuracy: 0.9386 - val_loss: 0.1779 - val_accuracy: 0.9331\n",
            "Epoch 80/100\n",
            "70/70 [==============================] - 0s 2ms/step - loss: 0.1633 - accuracy: 0.9396 - val_loss: 0.1769 - val_accuracy: 0.9344\n",
            "Epoch 81/100\n",
            "70/70 [==============================] - 0s 2ms/step - loss: 0.1628 - accuracy: 0.9397 - val_loss: 0.1768 - val_accuracy: 0.9358\n",
            "Epoch 82/100\n",
            "70/70 [==============================] - 0s 3ms/step - loss: 0.1626 - accuracy: 0.9400 - val_loss: 0.1764 - val_accuracy: 0.9353\n",
            "Epoch 83/100\n",
            "70/70 [==============================] - 0s 3ms/step - loss: 0.1624 - accuracy: 0.9414 - val_loss: 0.1760 - val_accuracy: 0.9358\n",
            "Epoch 84/100\n",
            "70/70 [==============================] - 0s 3ms/step - loss: 0.1617 - accuracy: 0.9427 - val_loss: 0.1763 - val_accuracy: 0.9344\n",
            "Epoch 85/100\n",
            "70/70 [==============================] - 0s 3ms/step - loss: 0.1616 - accuracy: 0.9411 - val_loss: 0.1764 - val_accuracy: 0.9353\n",
            "Epoch 86/100\n",
            "70/70 [==============================] - 0s 3ms/step - loss: 0.1609 - accuracy: 0.9419 - val_loss: 0.1752 - val_accuracy: 0.9358\n",
            "Epoch 87/100\n",
            "70/70 [==============================] - 0s 3ms/step - loss: 0.1606 - accuracy: 0.9418 - val_loss: 0.1749 - val_accuracy: 0.9353\n",
            "Epoch 88/100\n",
            "70/70 [==============================] - 0s 2ms/step - loss: 0.1603 - accuracy: 0.9432 - val_loss: 0.1752 - val_accuracy: 0.9358\n",
            "Epoch 89/100\n",
            "70/70 [==============================] - 0s 2ms/step - loss: 0.1599 - accuracy: 0.9432 - val_loss: 0.1751 - val_accuracy: 0.9344\n",
            "Epoch 90/100\n",
            "70/70 [==============================] - 0s 2ms/step - loss: 0.1605 - accuracy: 0.9429 - val_loss: 0.1756 - val_accuracy: 0.9344\n",
            "Epoch 91/100\n",
            "70/70 [==============================] - 0s 3ms/step - loss: 0.1596 - accuracy: 0.9413 - val_loss: 0.1758 - val_accuracy: 0.9367\n",
            "Epoch 92/100\n",
            "70/70 [==============================] - 0s 3ms/step - loss: 0.1589 - accuracy: 0.9423 - val_loss: 0.1741 - val_accuracy: 0.9340\n",
            "Epoch 93/100\n",
            "70/70 [==============================] - 0s 3ms/step - loss: 0.1591 - accuracy: 0.9427 - val_loss: 0.1750 - val_accuracy: 0.9340\n",
            "Epoch 94/100\n",
            "70/70 [==============================] - 0s 3ms/step - loss: 0.1588 - accuracy: 0.9419 - val_loss: 0.1733 - val_accuracy: 0.9358\n",
            "Epoch 95/100\n",
            "70/70 [==============================] - 0s 3ms/step - loss: 0.1580 - accuracy: 0.9437 - val_loss: 0.1738 - val_accuracy: 0.9344\n",
            "Epoch 96/100\n",
            "70/70 [==============================] - 0s 3ms/step - loss: 0.1579 - accuracy: 0.9435 - val_loss: 0.1733 - val_accuracy: 0.9353\n",
            "Epoch 97/100\n",
            "70/70 [==============================] - 0s 2ms/step - loss: 0.1576 - accuracy: 0.9439 - val_loss: 0.1729 - val_accuracy: 0.9362\n",
            "Epoch 98/100\n",
            "70/70 [==============================] - 0s 2ms/step - loss: 0.1576 - accuracy: 0.9431 - val_loss: 0.1725 - val_accuracy: 0.9349\n",
            "Epoch 99/100\n",
            "70/70 [==============================] - 0s 3ms/step - loss: 0.1570 - accuracy: 0.9430 - val_loss: 0.1723 - val_accuracy: 0.9335\n",
            "Epoch 100/100\n",
            "70/70 [==============================] - 0s 3ms/step - loss: 0.1571 - accuracy: 0.9437 - val_loss: 0.1724 - val_accuracy: 0.9335\n"
          ]
        }
      ]
    },
    {
      "cell_type": "markdown",
      "source": [
        "##### **Evaluación**"
      ],
      "metadata": {
        "id": "DcQokjolO4Cc"
      }
    },
    {
      "cell_type": "code",
      "source": [
        "_, accuracy = model_md.evaluate(x_eval, y_eval)\n",
        "print(\"Accuracy: {:.2f}%\".format(accuracy * 100))"
      ],
      "metadata": {
        "colab": {
          "base_uri": "https://localhost:8080/"
        },
        "id": "SwKFRtuDO56i",
        "outputId": "bb437cc6-5873-496f-86cf-4f2c4b016a5f"
      },
      "execution_count": 13,
      "outputs": [
        {
          "output_type": "stream",
          "name": "stdout",
          "text": [
            "70/70 [==============================] - 0s 1ms/step - loss: 0.1724 - accuracy: 0.9335\n",
            "Accuracy: 93.35%\n"
          ]
        }
      ]
    },
    {
      "cell_type": "code",
      "source": [
        "plt.title(\"Gráfica de loss\")\n",
        "plt.xlabel(\"Época\")\n",
        "plt.ylabel(\"Loss\")\n",
        "plt.plot(history.history[\"loss\"])\n",
        "plt.plot(history.history[\"val_loss\"])\n",
        "plt.legend([\"Entrenamiento\", \"Validación\"], loc=\"upper right\")"
      ],
      "metadata": {
        "colab": {
          "base_uri": "https://localhost:8080/",
          "height": 491
        },
        "id": "Ju581lWvO8BD",
        "outputId": "1b1f5acb-7ce3-4ad2-c1ba-73866732b68a"
      },
      "execution_count": 14,
      "outputs": [
        {
          "output_type": "execute_result",
          "data": {
            "text/plain": [
              "<matplotlib.legend.Legend at 0x7f9840161c00>"
            ]
          },
          "metadata": {},
          "execution_count": 14
        },
        {
          "output_type": "display_data",
          "data": {
            "text/plain": [
              "<Figure size 640x480 with 1 Axes>"
            ],
            "image/png": "[encoded data removed]"
          },
          "metadata": {}
        }
      ]
    },
    {
      "cell_type": "code",
      "source": [
        "plt.title(\"Gráfica de accuracy\")\n",
        "plt.xlabel(\"Época\")\n",
        "plt.ylabel(\"Accuracy\")\n",
        "plt.plot(history.history[\"accuracy\"])\n",
        "plt.plot(history.history[\"val_accuracy\"])\n",
        "plt.legend([\"Entrenamiento\", \"Validación\"], loc=\"lower right\")"
      ],
      "metadata": {
        "colab": {
          "base_uri": "https://localhost:8080/",
          "height": 491
        },
        "id": "ZQafmgTLO-L7",
        "outputId": "16631c02-cead-451b-ffe3-65e7147b835d"
      },
      "execution_count": 15,
      "outputs": [
        {
          "output_type": "execute_result",
          "data": {
            "text/plain": [
              "<matplotlib.legend.Legend at 0x7f9845bc4e80>"
            ]
          },
          "metadata": {},
          "execution_count": 15
        },
        {
          "output_type": "display_data",
          "data": {
            "text/plain": [
              "<Figure size 640x480 with 1 Axes>"
            ],
            "image/png": "[encoded data removed]"
          },
          "metadata": {}
        }
      ]
    },
    {
      "cell_type": "code",
      "source": [
        "y_pred = model_md.predict(x_eval)\n",
        "y_pred = tf.round(y_pred)\n",
        "\n",
        "matriz_confusion = confusion_matrix(y_eval, y_pred)\n",
        "print(matriz_confusion)"
      ],
      "metadata": {
        "colab": {
          "base_uri": "https://localhost:8080/"
        },
        "id": "3wJMhmfxO_bk",
        "outputId": "8c53fec6-b67a-44ae-affb-c2e793426047"
      },
      "execution_count": 16,
      "outputs": [
        {
          "output_type": "stream",
          "name": "stdout",
          "text": [
            "70/70 [==============================] - 0s 2ms/step\n",
            "[[ 866   90]\n",
            " [  57 1198]]\n"
          ]
        }
      ]
    },
    {
      "cell_type": "markdown",
      "source": [
        "#### **Modelo pequeño (2 -> 1)**"
      ],
      "metadata": {
        "id": "IS9hvwRHPBUf"
      }
    },
    {
      "cell_type": "markdown",
      "source": [
        "##### **Elaboración**"
      ],
      "metadata": {
        "id": "yqAxK0waPFN4"
      }
    },
    {
      "cell_type": "code",
      "source": [
        "model_sm = Sequential([\n",
        "    Dense(2, input_dim=30, activation='relu'),\n",
        "    Dense(1, activation='sigmoid')\n",
        "])\n",
        "\n",
        "model_sm.compile(\n",
        "  loss='binary_crossentropy',\n",
        "  optimizer='adam',\n",
        "  metrics=['accuracy']\n",
        ")\n",
        "\n",
        "history = model_sm.fit(x_train, y_train, validation_data=(x_eval, y_eval), epochs=100, batch_size=64)"
      ],
      "metadata": {
        "colab": {
          "base_uri": "https://localhost:8080/"
        },
        "id": "bvGl6IICPCBQ",
        "outputId": "34cfb0d5-4ef0-4807-c94e-0ec0f8120261"
      },
      "execution_count": 17,
      "outputs": [
        {
          "output_type": "stream",
          "name": "stdout",
          "text": [
            "Epoch 1/100\n",
            "139/139 [==============================] - 1s 3ms/step - loss: 0.6115 - accuracy: 0.6722 - val_loss: 0.5197 - val_accuracy: 0.7603\n",
            "Epoch 2/100\n",
            "139/139 [==============================] - 0s 2ms/step - loss: 0.4601 - accuracy: 0.8070 - val_loss: 0.4178 - val_accuracy: 0.8308\n",
            "Epoch 3/100\n",
            "139/139 [==============================] - 0s 2ms/step - loss: 0.3731 - accuracy: 0.8520 - val_loss: 0.3465 - val_accuracy: 0.8625\n",
            "Epoch 4/100\n",
            "139/139 [==============================] - 0s 2ms/step - loss: 0.3144 - accuracy: 0.8795 - val_loss: 0.2996 - val_accuracy: 0.8842\n",
            "Epoch 5/100\n",
            "139/139 [==============================] - 0s 2ms/step - loss: 0.2746 - accuracy: 0.8980 - val_loss: 0.2676 - val_accuracy: 0.8987\n",
            "Epoch 6/100\n",
            "139/139 [==============================] - 0s 2ms/step - loss: 0.2474 - accuracy: 0.9089 - val_loss: 0.2442 - val_accuracy: 0.9086\n",
            "Epoch 7/100\n",
            "139/139 [==============================] - 0s 2ms/step - loss: 0.2287 - accuracy: 0.9144 - val_loss: 0.2288 - val_accuracy: 0.9109\n",
            "Epoch 8/100\n",
            "139/139 [==============================] - 0s 2ms/step - loss: 0.2167 - accuracy: 0.9167 - val_loss: 0.2187 - val_accuracy: 0.9127\n",
            "Epoch 9/100\n",
            "139/139 [==============================] - 0s 2ms/step - loss: 0.2077 - accuracy: 0.9205 - val_loss: 0.2118 - val_accuracy: 0.9154\n",
            "Epoch 10/100\n",
            "139/139 [==============================] - 0s 2ms/step - loss: 0.2018 - accuracy: 0.9221 - val_loss: 0.2070 - val_accuracy: 0.9154\n",
            "Epoch 11/100\n",
            "139/139 [==============================] - 0s 2ms/step - loss: 0.1972 - accuracy: 0.9230 - val_loss: 0.2051 - val_accuracy: 0.9186\n",
            "Epoch 12/100\n",
            "139/139 [==============================] - 0s 2ms/step - loss: 0.1945 - accuracy: 0.9258 - val_loss: 0.2013 - val_accuracy: 0.9199\n",
            "Epoch 13/100\n",
            "139/139 [==============================] - 0s 2ms/step - loss: 0.1919 - accuracy: 0.9266 - val_loss: 0.1994 - val_accuracy: 0.9209\n",
            "Epoch 14/100\n",
            "139/139 [==============================] - 0s 2ms/step - loss: 0.1899 - accuracy: 0.9262 - val_loss: 0.1980 - val_accuracy: 0.9213\n",
            "Epoch 15/100\n",
            "139/139 [==============================] - 0s 2ms/step - loss: 0.1886 - accuracy: 0.9270 - val_loss: 0.1970 - val_accuracy: 0.9213\n",
            "Epoch 16/100\n",
            "139/139 [==============================] - 0s 2ms/step - loss: 0.1873 - accuracy: 0.9281 - val_loss: 0.1962 - val_accuracy: 0.9227\n",
            "Epoch 17/100\n",
            "139/139 [==============================] - 0s 2ms/step - loss: 0.1862 - accuracy: 0.9279 - val_loss: 0.1959 - val_accuracy: 0.9236\n",
            "Epoch 18/100\n",
            "139/139 [==============================] - 0s 2ms/step - loss: 0.1854 - accuracy: 0.9291 - val_loss: 0.1959 - val_accuracy: 0.9209\n",
            "Epoch 19/100\n",
            "139/139 [==============================] - 0s 2ms/step - loss: 0.1851 - accuracy: 0.9270 - val_loss: 0.1955 - val_accuracy: 0.9222\n",
            "Epoch 20/100\n",
            "139/139 [==============================] - 0s 2ms/step - loss: 0.1843 - accuracy: 0.9294 - val_loss: 0.1947 - val_accuracy: 0.9227\n",
            "Epoch 21/100\n",
            "139/139 [==============================] - 0s 2ms/step - loss: 0.1840 - accuracy: 0.9282 - val_loss: 0.1941 - val_accuracy: 0.9218\n",
            "Epoch 22/100\n",
            "139/139 [==============================] - 0s 2ms/step - loss: 0.1838 - accuracy: 0.9299 - val_loss: 0.1939 - val_accuracy: 0.9231\n",
            "Epoch 23/100\n",
            "139/139 [==============================] - 0s 2ms/step - loss: 0.1833 - accuracy: 0.9294 - val_loss: 0.1938 - val_accuracy: 0.9218\n",
            "Epoch 24/100\n",
            "139/139 [==============================] - 0s 2ms/step - loss: 0.1831 - accuracy: 0.9279 - val_loss: 0.1937 - val_accuracy: 0.9222\n",
            "Epoch 25/100\n",
            "139/139 [==============================] - 0s 2ms/step - loss: 0.1830 - accuracy: 0.9291 - val_loss: 0.1941 - val_accuracy: 0.9240\n",
            "Epoch 26/100\n",
            "139/139 [==============================] - 0s 2ms/step - loss: 0.1825 - accuracy: 0.9301 - val_loss: 0.1937 - val_accuracy: 0.9222\n",
            "Epoch 27/100\n",
            "139/139 [==============================] - 0s 2ms/step - loss: 0.1828 - accuracy: 0.9289 - val_loss: 0.1937 - val_accuracy: 0.9236\n",
            "Epoch 28/100\n",
            "139/139 [==============================] - 0s 2ms/step - loss: 0.1824 - accuracy: 0.9283 - val_loss: 0.1936 - val_accuracy: 0.9236\n",
            "Epoch 29/100\n",
            "139/139 [==============================] - 0s 2ms/step - loss: 0.1821 - accuracy: 0.9284 - val_loss: 0.1929 - val_accuracy: 0.9222\n",
            "Epoch 30/100\n",
            "139/139 [==============================] - 0s 2ms/step - loss: 0.1821 - accuracy: 0.9292 - val_loss: 0.1932 - val_accuracy: 0.9240\n",
            "Epoch 31/100\n",
            "139/139 [==============================] - 0s 3ms/step - loss: 0.1823 - accuracy: 0.9296 - val_loss: 0.1937 - val_accuracy: 0.9218\n",
            "Epoch 32/100\n",
            "139/139 [==============================] - 0s 3ms/step - loss: 0.1818 - accuracy: 0.9290 - val_loss: 0.1927 - val_accuracy: 0.9227\n",
            "Epoch 33/100\n",
            "139/139 [==============================] - 0s 3ms/step - loss: 0.1818 - accuracy: 0.9287 - val_loss: 0.1927 - val_accuracy: 0.9236\n",
            "Epoch 34/100\n",
            "139/139 [==============================] - 0s 3ms/step - loss: 0.1818 - accuracy: 0.9281 - val_loss: 0.1924 - val_accuracy: 0.9222\n",
            "Epoch 35/100\n",
            "139/139 [==============================] - 0s 3ms/step - loss: 0.1815 - accuracy: 0.9285 - val_loss: 0.1927 - val_accuracy: 0.9227\n",
            "Epoch 36/100\n",
            "139/139 [==============================] - 0s 3ms/step - loss: 0.1815 - accuracy: 0.9289 - val_loss: 0.1922 - val_accuracy: 0.9240\n",
            "Epoch 37/100\n",
            "139/139 [==============================] - 0s 3ms/step - loss: 0.1813 - accuracy: 0.9282 - val_loss: 0.1919 - val_accuracy: 0.9227\n",
            "Epoch 38/100\n",
            "139/139 [==============================] - 0s 2ms/step - loss: 0.1814 - accuracy: 0.9290 - val_loss: 0.1921 - val_accuracy: 0.9231\n",
            "Epoch 39/100\n",
            "139/139 [==============================] - 0s 2ms/step - loss: 0.1812 - accuracy: 0.9280 - val_loss: 0.1918 - val_accuracy: 0.9231\n",
            "Epoch 40/100\n",
            "139/139 [==============================] - 0s 2ms/step - loss: 0.1812 - accuracy: 0.9282 - val_loss: 0.1918 - val_accuracy: 0.9231\n",
            "Epoch 41/100\n",
            "139/139 [==============================] - 0s 2ms/step - loss: 0.1812 - accuracy: 0.9290 - val_loss: 0.1917 - val_accuracy: 0.9227\n",
            "Epoch 42/100\n",
            "139/139 [==============================] - 0s 2ms/step - loss: 0.1811 - accuracy: 0.9290 - val_loss: 0.1917 - val_accuracy: 0.9231\n",
            "Epoch 43/100\n",
            "139/139 [==============================] - 0s 2ms/step - loss: 0.1810 - accuracy: 0.9287 - val_loss: 0.1916 - val_accuracy: 0.9231\n",
            "Epoch 44/100\n",
            "139/139 [==============================] - 0s 2ms/step - loss: 0.1806 - accuracy: 0.9276 - val_loss: 0.1915 - val_accuracy: 0.9222\n",
            "Epoch 45/100\n",
            "139/139 [==============================] - 0s 2ms/step - loss: 0.1808 - accuracy: 0.9285 - val_loss: 0.1915 - val_accuracy: 0.9222\n",
            "Epoch 46/100\n",
            "139/139 [==============================] - 0s 2ms/step - loss: 0.1807 - accuracy: 0.9280 - val_loss: 0.1922 - val_accuracy: 0.9231\n",
            "Epoch 47/100\n",
            "139/139 [==============================] - 0s 2ms/step - loss: 0.1808 - accuracy: 0.9289 - val_loss: 0.1915 - val_accuracy: 0.9227\n",
            "Epoch 48/100\n",
            "139/139 [==============================] - 0s 2ms/step - loss: 0.1808 - accuracy: 0.9283 - val_loss: 0.1915 - val_accuracy: 0.9240\n",
            "Epoch 49/100\n",
            "139/139 [==============================] - 0s 2ms/step - loss: 0.1806 - accuracy: 0.9285 - val_loss: 0.1916 - val_accuracy: 0.9236\n",
            "Epoch 50/100\n",
            "139/139 [==============================] - 0s 2ms/step - loss: 0.1807 - accuracy: 0.9289 - val_loss: 0.1912 - val_accuracy: 0.9222\n",
            "Epoch 51/100\n",
            "139/139 [==============================] - 0s 2ms/step - loss: 0.1805 - accuracy: 0.9282 - val_loss: 0.1913 - val_accuracy: 0.9222\n",
            "Epoch 52/100\n",
            "139/139 [==============================] - 0s 2ms/step - loss: 0.1808 - accuracy: 0.9284 - val_loss: 0.1917 - val_accuracy: 0.9231\n",
            "Epoch 53/100\n",
            "139/139 [==============================] - 0s 2ms/step - loss: 0.1804 - accuracy: 0.9285 - val_loss: 0.1913 - val_accuracy: 0.9227\n",
            "Epoch 54/100\n",
            "139/139 [==============================] - 0s 3ms/step - loss: 0.1800 - accuracy: 0.9291 - val_loss: 0.1924 - val_accuracy: 0.9222\n",
            "Epoch 55/100\n",
            "139/139 [==============================] - 0s 2ms/step - loss: 0.1805 - accuracy: 0.9282 - val_loss: 0.1910 - val_accuracy: 0.9236\n",
            "Epoch 56/100\n",
            "139/139 [==============================] - 0s 2ms/step - loss: 0.1802 - accuracy: 0.9287 - val_loss: 0.1913 - val_accuracy: 0.9227\n",
            "Epoch 57/100\n",
            "139/139 [==============================] - 0s 2ms/step - loss: 0.1803 - accuracy: 0.9296 - val_loss: 0.1910 - val_accuracy: 0.9227\n",
            "Epoch 58/100\n",
            "139/139 [==============================] - 0s 2ms/step - loss: 0.1803 - accuracy: 0.9285 - val_loss: 0.1907 - val_accuracy: 0.9249\n",
            "Epoch 59/100\n",
            "139/139 [==============================] - 0s 2ms/step - loss: 0.1802 - accuracy: 0.9294 - val_loss: 0.1907 - val_accuracy: 0.9231\n",
            "Epoch 60/100\n",
            "139/139 [==============================] - 0s 2ms/step - loss: 0.1800 - accuracy: 0.9288 - val_loss: 0.1918 - val_accuracy: 0.9209\n",
            "Epoch 61/100\n",
            "139/139 [==============================] - 0s 2ms/step - loss: 0.1806 - accuracy: 0.9284 - val_loss: 0.1911 - val_accuracy: 0.9236\n",
            "Epoch 62/100\n",
            "139/139 [==============================] - 0s 2ms/step - loss: 0.1801 - accuracy: 0.9291 - val_loss: 0.1907 - val_accuracy: 0.9236\n",
            "Epoch 63/100\n",
            "139/139 [==============================] - 0s 2ms/step - loss: 0.1803 - accuracy: 0.9288 - val_loss: 0.1907 - val_accuracy: 0.9240\n",
            "Epoch 64/100\n",
            "139/139 [==============================] - 0s 2ms/step - loss: 0.1801 - accuracy: 0.9289 - val_loss: 0.1907 - val_accuracy: 0.9231\n",
            "Epoch 65/100\n",
            "139/139 [==============================] - 0s 2ms/step - loss: 0.1802 - accuracy: 0.9298 - val_loss: 0.1910 - val_accuracy: 0.9227\n",
            "Epoch 66/100\n",
            "139/139 [==============================] - 0s 2ms/step - loss: 0.1801 - accuracy: 0.9285 - val_loss: 0.1921 - val_accuracy: 0.9204\n",
            "Epoch 67/100\n",
            "139/139 [==============================] - 0s 2ms/step - loss: 0.1800 - accuracy: 0.9292 - val_loss: 0.1907 - val_accuracy: 0.9231\n",
            "Epoch 68/100\n",
            "139/139 [==============================] - 0s 2ms/step - loss: 0.1800 - accuracy: 0.9289 - val_loss: 0.1907 - val_accuracy: 0.9222\n",
            "Epoch 69/100\n",
            "139/139 [==============================] - 0s 2ms/step - loss: 0.1800 - accuracy: 0.9288 - val_loss: 0.1910 - val_accuracy: 0.9231\n",
            "Epoch 70/100\n",
            "139/139 [==============================] - 1s 4ms/step - loss: 0.1798 - accuracy: 0.9294 - val_loss: 0.1909 - val_accuracy: 0.9236\n",
            "Epoch 71/100\n",
            "139/139 [==============================] - 0s 3ms/step - loss: 0.1799 - accuracy: 0.9292 - val_loss: 0.1908 - val_accuracy: 0.9222\n",
            "Epoch 72/100\n",
            "139/139 [==============================] - 0s 3ms/step - loss: 0.1800 - accuracy: 0.9291 - val_loss: 0.1905 - val_accuracy: 0.9236\n",
            "Epoch 73/100\n",
            "139/139 [==============================] - 0s 3ms/step - loss: 0.1800 - accuracy: 0.9292 - val_loss: 0.1912 - val_accuracy: 0.9231\n",
            "Epoch 74/100\n",
            "139/139 [==============================] - 0s 3ms/step - loss: 0.1800 - accuracy: 0.9296 - val_loss: 0.1914 - val_accuracy: 0.9213\n",
            "Epoch 75/100\n",
            "139/139 [==============================] - 0s 3ms/step - loss: 0.1800 - accuracy: 0.9285 - val_loss: 0.1906 - val_accuracy: 0.9236\n",
            "Epoch 76/100\n",
            "139/139 [==============================] - 0s 3ms/step - loss: 0.1798 - accuracy: 0.9291 - val_loss: 0.1902 - val_accuracy: 0.9249\n",
            "Epoch 77/100\n",
            "139/139 [==============================] - 0s 2ms/step - loss: 0.1799 - accuracy: 0.9285 - val_loss: 0.1909 - val_accuracy: 0.9245\n",
            "Epoch 78/100\n",
            "139/139 [==============================] - 0s 2ms/step - loss: 0.1796 - accuracy: 0.9297 - val_loss: 0.1906 - val_accuracy: 0.9222\n",
            "Epoch 79/100\n",
            "139/139 [==============================] - 0s 2ms/step - loss: 0.1797 - accuracy: 0.9291 - val_loss: 0.1904 - val_accuracy: 0.9240\n",
            "Epoch 80/100\n",
            "139/139 [==============================] - 0s 2ms/step - loss: 0.1798 - accuracy: 0.9293 - val_loss: 0.1903 - val_accuracy: 0.9245\n",
            "Epoch 81/100\n",
            "139/139 [==============================] - 0s 2ms/step - loss: 0.1797 - accuracy: 0.9289 - val_loss: 0.1904 - val_accuracy: 0.9227\n",
            "Epoch 82/100\n",
            "139/139 [==============================] - 0s 2ms/step - loss: 0.1796 - accuracy: 0.9297 - val_loss: 0.1902 - val_accuracy: 0.9240\n",
            "Epoch 83/100\n",
            "139/139 [==============================] - 0s 2ms/step - loss: 0.1796 - accuracy: 0.9283 - val_loss: 0.1901 - val_accuracy: 0.9240\n",
            "Epoch 84/100\n",
            "139/139 [==============================] - 0s 2ms/step - loss: 0.1797 - accuracy: 0.9281 - val_loss: 0.1903 - val_accuracy: 0.9231\n",
            "Epoch 85/100\n",
            "139/139 [==============================] - 0s 2ms/step - loss: 0.1800 - accuracy: 0.9284 - val_loss: 0.1902 - val_accuracy: 0.9231\n",
            "Epoch 86/100\n",
            "139/139 [==============================] - 0s 2ms/step - loss: 0.1797 - accuracy: 0.9285 - val_loss: 0.1903 - val_accuracy: 0.9231\n",
            "Epoch 87/100\n",
            "139/139 [==============================] - 0s 2ms/step - loss: 0.1799 - accuracy: 0.9285 - val_loss: 0.1904 - val_accuracy: 0.9249\n",
            "Epoch 88/100\n",
            "139/139 [==============================] - 0s 2ms/step - loss: 0.1797 - accuracy: 0.9292 - val_loss: 0.1913 - val_accuracy: 0.9245\n",
            "Epoch 89/100\n",
            "139/139 [==============================] - 0s 2ms/step - loss: 0.1803 - accuracy: 0.9283 - val_loss: 0.1905 - val_accuracy: 0.9240\n",
            "Epoch 90/100\n",
            "139/139 [==============================] - 0s 2ms/step - loss: 0.1796 - accuracy: 0.9294 - val_loss: 0.1902 - val_accuracy: 0.9245\n",
            "Epoch 91/100\n",
            "139/139 [==============================] - 0s 2ms/step - loss: 0.1799 - accuracy: 0.9302 - val_loss: 0.1902 - val_accuracy: 0.9231\n",
            "Epoch 92/100\n",
            "139/139 [==============================] - 0s 2ms/step - loss: 0.1798 - accuracy: 0.9282 - val_loss: 0.1905 - val_accuracy: 0.9231\n",
            "Epoch 93/100\n",
            "139/139 [==============================] - 0s 2ms/step - loss: 0.1796 - accuracy: 0.9285 - val_loss: 0.1903 - val_accuracy: 0.9231\n",
            "Epoch 94/100\n",
            "139/139 [==============================] - 0s 2ms/step - loss: 0.1794 - accuracy: 0.9299 - val_loss: 0.1902 - val_accuracy: 0.9245\n",
            "Epoch 95/100\n",
            "139/139 [==============================] - 0s 2ms/step - loss: 0.1794 - accuracy: 0.9282 - val_loss: 0.1906 - val_accuracy: 0.9227\n",
            "Epoch 96/100\n",
            "139/139 [==============================] - 0s 2ms/step - loss: 0.1797 - accuracy: 0.9290 - val_loss: 0.1901 - val_accuracy: 0.9236\n",
            "Epoch 97/100\n",
            "139/139 [==============================] - 0s 2ms/step - loss: 0.1793 - accuracy: 0.9294 - val_loss: 0.1904 - val_accuracy: 0.9254\n",
            "Epoch 98/100\n",
            "139/139 [==============================] - 0s 2ms/step - loss: 0.1796 - accuracy: 0.9291 - val_loss: 0.1901 - val_accuracy: 0.9245\n",
            "Epoch 99/100\n",
            "139/139 [==============================] - 0s 2ms/step - loss: 0.1794 - accuracy: 0.9277 - val_loss: 0.1900 - val_accuracy: 0.9240\n",
            "Epoch 100/100\n",
            "139/139 [==============================] - 0s 2ms/step - loss: 0.1794 - accuracy: 0.9288 - val_loss: 0.1909 - val_accuracy: 0.9209\n"
          ]
        }
      ]
    },
    {
      "cell_type": "markdown",
      "source": [
        "##### **Evaluación**"
      ],
      "metadata": {
        "id": "5-m6BEV1PK2n"
      }
    },
    {
      "cell_type": "code",
      "source": [
        "_, accuracy = model_sm.evaluate(x_eval, y_eval)\n",
        "print(\"Accuracy: {:.2f}%\".format(accuracy * 100))"
      ],
      "metadata": {
        "colab": {
          "base_uri": "https://localhost:8080/"
        },
        "id": "AkzXDrm3PMI3",
        "outputId": "496b372a-3305-4206-a4cb-ba9bac25de6a"
      },
      "execution_count": 18,
      "outputs": [
        {
          "output_type": "stream",
          "name": "stdout",
          "text": [
            "70/70 [==============================] - 0s 1ms/step - loss: 0.1909 - accuracy: 0.9209\n",
            "Accuracy: 92.09%\n"
          ]
        }
      ]
    },
    {
      "cell_type": "code",
      "source": [
        "plt.title(\"Gráfica de loss\")\n",
        "plt.xlabel(\"Época\")\n",
        "plt.ylabel(\"Loss\")\n",
        "plt.plot(history.history[\"loss\"])\n",
        "plt.plot(history.history[\"val_loss\"])\n",
        "plt.legend([\"Entrenamiento\", \"Validación\"], loc=\"upper right\")"
      ],
      "metadata": {
        "colab": {
          "base_uri": "https://localhost:8080/",
          "height": 491
        },
        "id": "mj0eiDrdPOe5",
        "outputId": "14bad323-faa7-4a89-a3ab-bba14554af0e"
      },
      "execution_count": 19,
      "outputs": [
        {
          "output_type": "execute_result",
          "data": {
            "text/plain": [
              "<matplotlib.legend.Legend at 0x7f984277b220>"
            ]
          },
          "metadata": {},
          "execution_count": 19
        },
        {
          "output_type": "display_data",
          "data": {
            "text/plain": [
              "<Figure size 640x480 with 1 Axes>"
            ],
            "image/png": "[encoded data removed]"
          },
          "metadata": {}
        }
      ]
    },
    {
      "cell_type": "code",
      "source": [
        "plt.title(\"Gráfica de accuracy\")\n",
        "plt.xlabel(\"Época\")\n",
        "plt.ylabel(\"Accuracy\")\n",
        "plt.plot(history.history[\"accuracy\"])\n",
        "plt.plot(history.history[\"val_accuracy\"])\n",
        "plt.legend([\"Entrenamiento\", \"Validación\"], loc=\"lower right\")"
      ],
      "metadata": {
        "colab": {
          "base_uri": "https://localhost:8080/",
          "height": 491
        },
        "id": "mPRodDhiPPsP",
        "outputId": "22e9b56a-53e0-4e27-8641-268843030b95"
      },
      "execution_count": 20,
      "outputs": [
        {
          "output_type": "execute_result",
          "data": {
            "text/plain": [
              "<matplotlib.legend.Legend at 0x7f984272d240>"
            ]
          },
          "metadata": {},
          "execution_count": 20
        },
        {
          "output_type": "display_data",
          "data": {
            "text/plain": [
              "<Figure size 640x480 with 1 Axes>"
            ],
            "image/png": "[encoded data removed]"
          },
          "metadata": {}
        }
      ]
    },
    {
      "cell_type": "code",
      "source": [
        "y_pred = model_sm.predict(x_eval)\n",
        "y_pred = tf.round(y_pred)\n",
        "\n",
        "matriz_confusion = confusion_matrix(y_eval, y_pred)\n",
        "print(matriz_confusion)"
      ],
      "metadata": {
        "colab": {
          "base_uri": "https://localhost:8080/"
        },
        "id": "iETQZQBhPSO8",
        "outputId": "ed156809-993c-4612-8437-d19e33030a2c"
      },
      "execution_count": 21,
      "outputs": [
        {
          "output_type": "stream",
          "name": "stdout",
          "text": [
            "70/70 [==============================] - 0s 1ms/step\n",
            "[[ 867   89]\n",
            " [  86 1169]]\n"
          ]
        }
      ]
    },
    {
      "cell_type": "markdown",
      "source": [
        "### **Evaluando asociación entre variables**"
      ],
      "metadata": {
        "id": "KMNuCf4XPffg"
      }
    },
    {
      "cell_type": "markdown",
      "source": [
        "##### **Descubriendo asocición entre variables**"
      ],
      "metadata": {
        "id": "nwhzTfBLPhHW"
      }
    },
    {
      "cell_type": "markdown",
      "source": [
        "*   Usando coeficiente de contingencia, categóricos con categóricos"
      ],
      "metadata": {
        "id": "x1cC2aSlPlLu"
      }
    },
    {
      "cell_type": "code",
      "source": [
        "filas, columnas = x.shape\n",
        "xa = x.T\n",
        "\n",
        "from scipy.stats import chi2_contingency\n",
        "\n",
        "coeficientes = []\n",
        "for i in range(columnas):\n",
        "    column = xa[i:i+1][0]\n",
        "    nCat = len(np.unique(column))\n",
        "    contingency_table, _, _ = np.histogram2d(column, y, bins=[nCat, 2])\n",
        "\n",
        "    chi2, p_value, _, _ = chi2_contingency(contingency_table)\n",
        "    contingency_coefficient = np.sqrt(chi2 / (chi2 + np.sum(contingency_table)))\n",
        "    coeficientes.append(contingency_coefficient)\n",
        "\n",
        "# Imprimir las correlaciones\n",
        "coef = np.array(coeficientes)\n",
        "np.set_printoptions(precision=3)\n",
        "to_delete = []\n",
        "for i, coeficiente in enumerate(coeficientes):\n",
        "    print(f\"Atributo {i+1}: {coeficiente}\")\n",
        "    if(coeficiente <= 0.1): to_delete.append(i)\n",
        "\n",
        "print(to_delete)\n",
        "\n",
        "# 0 indica que no hay una asociación significativa entre las variables categóricas\n",
        "# 1 indica que hay una fuerte asociación entre las variables"
      ],
      "metadata": {
        "colab": {
          "base_uri": "https://localhost:8080/"
        },
        "id": "0zoGZ-MsPm2U",
        "outputId": "26e6b36d-e7e2-4677-b932-d2174fb4607e"
      },
      "execution_count": 22,
      "outputs": [
        {
          "output_type": "stream",
          "name": "stdout",
          "text": [
            "Atributo 1: 0.09355616501333629\n",
            "Atributo 2: 0.07210369569839527\n",
            "Atributo 3: 0.06754112040741456\n",
            "Atributo 4: 0.05261959576794588\n",
            "Atributo 5: 0.03830808106510966\n",
            "Atributo 6: 0.32895102481156885\n",
            "Atributo 7: 0.3551158617327055\n",
            "Atributo 8: 0.6139020982338753\n",
            "Atributo 9: 0.2200655967587761\n",
            "Atributo 10: 4.538728751708926e-05\n",
            "Atributo 11: 0.0361295236237102\n",
            "Atributo 12: 0.03957603482340974\n",
            "Atributo 13: 0.24544223176706928\n",
            "Atributo 14: 0.5920491604154382\n",
            "Atributo 15: 0.24607580056464806\n",
            "Atributo 16: 0.21626492794210603\n",
            "Atributo 17: 0.018010203880061013\n",
            "Atributo 18: 0.06012181889236555\n",
            "Atributo 19: 0.019824909581342014\n",
            "Atributo 20: 0.04152135182297405\n",
            "Atributo 21: 0.012203777970828977\n",
            "Atributo 22: 0.0\n",
            "Atributo 23: 0.0030777815064590677\n",
            "Atributo 24: 0.12043101605744677\n",
            "Atributo 25: 0.07530668574634693\n",
            "Atributo 26: 0.3662076032954052\n",
            "Atributo 27: 0.10387191977584892\n",
            "Atributo 28: 0.127634925329432\n",
            "Atributo 29: 0.07733973099841855\n",
            "Atributo 30: 0.07934354641445956\n",
            "[0, 1, 2, 3, 4, 9, 10, 11, 16, 17, 18, 19, 20, 21, 22, 24, 28, 29]\n"
          ]
        }
      ]
    },
    {
      "cell_type": "markdown",
      "source": [
        "##### **Elaboración de modelo sin datos algo asociados**"
      ],
      "metadata": {
        "id": "TsAILsvoPt11"
      }
    },
    {
      "cell_type": "code",
      "source": [
        "xaux = np.delete(x, to_delete, axis=1)\n",
        "\n",
        "xxd_train, xxd_eval, yxd_train, yxd_eval = train_test_split(xaux, y, test_size=0.2, random_state=42)\n",
        "\n",
        "model_xd = Sequential([\n",
        "    Dense(4, input_dim=len(xaux[0]), activation='relu'),\n",
        "    Dense(2, activation='relu'),\n",
        "    Dense(1, activation='sigmoid')\n",
        "])\n",
        "\n",
        "model_xd.compile(\n",
        "  loss='binary_crossentropy',\n",
        "  optimizer='adam',\n",
        "  metrics=['accuracy']\n",
        ")\n",
        "\n",
        "history = model_xd.fit(xxd_train, yxd_train, validation_data=(xxd_eval, yxd_eval), epochs=100, batch_size=128)"
      ],
      "metadata": {
        "colab": {
          "base_uri": "https://localhost:8080/"
        },
        "id": "kBHRqCfdPqt0",
        "outputId": "f4fcd15a-6dee-4d4e-e228-96d1816a3bb4"
      },
      "execution_count": 23,
      "outputs": [
        {
          "output_type": "stream",
          "name": "stdout",
          "text": [
            "Epoch 1/100\n",
            "70/70 [==============================] - 1s 5ms/step - loss: 0.6685 - accuracy: 0.4850 - val_loss: 0.6322 - val_accuracy: 0.7580\n",
            "Epoch 2/100\n",
            "70/70 [==============================] - 0s 2ms/step - loss: 0.5921 - accuracy: 0.8207 - val_loss: 0.5552 - val_accuracy: 0.8431\n",
            "Epoch 3/100\n",
            "70/70 [==============================] - 0s 2ms/step - loss: 0.5203 - accuracy: 0.8693 - val_loss: 0.4926 - val_accuracy: 0.8829\n",
            "Epoch 4/100\n",
            "70/70 [==============================] - 0s 3ms/step - loss: 0.4596 - accuracy: 0.8915 - val_loss: 0.4312 - val_accuracy: 0.9046\n",
            "Epoch 5/100\n",
            "70/70 [==============================] - 0s 2ms/step - loss: 0.3947 - accuracy: 0.9056 - val_loss: 0.3616 - val_accuracy: 0.9127\n",
            "Epoch 6/100\n",
            "70/70 [==============================] - 0s 3ms/step - loss: 0.3277 - accuracy: 0.9140 - val_loss: 0.2984 - val_accuracy: 0.9132\n",
            "Epoch 7/100\n",
            "70/70 [==============================] - 0s 3ms/step - loss: 0.2773 - accuracy: 0.9193 - val_loss: 0.2591 - val_accuracy: 0.9154\n",
            "Epoch 8/100\n",
            "70/70 [==============================] - 0s 2ms/step - loss: 0.2478 - accuracy: 0.9207 - val_loss: 0.2378 - val_accuracy: 0.9177\n",
            "Epoch 9/100\n",
            "70/70 [==============================] - 0s 2ms/step - loss: 0.2318 - accuracy: 0.9221 - val_loss: 0.2269 - val_accuracy: 0.9204\n",
            "Epoch 10/100\n",
            "70/70 [==============================] - 0s 2ms/step - loss: 0.2231 - accuracy: 0.9224 - val_loss: 0.2206 - val_accuracy: 0.9209\n",
            "Epoch 11/100\n",
            "70/70 [==============================] - 0s 2ms/step - loss: 0.2174 - accuracy: 0.9225 - val_loss: 0.2168 - val_accuracy: 0.9168\n",
            "Epoch 12/100\n",
            "70/70 [==============================] - 0s 3ms/step - loss: 0.2142 - accuracy: 0.9214 - val_loss: 0.2141 - val_accuracy: 0.9190\n",
            "Epoch 13/100\n",
            "70/70 [==============================] - 0s 2ms/step - loss: 0.2112 - accuracy: 0.9210 - val_loss: 0.2116 - val_accuracy: 0.9177\n",
            "Epoch 14/100\n",
            "70/70 [==============================] - 0s 3ms/step - loss: 0.2086 - accuracy: 0.9210 - val_loss: 0.2099 - val_accuracy: 0.9199\n",
            "Epoch 15/100\n",
            "70/70 [==============================] - 0s 3ms/step - loss: 0.2069 - accuracy: 0.9218 - val_loss: 0.2087 - val_accuracy: 0.9218\n",
            "Epoch 16/100\n",
            "70/70 [==============================] - 0s 2ms/step - loss: 0.2054 - accuracy: 0.9219 - val_loss: 0.2073 - val_accuracy: 0.9209\n",
            "Epoch 17/100\n",
            "70/70 [==============================] - 0s 3ms/step - loss: 0.2041 - accuracy: 0.9221 - val_loss: 0.2062 - val_accuracy: 0.9190\n",
            "Epoch 18/100\n",
            "70/70 [==============================] - 0s 3ms/step - loss: 0.2033 - accuracy: 0.9212 - val_loss: 0.2054 - val_accuracy: 0.9195\n",
            "Epoch 19/100\n",
            "70/70 [==============================] - 0s 2ms/step - loss: 0.2025 - accuracy: 0.9220 - val_loss: 0.2055 - val_accuracy: 0.9209\n",
            "Epoch 20/100\n",
            "70/70 [==============================] - 0s 3ms/step - loss: 0.2017 - accuracy: 0.9218 - val_loss: 0.2041 - val_accuracy: 0.9204\n",
            "Epoch 21/100\n",
            "70/70 [==============================] - 0s 2ms/step - loss: 0.2010 - accuracy: 0.9221 - val_loss: 0.2041 - val_accuracy: 0.9213\n",
            "Epoch 22/100\n",
            "70/70 [==============================] - 0s 3ms/step - loss: 0.2002 - accuracy: 0.9218 - val_loss: 0.2030 - val_accuracy: 0.9209\n",
            "Epoch 23/100\n",
            "70/70 [==============================] - 0s 4ms/step - loss: 0.1995 - accuracy: 0.9218 - val_loss: 0.2028 - val_accuracy: 0.9204\n",
            "Epoch 24/100\n",
            "70/70 [==============================] - 0s 4ms/step - loss: 0.1992 - accuracy: 0.9227 - val_loss: 0.2019 - val_accuracy: 0.9209\n",
            "Epoch 25/100\n",
            "70/70 [==============================] - 0s 4ms/step - loss: 0.1984 - accuracy: 0.9222 - val_loss: 0.2015 - val_accuracy: 0.9236\n",
            "Epoch 26/100\n",
            "70/70 [==============================] - 0s 4ms/step - loss: 0.1981 - accuracy: 0.9223 - val_loss: 0.2011 - val_accuracy: 0.9195\n",
            "Epoch 27/100\n",
            "70/70 [==============================] - 0s 4ms/step - loss: 0.1979 - accuracy: 0.9223 - val_loss: 0.2010 - val_accuracy: 0.9227\n",
            "Epoch 28/100\n",
            "70/70 [==============================] - 0s 4ms/step - loss: 0.1973 - accuracy: 0.9224 - val_loss: 0.2002 - val_accuracy: 0.9227\n",
            "Epoch 29/100\n",
            "70/70 [==============================] - 0s 3ms/step - loss: 0.1972 - accuracy: 0.9229 - val_loss: 0.1993 - val_accuracy: 0.9209\n",
            "Epoch 30/100\n",
            "70/70 [==============================] - 0s 4ms/step - loss: 0.1968 - accuracy: 0.9215 - val_loss: 0.1986 - val_accuracy: 0.9209\n",
            "Epoch 31/100\n",
            "70/70 [==============================] - 0s 4ms/step - loss: 0.1961 - accuracy: 0.9228 - val_loss: 0.1983 - val_accuracy: 0.9204\n",
            "Epoch 32/100\n",
            "70/70 [==============================] - 0s 4ms/step - loss: 0.1955 - accuracy: 0.9232 - val_loss: 0.1982 - val_accuracy: 0.9195\n",
            "Epoch 33/100\n",
            "70/70 [==============================] - 0s 3ms/step - loss: 0.1952 - accuracy: 0.9240 - val_loss: 0.1977 - val_accuracy: 0.9218\n",
            "Epoch 34/100\n",
            "70/70 [==============================] - 0s 2ms/step - loss: 0.1952 - accuracy: 0.9236 - val_loss: 0.1979 - val_accuracy: 0.9263\n",
            "Epoch 35/100\n",
            "70/70 [==============================] - 0s 2ms/step - loss: 0.1945 - accuracy: 0.9241 - val_loss: 0.1977 - val_accuracy: 0.9263\n",
            "Epoch 36/100\n",
            "70/70 [==============================] - 0s 3ms/step - loss: 0.1941 - accuracy: 0.9244 - val_loss: 0.1967 - val_accuracy: 0.9204\n",
            "Epoch 37/100\n",
            "70/70 [==============================] - 0s 3ms/step - loss: 0.1944 - accuracy: 0.9229 - val_loss: 0.1964 - val_accuracy: 0.9204\n",
            "Epoch 38/100\n",
            "70/70 [==============================] - 0s 3ms/step - loss: 0.1937 - accuracy: 0.9235 - val_loss: 0.1959 - val_accuracy: 0.9227\n",
            "Epoch 39/100\n",
            "70/70 [==============================] - 0s 3ms/step - loss: 0.1932 - accuracy: 0.9256 - val_loss: 0.1957 - val_accuracy: 0.9231\n",
            "Epoch 40/100\n",
            "70/70 [==============================] - 0s 2ms/step - loss: 0.1929 - accuracy: 0.9241 - val_loss: 0.1965 - val_accuracy: 0.9249\n",
            "Epoch 41/100\n",
            "70/70 [==============================] - 0s 2ms/step - loss: 0.1930 - accuracy: 0.9244 - val_loss: 0.1953 - val_accuracy: 0.9267\n",
            "Epoch 42/100\n",
            "70/70 [==============================] - 0s 3ms/step - loss: 0.1927 - accuracy: 0.9235 - val_loss: 0.1951 - val_accuracy: 0.9263\n",
            "Epoch 43/100\n",
            "70/70 [==============================] - 0s 2ms/step - loss: 0.1924 - accuracy: 0.9247 - val_loss: 0.1950 - val_accuracy: 0.9267\n",
            "Epoch 44/100\n",
            "70/70 [==============================] - 0s 3ms/step - loss: 0.1925 - accuracy: 0.9247 - val_loss: 0.1960 - val_accuracy: 0.9263\n",
            "Epoch 45/100\n",
            "70/70 [==============================] - 0s 3ms/step - loss: 0.1922 - accuracy: 0.9228 - val_loss: 0.1957 - val_accuracy: 0.9249\n",
            "Epoch 46/100\n",
            "70/70 [==============================] - 0s 3ms/step - loss: 0.1923 - accuracy: 0.9235 - val_loss: 0.1951 - val_accuracy: 0.9249\n",
            "Epoch 47/100\n",
            "70/70 [==============================] - 0s 3ms/step - loss: 0.1922 - accuracy: 0.9245 - val_loss: 0.1946 - val_accuracy: 0.9240\n",
            "Epoch 48/100\n",
            "70/70 [==============================] - 0s 3ms/step - loss: 0.1923 - accuracy: 0.9225 - val_loss: 0.1948 - val_accuracy: 0.9236\n",
            "Epoch 49/100\n",
            "70/70 [==============================] - 0s 2ms/step - loss: 0.1918 - accuracy: 0.9235 - val_loss: 0.1948 - val_accuracy: 0.9231\n",
            "Epoch 50/100\n",
            "70/70 [==============================] - 0s 2ms/step - loss: 0.1920 - accuracy: 0.9224 - val_loss: 0.1949 - val_accuracy: 0.9249\n",
            "Epoch 51/100\n",
            "70/70 [==============================] - 0s 3ms/step - loss: 0.1917 - accuracy: 0.9233 - val_loss: 0.1941 - val_accuracy: 0.9231\n",
            "Epoch 52/100\n",
            "70/70 [==============================] - 0s 3ms/step - loss: 0.1917 - accuracy: 0.9249 - val_loss: 0.1940 - val_accuracy: 0.9254\n",
            "Epoch 53/100\n",
            "70/70 [==============================] - 0s 3ms/step - loss: 0.1916 - accuracy: 0.9239 - val_loss: 0.1937 - val_accuracy: 0.9245\n",
            "Epoch 54/100\n",
            "70/70 [==============================] - 0s 3ms/step - loss: 0.1917 - accuracy: 0.9236 - val_loss: 0.1935 - val_accuracy: 0.9240\n",
            "Epoch 55/100\n",
            "70/70 [==============================] - 0s 3ms/step - loss: 0.1916 - accuracy: 0.9232 - val_loss: 0.1936 - val_accuracy: 0.9227\n",
            "Epoch 56/100\n",
            "70/70 [==============================] - 0s 3ms/step - loss: 0.1916 - accuracy: 0.9230 - val_loss: 0.1950 - val_accuracy: 0.9272\n",
            "Epoch 57/100\n",
            "70/70 [==============================] - 0s 3ms/step - loss: 0.1913 - accuracy: 0.9231 - val_loss: 0.1942 - val_accuracy: 0.9267\n",
            "Epoch 58/100\n",
            "70/70 [==============================] - 0s 3ms/step - loss: 0.1915 - accuracy: 0.9227 - val_loss: 0.1936 - val_accuracy: 0.9249\n",
            "Epoch 59/100\n",
            "70/70 [==============================] - 0s 3ms/step - loss: 0.1914 - accuracy: 0.9237 - val_loss: 0.1932 - val_accuracy: 0.9263\n",
            "Epoch 60/100\n",
            "70/70 [==============================] - 0s 3ms/step - loss: 0.1910 - accuracy: 0.9237 - val_loss: 0.1934 - val_accuracy: 0.9204\n",
            "Epoch 61/100\n",
            "70/70 [==============================] - 0s 3ms/step - loss: 0.1912 - accuracy: 0.9222 - val_loss: 0.1931 - val_accuracy: 0.9231\n",
            "Epoch 62/100\n",
            "70/70 [==============================] - 0s 2ms/step - loss: 0.1911 - accuracy: 0.9238 - val_loss: 0.1935 - val_accuracy: 0.9263\n",
            "Epoch 63/100\n",
            "70/70 [==============================] - 0s 3ms/step - loss: 0.1911 - accuracy: 0.9236 - val_loss: 0.1929 - val_accuracy: 0.9263\n",
            "Epoch 64/100\n",
            "70/70 [==============================] - 0s 3ms/step - loss: 0.1910 - accuracy: 0.9233 - val_loss: 0.1928 - val_accuracy: 0.9263\n",
            "Epoch 65/100\n",
            "70/70 [==============================] - 0s 3ms/step - loss: 0.1911 - accuracy: 0.9244 - val_loss: 0.1929 - val_accuracy: 0.9236\n",
            "Epoch 66/100\n",
            "70/70 [==============================] - 0s 2ms/step - loss: 0.1914 - accuracy: 0.9232 - val_loss: 0.1929 - val_accuracy: 0.9258\n",
            "Epoch 67/100\n",
            "70/70 [==============================] - 0s 3ms/step - loss: 0.1912 - accuracy: 0.9233 - val_loss: 0.1931 - val_accuracy: 0.9258\n",
            "Epoch 68/100\n",
            "70/70 [==============================] - 0s 2ms/step - loss: 0.1908 - accuracy: 0.9231 - val_loss: 0.1927 - val_accuracy: 0.9258\n",
            "Epoch 69/100\n",
            "70/70 [==============================] - 0s 3ms/step - loss: 0.1909 - accuracy: 0.9221 - val_loss: 0.1934 - val_accuracy: 0.9267\n",
            "Epoch 70/100\n",
            "70/70 [==============================] - 0s 3ms/step - loss: 0.1905 - accuracy: 0.9236 - val_loss: 0.1931 - val_accuracy: 0.9204\n",
            "Epoch 71/100\n",
            "70/70 [==============================] - 0s 3ms/step - loss: 0.1911 - accuracy: 0.9230 - val_loss: 0.1929 - val_accuracy: 0.9263\n",
            "Epoch 72/100\n",
            "70/70 [==============================] - 0s 3ms/step - loss: 0.1909 - accuracy: 0.9231 - val_loss: 0.1927 - val_accuracy: 0.9258\n",
            "Epoch 73/100\n",
            "70/70 [==============================] - 0s 2ms/step - loss: 0.1906 - accuracy: 0.9246 - val_loss: 0.1924 - val_accuracy: 0.9263\n",
            "Epoch 74/100\n",
            "70/70 [==============================] - 0s 3ms/step - loss: 0.1910 - accuracy: 0.9236 - val_loss: 0.1933 - val_accuracy: 0.9263\n",
            "Epoch 75/100\n",
            "70/70 [==============================] - 0s 2ms/step - loss: 0.1910 - accuracy: 0.9239 - val_loss: 0.1927 - val_accuracy: 0.9227\n",
            "Epoch 76/100\n",
            "70/70 [==============================] - 0s 3ms/step - loss: 0.1908 - accuracy: 0.9229 - val_loss: 0.1924 - val_accuracy: 0.9222\n",
            "Epoch 77/100\n",
            "70/70 [==============================] - 0s 2ms/step - loss: 0.1907 - accuracy: 0.9233 - val_loss: 0.1926 - val_accuracy: 0.9258\n",
            "Epoch 78/100\n",
            "70/70 [==============================] - 0s 3ms/step - loss: 0.1906 - accuracy: 0.9236 - val_loss: 0.1929 - val_accuracy: 0.9258\n",
            "Epoch 79/100\n",
            "70/70 [==============================] - 0s 2ms/step - loss: 0.1908 - accuracy: 0.9221 - val_loss: 0.1925 - val_accuracy: 0.9263\n",
            "Epoch 80/100\n",
            "70/70 [==============================] - 0s 2ms/step - loss: 0.1906 - accuracy: 0.9233 - val_loss: 0.1926 - val_accuracy: 0.9240\n",
            "Epoch 81/100\n",
            "70/70 [==============================] - 0s 3ms/step - loss: 0.1907 - accuracy: 0.9229 - val_loss: 0.1926 - val_accuracy: 0.9258\n",
            "Epoch 82/100\n",
            "70/70 [==============================] - 0s 4ms/step - loss: 0.1907 - accuracy: 0.9229 - val_loss: 0.1929 - val_accuracy: 0.9258\n",
            "Epoch 83/100\n",
            "70/70 [==============================] - 0s 4ms/step - loss: 0.1905 - accuracy: 0.9242 - val_loss: 0.1923 - val_accuracy: 0.9240\n",
            "Epoch 84/100\n",
            "70/70 [==============================] - 0s 4ms/step - loss: 0.1906 - accuracy: 0.9233 - val_loss: 0.1923 - val_accuracy: 0.9213\n",
            "Epoch 85/100\n",
            "70/70 [==============================] - 0s 4ms/step - loss: 0.1905 - accuracy: 0.9229 - val_loss: 0.1929 - val_accuracy: 0.9267\n",
            "Epoch 86/100\n",
            "70/70 [==============================] - 0s 3ms/step - loss: 0.1905 - accuracy: 0.9232 - val_loss: 0.1924 - val_accuracy: 0.9222\n",
            "Epoch 87/100\n",
            "70/70 [==============================] - 0s 4ms/step - loss: 0.1905 - accuracy: 0.9236 - val_loss: 0.1927 - val_accuracy: 0.9258\n",
            "Epoch 88/100\n",
            "70/70 [==============================] - 0s 4ms/step - loss: 0.1907 - accuracy: 0.9227 - val_loss: 0.1926 - val_accuracy: 0.9258\n",
            "Epoch 89/100\n",
            "70/70 [==============================] - 0s 4ms/step - loss: 0.1906 - accuracy: 0.9230 - val_loss: 0.1924 - val_accuracy: 0.9258\n",
            "Epoch 90/100\n",
            "70/70 [==============================] - 0s 4ms/step - loss: 0.1904 - accuracy: 0.9237 - val_loss: 0.1924 - val_accuracy: 0.9263\n",
            "Epoch 91/100\n",
            "70/70 [==============================] - 0s 4ms/step - loss: 0.1906 - accuracy: 0.9235 - val_loss: 0.1921 - val_accuracy: 0.9222\n",
            "Epoch 92/100\n",
            "70/70 [==============================] - 0s 3ms/step - loss: 0.1905 - accuracy: 0.9238 - val_loss: 0.1923 - val_accuracy: 0.9204\n",
            "Epoch 93/100\n",
            "70/70 [==============================] - 0s 3ms/step - loss: 0.1905 - accuracy: 0.9227 - val_loss: 0.1922 - val_accuracy: 0.9263\n",
            "Epoch 94/100\n",
            "70/70 [==============================] - 0s 3ms/step - loss: 0.1903 - accuracy: 0.9241 - val_loss: 0.1922 - val_accuracy: 0.9263\n",
            "Epoch 95/100\n",
            "70/70 [==============================] - 0s 3ms/step - loss: 0.1904 - accuracy: 0.9240 - val_loss: 0.1924 - val_accuracy: 0.9258\n",
            "Epoch 96/100\n",
            "70/70 [==============================] - 0s 3ms/step - loss: 0.1904 - accuracy: 0.9237 - val_loss: 0.1924 - val_accuracy: 0.9258\n",
            "Epoch 97/100\n",
            "70/70 [==============================] - 0s 3ms/step - loss: 0.1903 - accuracy: 0.9238 - val_loss: 0.1920 - val_accuracy: 0.9258\n",
            "Epoch 98/100\n",
            "70/70 [==============================] - 0s 3ms/step - loss: 0.1904 - accuracy: 0.9235 - val_loss: 0.1921 - val_accuracy: 0.9258\n",
            "Epoch 99/100\n",
            "70/70 [==============================] - 0s 3ms/step - loss: 0.1906 - accuracy: 0.9241 - val_loss: 0.1924 - val_accuracy: 0.9258\n",
            "Epoch 100/100\n",
            "70/70 [==============================] - 0s 3ms/step - loss: 0.1901 - accuracy: 0.9245 - val_loss: 0.1921 - val_accuracy: 0.9263\n"
          ]
        }
      ]
    },
    {
      "cell_type": "markdown",
      "source": [
        "##### **Evaluación de modelo sin datos algo asociados**"
      ],
      "metadata": {
        "id": "44N5FUlmPy-D"
      }
    },
    {
      "cell_type": "code",
      "source": [
        "_, accuracy = model_xd.evaluate(xxd_eval, yxd_eval)\n",
        "print(\"Accuracy: {:.2f}%\".format(accuracy * 100))"
      ],
      "metadata": {
        "colab": {
          "base_uri": "https://localhost:8080/"
        },
        "id": "W2Wgrc2UPzZo",
        "outputId": "1c5beee2-0170-4d67-a95b-50f57d5fbd27"
      },
      "execution_count": 24,
      "outputs": [
        {
          "output_type": "stream",
          "name": "stdout",
          "text": [
            "70/70 [==============================] - 0s 1ms/step - loss: 0.1921 - accuracy: 0.9263\n",
            "Accuracy: 92.63%\n"
          ]
        }
      ]
    },
    {
      "cell_type": "code",
      "source": [
        "plt.title(\"Gráfica de loss\")\n",
        "plt.xlabel(\"Época\")\n",
        "plt.ylabel(\"Loss\")\n",
        "plt.plot(history.history[\"loss\"])\n",
        "plt.plot(history.history[\"val_loss\"])\n",
        "plt.legend([\"Entrenamiento\", \"Validación\"], loc=\"upper right\")"
      ],
      "metadata": {
        "colab": {
          "base_uri": "https://localhost:8080/",
          "height": 491
        },
        "id": "4opnbzY6P0lp",
        "outputId": "ebfebc24-6976-494b-b22e-d2d0ce7f4f92"
      },
      "execution_count": 25,
      "outputs": [
        {
          "output_type": "execute_result",
          "data": {
            "text/plain": [
              "<matplotlib.legend.Legend at 0x7f984262fa90>"
            ]
          },
          "metadata": {},
          "execution_count": 25
        },
        {
          "output_type": "display_data",
          "data": {
            "text/plain": [
              "<Figure size 640x480 with 1 Axes>"
            ],
            "image/png": "[encoded data removed]"
          },
          "metadata": {}
        }
      ]
    },
    {
      "cell_type": "code",
      "source": [
        "plt.title(\"Gráfica de accuracy\")\n",
        "plt.xlabel(\"Época\")\n",
        "plt.ylabel(\"Accuracy\")\n",
        "plt.plot(history.history[\"accuracy\"])\n",
        "plt.plot(history.history[\"val_accuracy\"])\n",
        "plt.legend([\"Entrenamiento\", \"Validación\"], loc=\"lower right\")"
      ],
      "metadata": {
        "colab": {
          "base_uri": "https://localhost:8080/",
          "height": 491
        },
        "id": "8y1l_tWrP1jw",
        "outputId": "950f4dad-15e9-468b-b2a9-b1e6467d5645"
      },
      "execution_count": 26,
      "outputs": [
        {
          "output_type": "execute_result",
          "data": {
            "text/plain": [
              "<matplotlib.legend.Legend at 0x7f98422ab2e0>"
            ]
          },
          "metadata": {},
          "execution_count": 26
        },
        {
          "output_type": "display_data",
          "data": {
            "text/plain": [
              "<Figure size 640x480 with 1 Axes>"
            ],
            "image/png": "[encoded data removed]"
          },
          "metadata": {}
        }
      ]
    }
  ],
  "metadata": {
    "colab": {
      "provenance": []
    },
    "kernelspec": {
      "display_name": "Python 3",
      "name": "python3"
    },
    "language_info": {
      "name": "python"
    }
  },
  "nbformat": 4,
  "nbformat_minor": 0
}